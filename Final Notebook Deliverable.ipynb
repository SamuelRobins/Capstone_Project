{
 "cells": [
  {
   "cell_type": "markdown",
   "metadata": {},
   "source": [
    "Used car sales analysis"
   ]
  },
  {
   "cell_type": "markdown",
   "metadata": {},
   "source": [
    "This project is designed for the automobile industry. It is for those who sell used cars. I have acquired data on used cars. I have also built a model that learns from that data by analyzing the features of those cars. The model I created can predict how much a used car will see for based on the features of that car such as the company, the engine time, the amount of miles on the car, ect... This will help car dealers know how much a prospective car will sell for once they acquire it. The market for used cars is very subjective so it is likley they will find a car that they can acquire for less than the model predicts they can sell it for, and then they can sell the car for the predicted price. I am confident in this perspective because our model has demonstrated a strong understanding of the data with the testing that I have done."
   ]
  },
  {
   "cell_type": "markdown",
   "metadata": {},
   "source": [
    "The Data"
   ]
  },
  {
   "cell_type": "markdown",
   "metadata": {},
   "source": [
    "I got the data from Kaggle.com. It was created by scraping multiple websites of car data. It contains 973 entries of used cars. It tells there features and how much they sold for. There sales price was my target feature.\n",
    "---------------------------------------------------------------------------------------------------------------------------------\n"
   ]
  },
  {
   "cell_type": "markdown",
   "metadata": {},
   "source": [
    "Running my imports for Pandas, different models, my scaler, splitting the data, and matplot lib for doing data visualization"
   ]
  },
  {
   "cell_type": "code",
   "execution_count": 2,
   "metadata": {},
   "outputs": [],
   "source": [
    "import numpy as np\n",
    "import scipy.stats as stats\n",
    "import sklearn\n",
    "import pandas as pd\n",
    "import statsmodels.api as sm\n",
    "import matplotlib.pyplot as plt\n",
    "from sklearn.preprocessing import StandardScaler, OneHotEncoder, OrdinalEncoder\n",
    "import seaborn as sns\n",
    "from matplotlib.ticker import FuncFormatter\n",
    "from sklearn.linear_model import LinearRegression\n",
    "from sklearn.tree import DecisionTreeRegressor\n",
    "from sklearn.model_selection import train_test_split, cross_validate, GridSearchCV"
   ]
  },
  {
   "cell_type": "code",
   "execution_count": 3,
   "metadata": {},
   "outputs": [],
   "source": [
    "pd.set_option('display.float_format', lambda x: '%.2f' % x)"
   ]
  },
  {
   "cell_type": "markdown",
   "metadata": {},
   "source": [
    "Looking at the organization of my files with ls"
   ]
  },
  {
   "cell_type": "code",
   "execution_count": 4,
   "metadata": {},
   "outputs": [
    {
     "name": "stdout",
     "output_type": "stream",
     "text": [
      " \u001b[0m\u001b[01;34mdata\u001b[0m/  'Final Notebook Deliverable.ipynb'   README.md\r\n"
     ]
    }
   ],
   "source": [
    "ls\n"
   ]
  },
  {
   "cell_type": "markdown",
   "metadata": {},
   "source": [
    "Loading in the data file as a data frame with pandas"
   ]
  },
  {
   "cell_type": "code",
   "execution_count": 5,
   "metadata": {},
   "outputs": [],
   "source": [
    "df = pd.read_csv('data/archive/FINAL_SPINNY_900.csv')"
   ]
  },
  {
   "cell_type": "markdown",
   "metadata": {},
   "source": [
    "Looking at a preview of the data"
   ]
  },
  {
   "cell_type": "code",
   "execution_count": 6,
   "metadata": {},
   "outputs": [
    {
     "data": {
      "text/html": [
       "<div>\n",
       "<style scoped>\n",
       "    .dataframe tbody tr th:only-of-type {\n",
       "        vertical-align: middle;\n",
       "    }\n",
       "\n",
       "    .dataframe tbody tr th {\n",
       "        vertical-align: top;\n",
       "    }\n",
       "\n",
       "    .dataframe thead th {\n",
       "        text-align: right;\n",
       "    }\n",
       "</style>\n",
       "<table border=\"1\" class=\"dataframe\">\n",
       "  <thead>\n",
       "    <tr style=\"text-align: right;\">\n",
       "      <th></th>\n",
       "      <th>Car_Name</th>\n",
       "      <th>Make</th>\n",
       "      <th>Model</th>\n",
       "      <th>Make_Year</th>\n",
       "      <th>Color</th>\n",
       "      <th>Body_Type</th>\n",
       "      <th>Mileage_Run</th>\n",
       "      <th>No_of_Owners</th>\n",
       "      <th>Seating_Capacity</th>\n",
       "      <th>Fuel_Type</th>\n",
       "      <th>Fuel_Tank_Capacity(L)</th>\n",
       "      <th>Engine_Type</th>\n",
       "      <th>CC_Displacement</th>\n",
       "      <th>Transmission</th>\n",
       "      <th>Transmission_Type</th>\n",
       "      <th>Power(BHP)</th>\n",
       "      <th>Torque(Nm)</th>\n",
       "      <th>Mileage(kmpl)</th>\n",
       "      <th>Emission</th>\n",
       "      <th>Price</th>\n",
       "    </tr>\n",
       "  </thead>\n",
       "  <tbody>\n",
       "    <tr>\n",
       "      <th>0</th>\n",
       "      <td>Volkswagen Ameo [2016-2017] Highline 1.5L AT (D)</td>\n",
       "      <td>Volkswagen</td>\n",
       "      <td>Ameo</td>\n",
       "      <td>2017</td>\n",
       "      <td>silver</td>\n",
       "      <td>sedan</td>\n",
       "      <td>44611</td>\n",
       "      <td>1st</td>\n",
       "      <td>5</td>\n",
       "      <td>diesel</td>\n",
       "      <td>45</td>\n",
       "      <td>1.5L TDI Engine</td>\n",
       "      <td>1498</td>\n",
       "      <td>7-Speed</td>\n",
       "      <td>Automatic</td>\n",
       "      <td>109.00</td>\n",
       "      <td>250.00</td>\n",
       "      <td>21.66</td>\n",
       "      <td>BS IV</td>\n",
       "      <td>6,57,000</td>\n",
       "    </tr>\n",
       "    <tr>\n",
       "      <th>1</th>\n",
       "      <td>Hyundai i20 Active [2015-2020] 1.2 SX</td>\n",
       "      <td>Hyundai</td>\n",
       "      <td>i20 Active</td>\n",
       "      <td>2016</td>\n",
       "      <td>red</td>\n",
       "      <td>crossover</td>\n",
       "      <td>20305</td>\n",
       "      <td>1st</td>\n",
       "      <td>5</td>\n",
       "      <td>petrol</td>\n",
       "      <td>45</td>\n",
       "      <td>1.2L Kappa 5 Speed Manual Transmission</td>\n",
       "      <td>1197</td>\n",
       "      <td>5-Speed</td>\n",
       "      <td>Manual</td>\n",
       "      <td>82.00</td>\n",
       "      <td>115.00</td>\n",
       "      <td>17.19</td>\n",
       "      <td>BS V</td>\n",
       "      <td>6,82,000</td>\n",
       "    </tr>\n",
       "    <tr>\n",
       "      <th>2</th>\n",
       "      <td>Honda WR-V VX i-VTEC</td>\n",
       "      <td>Honda</td>\n",
       "      <td>WR-V</td>\n",
       "      <td>2019</td>\n",
       "      <td>white</td>\n",
       "      <td>suv</td>\n",
       "      <td>29540</td>\n",
       "      <td>2nd</td>\n",
       "      <td>5</td>\n",
       "      <td>petrol</td>\n",
       "      <td>40</td>\n",
       "      <td>i-VTEC Petrol engine</td>\n",
       "      <td>1199</td>\n",
       "      <td>5-Speed</td>\n",
       "      <td>Manual</td>\n",
       "      <td>88.50</td>\n",
       "      <td>110.00</td>\n",
       "      <td>16.50</td>\n",
       "      <td>BS IV</td>\n",
       "      <td>7,93,000</td>\n",
       "    </tr>\n",
       "    <tr>\n",
       "      <th>3</th>\n",
       "      <td>Renault Kwid 1.0 RXT AMT</td>\n",
       "      <td>Renault</td>\n",
       "      <td>Kwid</td>\n",
       "      <td>2017</td>\n",
       "      <td>bronze</td>\n",
       "      <td>hatchback</td>\n",
       "      <td>35680</td>\n",
       "      <td>1st</td>\n",
       "      <td>5</td>\n",
       "      <td>petrol</td>\n",
       "      <td>28</td>\n",
       "      <td>1.0L</td>\n",
       "      <td>999</td>\n",
       "      <td>5-Speed</td>\n",
       "      <td>Manual</td>\n",
       "      <td>67.00</td>\n",
       "      <td>91.00</td>\n",
       "      <td>21.70</td>\n",
       "      <td>BS IV</td>\n",
       "      <td>4,14,000</td>\n",
       "    </tr>\n",
       "    <tr>\n",
       "      <th>4</th>\n",
       "      <td>Hyundai Grand i10 [2017-2020] Asta 1.2 Kappa VTVT</td>\n",
       "      <td>Hyundai</td>\n",
       "      <td>Grand i10</td>\n",
       "      <td>2017</td>\n",
       "      <td>orange</td>\n",
       "      <td>hatchback</td>\n",
       "      <td>25126</td>\n",
       "      <td>1st</td>\n",
       "      <td>5</td>\n",
       "      <td>petrol</td>\n",
       "      <td>43</td>\n",
       "      <td>Kappa VTVT Petrol Engine</td>\n",
       "      <td>1197</td>\n",
       "      <td>5-Speed</td>\n",
       "      <td>Manual</td>\n",
       "      <td>81.86</td>\n",
       "      <td>113.75</td>\n",
       "      <td>18.90</td>\n",
       "      <td>BS V</td>\n",
       "      <td>5,15,000</td>\n",
       "    </tr>\n",
       "  </tbody>\n",
       "</table>\n",
       "</div>"
      ],
      "text/plain": [
       "                                            Car_Name        Make       Model  \\\n",
       "0   Volkswagen Ameo [2016-2017] Highline 1.5L AT (D)  Volkswagen        Ameo   \n",
       "1              Hyundai i20 Active [2015-2020] 1.2 SX     Hyundai  i20 Active   \n",
       "2                               Honda WR-V VX i-VTEC       Honda        WR-V   \n",
       "3                           Renault Kwid 1.0 RXT AMT     Renault        Kwid   \n",
       "4  Hyundai Grand i10 [2017-2020] Asta 1.2 Kappa VTVT     Hyundai   Grand i10   \n",
       "\n",
       "   Make_Year   Color  Body_Type  Mileage_Run No_of_Owners  Seating_Capacity  \\\n",
       "0       2017  silver      sedan        44611          1st                 5   \n",
       "1       2016     red  crossover        20305          1st                 5   \n",
       "2       2019   white        suv        29540          2nd                 5   \n",
       "3       2017  bronze  hatchback        35680          1st                 5   \n",
       "4       2017  orange  hatchback        25126          1st                 5   \n",
       "\n",
       "  Fuel_Type  Fuel_Tank_Capacity(L)                             Engine_Type  \\\n",
       "0    diesel                     45                         1.5L TDI Engine   \n",
       "1    petrol                     45  1.2L Kappa 5 Speed Manual Transmission   \n",
       "2    petrol                     40                    i-VTEC Petrol engine   \n",
       "3    petrol                     28                                    1.0L   \n",
       "4    petrol                     43                Kappa VTVT Petrol Engine   \n",
       "\n",
       "   CC_Displacement Transmission Transmission_Type  Power(BHP)  Torque(Nm)  \\\n",
       "0             1498      7-Speed         Automatic      109.00      250.00   \n",
       "1             1197      5-Speed            Manual       82.00      115.00   \n",
       "2             1199      5-Speed            Manual       88.50      110.00   \n",
       "3              999      5-Speed            Manual       67.00       91.00   \n",
       "4             1197      5-Speed            Manual       81.86      113.75   \n",
       "\n",
       "   Mileage(kmpl) Emission     Price  \n",
       "0          21.66    BS IV  6,57,000  \n",
       "1          17.19     BS V  6,82,000  \n",
       "2          16.50    BS IV  7,93,000  \n",
       "3          21.70    BS IV  4,14,000  \n",
       "4          18.90     BS V  5,15,000  "
      ]
     },
     "execution_count": 6,
     "metadata": {},
     "output_type": "execute_result"
    }
   ],
   "source": [
    "df.head()"
   ]
  },
  {
   "cell_type": "markdown",
   "metadata": {},
   "source": [
    "Looking at Emission values to potentialy change the to numerical values (int)"
   ]
  },
  {
   "cell_type": "code",
   "execution_count": 7,
   "metadata": {
    "scrolled": true
   },
   "outputs": [
    {
     "data": {
      "text/plain": [
       "BS IV     588\n",
       "BS V      303\n",
       "BS III     82\n",
       "Name: Emission, dtype: int64"
      ]
     },
     "execution_count": 7,
     "metadata": {},
     "output_type": "execute_result"
    }
   ],
   "source": [
    "df[\"Emission\"].value_counts()"
   ]
  },
  {
   "cell_type": "markdown",
   "metadata": {},
   "source": [
    "Looking at the values in price column"
   ]
  },
  {
   "cell_type": "code",
   "execution_count": 8,
   "metadata": {},
   "outputs": [
    {
     "data": {
      "text/plain": [
       "array(['6,57,000', '6,82,000', '7,93,000', '4,14,000', '5,15,000',\n",
       "       '6,04,000', '3,16,000', '14,19,000', '7,10,000', '3,92,000',\n",
       "       '6,13,000', '5,98,000', '9,69,000', '21,00,000', '6,66,000',\n",
       "       '10,39,000', '8,58,000', '8,60,000', '6,80,000', '6,25,000',\n",
       "       '5,67,000', '3,71,000', '10,76,000', '5,87,000', '3,96,000',\n",
       "       '5,54,000', '9,84,000', '5,07,000', '5,86,000', '6,39,000',\n",
       "       '2,37,000', '5,36,000', '4,56,000', '11,07,000', '5,71,000',\n",
       "       '5,87,000', '6,29,000', '7,18,000', '3,96,000', '8,77,000',\n",
       "       '7,74,000', '5,54,000', '8,29,000', '5,30,000', '3,67,000',\n",
       "       '5,50,000', '6,60,000', '9,98,000', '10,12,000', '15,37,000',\n",
       "       '9,08,000', '5,08,000', '4,17,000', '7,25,000', '9,80,000',\n",
       "       '7,96,000', '4,35,000', '5,54,000', '4,81,000', '4,42,000',\n",
       "       '5,30,000', '7,59,000', '4,55,000', '19,72,000', '11,38,000',\n",
       "       '9,20,000', '17,42,000', '5,68,000', '4,19,000', '4,76,000',\n",
       "       '5,77,000', '5,41,000', '7,30,000', '18,75,000', '6,22,000',\n",
       "       '9,37,000', '6,25,000', '6,09,000', '5,71,000', '4,12,000',\n",
       "       '6,38,000', '8,07,000', '5,90,000', '6,51,000', '6,94,000',\n",
       "       '13,64,000', '7,83,000', '6,28,000', '8,85,000', '7,24,000',\n",
       "       '4,70,000', '10,85,000', '6,20,000', '6,59,000', '9,53,000',\n",
       "       '11,73,000', '4,57,000', '4,61,000', '4,71,000', '9,02,000',\n",
       "       '7,91,000', '5,06,000', '5,94,000', '3,62,000', '9,14,000',\n",
       "       '5,44,000', '5,13,000', '7,37,000', '6,64,000', '10,27,000',\n",
       "       '5,75,000', '8,42,000', '7,42,000', '10,71,000', '10,44,000',\n",
       "       '6,39,000', '16,49,000', '3,92,000', '6,26,000', '3,20,000',\n",
       "       '5,79,000', '6,08,000', '7,73,000', '6,15,000', '5,19,000',\n",
       "       '8,69,000', '13,99,000', '3,56,000', '5,62,000', '5,22,000',\n",
       "       '6,99,000', '5,10,000', '5,12,000', '6,58,000', '3,69,000',\n",
       "       '9,66,000', '9,32,000', '3,88,000', '4,89,000', '9,26,000',\n",
       "       '17,09,000', '10,39,000', '17,70,000', '11,63,000', '13,49,000',\n",
       "       '17,05,000', '7,39,000', '6,00,000', '10,39,000', '9,50,000',\n",
       "       '7,48,000', '8,20,000', '6,45,000', '5,70,000', '17,64,000',\n",
       "       '6,77,000', '8,37,000', '18,26,000', '12,90,000', '15,59,000',\n",
       "       '5,23,000', '9,42,000', '7,25,000', '7,11,000', '9,74,000',\n",
       "       '6,08,000', '2,73,000', '3,04,000', '3,61,000', '3,65,000',\n",
       "       '6,16,000', '6,90,000', '7,49,000', '6,19,000', '5,47,000',\n",
       "       '5,79,000', '6,86,000', '6,79,000', '4,00,000', '6,12,000',\n",
       "       '16,44,000', '3,42,000', '7,90,000', '3,60,000', '2,76,000',\n",
       "       '3,52,000', '3,63,000', '3,33,000', '5,89,000', '7,35,000',\n",
       "       '7,90,000', '11,17,000', '6,60,000', '6,78,000', '8,57,000',\n",
       "       '4,83,000', '2,48,000', '15,00,000', '7,59,000', '3,36,000',\n",
       "       '6,77,000', '7,11,000', '10,99,000', '10,99,000', '10,99,000',\n",
       "       '10,99,000', '10,78,000', '3,48,000', '6,59,000', '5,01,000',\n",
       "       '10,13,000', '17,41,000', '8,29,000', '4,96,000', '2,69,000',\n",
       "       '9,27,000', '4,51,000', '5,32,000', '3,38,000', '10,32,000',\n",
       "       '5,57,000', '6,53,000', '8,98,000', '9,12,000', '6,42,000',\n",
       "       '6,51,000', '5,03,000', '3,30,000', '3,95,000', '12,35,000',\n",
       "       '8,08,000', '4,58,000', '5,14,000', '5,12,000', '29,41,000',\n",
       "       '13,46,000', '8,44,000', '8,44,000', '8,44,000', '8,44,000',\n",
       "       '7,89,000', '5,70,000', '6,39,000', '4,70,000', '4,54,000',\n",
       "       '6,18,000', '5,48,000', '7,10,000', '6,21,000', '12,90,000',\n",
       "       '12,90,000', '12,90,000', '12,90,000', '7,48,000', '2,67,000',\n",
       "       '3,68,000', '11,37,000', '6,99,000', '5,44,000', '9,82,000',\n",
       "       '6,11,000', '9,41,000', '5,34,000', '5,84,000', '8,27,000',\n",
       "       '6,81,000', '6,81,000', '6,81,000', '6,81,000', '5,80,000',\n",
       "       '7,46,000', '4,52,000', '2,39,000', '4,53,000', '5,21,000',\n",
       "       '7,80,000', '6,94,000', '6,98,000', '4,26,000', '9,89,000',\n",
       "       '9,40,000', '5,56,000', '7,85,000', '10,77,000', '4,64,000',\n",
       "       '5,89,000', '5,89,000', '5,89,000', '5,89,000', '5,74,000',\n",
       "       '6,55,000', '9,20,000', '4,88,000', '5,48,000', '5,28,000',\n",
       "       '5,27,000', '9,52,000', '3,40,000', '7,90,000', '7,90,000',\n",
       "       '7,90,000', '7,90,000', '7,65,000', '4,20,000', '8,00,000',\n",
       "       '4,86,000', '14,65,000', '3,48,000', '8,92,000', '4,51,000',\n",
       "       '4,03,000', '3,38,000', '8,06,000', '6,34,000', '6,54,000',\n",
       "       '8,82,000', '11,96,000', '6,69,000', '5,89,000', '19,12,000',\n",
       "       '6,28,000', '8,12,000', '9,14,000', '11,12,000', '8,10,000',\n",
       "       '5,30,000', '4,55,000', '4,98,000', '4,03,000', '3,80,000',\n",
       "       '10,92,000', '10,92,000', '10,92,000', '10,92,000', '4,57,000',\n",
       "       '8,13,000', '8,20,000', '5,02,000', '4,14,000', '3,91,000',\n",
       "       '4,33,000', '3,72,000', '3,84,000', '7,84,000', '9,71,000',\n",
       "       '6,55,000', '5,39,000', '4,70,000', '7,90,000', '4,15,000',\n",
       "       '3,68,000', '4,57,000', '8,94,000', '3,38,000', '3,42,000',\n",
       "       '9,86,000', '6,37,000', '6,88,000', '8,16,000', '6,44,000',\n",
       "       '6,44,000', '6,44,000', '6,44,000', '10,86,000', '10,86,000',\n",
       "       '10,86,000', '10,86,000', '6,74,000', '3,50,000', '12,13,000',\n",
       "       '2,75,000', '5,33,000', '8,24,000', '8,05,000', '10,98,000',\n",
       "       '7,95,000', '4,06,000', '7,20,000', '7,32,000', '4,06,000',\n",
       "       '6,22,000', '7,42,000', '6,99,000', '4,26,000', '2,84,000',\n",
       "       '5,74,000', '6,99,000', '6,05,000', '11,04,000', '4,51,000',\n",
       "       '6,33,000', '18,48,000', '18,48,000', '18,48,000', '18,48,000',\n",
       "       '9,43,000', '7,09,000', '4,02,000', '6,46,000', '3,34,000',\n",
       "       '4,96,000', '7,35,000', '4,87,000', '4,10,000', '7,66,000',\n",
       "       '16,47,000', '3,11,000', '3,91,000', '8,70,000', '3,23,000',\n",
       "       '5,98,000', '5,89,000', '4,64,000', '7,02,000', '4,72,000',\n",
       "       '3,53,000', '4,02,000', '9,77,000', '3,58,000', '3,99,000',\n",
       "       '8,36,000', '8,03,000', '4,10,000', '7,95,000', '12,66,000',\n",
       "       '3,43,000', '3,62,000', '3,00,000', '6,94,000', '4,84,000',\n",
       "       '10,01,000', '3,84,000', '8,58,000', '4,82,000', '5,81,000',\n",
       "       '3,20,000', '11,76,000', '12,74,000', '3,62,000', '4,89,000',\n",
       "       '8,15,000', '10,64,000', '3,89,000', '7,15,000', '6,28,000',\n",
       "       '3,17,000', '7,29,000', '3,96,000', '9,49,000', '4,53,000',\n",
       "       '8,98,000', '2,81,000', '6,28,000', '7,13,000', '3,38,000',\n",
       "       '4,45,000', '4,47,000', '6,20,000', '5,24,000', '10,47,000',\n",
       "       '4,44,000', '9,06,000', '6,86,000', '3,72,000', '6,84,000',\n",
       "       '3,52,000', '3,92,000', '4,89,000', '5,51,000', '6,88,000',\n",
       "       '15,49,000', '7,10,000', '3,08,000', '8,48,000', '7,87,000',\n",
       "       '6,38,000', '5,28,000', '6,06,000', '4,42,000', '8,59,000',\n",
       "       '5,14,000', '6,63,000', '5,68,000', '4,07,000', '8,24,000',\n",
       "       '7,39,000', '4,85,000', '14,64,000', '6,91,000', '5,12,000',\n",
       "       '7,88,000', '4,57,000', '7,55,000', '12,77,000', '4,52,000',\n",
       "       '3,01,000', '2,62,000', '3,08,000', '10,23,000', '6,35,000',\n",
       "       '10,15,000', '2,55,000', '3,96,000', '10,11,000', '6,61,000',\n",
       "       '4,50,000', '4,35,000', '7,72,000', '3,31,000', '8,30,000',\n",
       "       '4,85,000', '4,05,000', '3,47,000', '3,69,000', '7,68,000',\n",
       "       '5,78,000', '4,17,000', '3,49,000', '5,76,000', '6,29,000',\n",
       "       '4,23,000', '6,43,000', '7,37,000', '4,25,000', '3,30,000',\n",
       "       '13,69,000', '4,36,000', '8,83,000', '16,10,000', '4,00,000',\n",
       "       '4,29,000', '4,08,000', '4,08,000', '7,39,000', '7,54,000',\n",
       "       '7,54,000', '7,54,000', '7,54,000', '4,61,000', '7,32,000',\n",
       "       '7,01,000', '4,06,000', '2,71,000', '2,93,000', '3,68,000',\n",
       "       '4,47,000', '9,12,000', '3,87,000', '4,48,000', '10,51,000',\n",
       "       '10,51,000', '10,51,000', '10,51,000', '9,14,000', '9,14,000',\n",
       "       '9,14,000', '9,14,000', '5,98,000', '18,22,000', '18,22,000',\n",
       "       '18,22,000', '18,22,000', '15,89,000', '10,27,000', '10,27,000',\n",
       "       '10,27,000', '10,27,000', '8,63,000', '3,15,000', '4,33,000',\n",
       "       '4,54,000', '8,07,000', '7,34,000', '10,54,000', '4,49,000',\n",
       "       '5,38,000', '8,83,000', '5,44,000', '4,85,000', '9,95,000',\n",
       "       '7,52,000', '2,66,000', '5,51,000', '4,77,000', '5,23,000',\n",
       "       '14,22,000', '4,30,000', '8,94,000', '8,94,000', '8,94,000',\n",
       "       '8,94,000', '17,00,000', '9,14,000', '9,71,000', '5,93,000',\n",
       "       '4,99,000', '7,28,000', '2,87,000', '3,73,000', '4,04,000',\n",
       "       '3,18,000', '7,27,000', '4,47,000', '11,50,000', '6,05,000',\n",
       "       '11,17,000', '5,06,000', '6,10,000', '2,90,000', '5,42,000',\n",
       "       '17,20,000', '5,23,000', '7,45,000', '10,52,000', '8,54,000',\n",
       "       '7,88,000', '4,60,000', '6,89,000', '6,38,000', '14,58,000',\n",
       "       '8,14,000', '17,74,000', '4,55,000', '3,14,000', '20,19,000',\n",
       "       '20,19,000', '20,19,000', '20,19,000', '8,76,000', '4,23,000',\n",
       "       '4,23,000', '4,23,000', '4,23,000', '11,00,000', '4,11,000',\n",
       "       '3,40,000', '4,05,000', '7,38,000', '3,65,000', '17,00,000',\n",
       "       '4,22,000', '19,58,000', '19,58,000', '19,58,000', '19,58,000',\n",
       "       '10,19,000', '19,78,000', '19,78,000', '19,78,000', '19,78,000',\n",
       "       '4,12,000', '8,78,000', '4,29,000', '7,08,000', '6,78,000',\n",
       "       '3,26,000', '3,36,000', '15,89,000', '3,35,000', '3,68,000',\n",
       "       '4,39,000', '10,66,000', '19,84,000', '19,84,000', '19,84,000',\n",
       "       '19,84,000', '3,28,000', '10,55,000', '5,55,000', '4,34,000',\n",
       "       '3,48,000', '5,56,000', '4,47,000', '5,69,000', '4,28,000',\n",
       "       '4,55,000', '11,64,000', '11,78,000', '7,65,000', '8,85,000',\n",
       "       '6,58,000', '12,40,000', '7,52,000', '8,69,000', '8,69,000',\n",
       "       '8,69,000', '8,69,000', '8,33,000', '11,71,000', '8,40,000',\n",
       "       '7,06,000', '2,73,000', '6,03,000', '5,21,000', '7,64,000',\n",
       "       '12,66,000', '10,30,000', '5,11,000', '3,89,000', '11,37,000',\n",
       "       '5,63,000', '4,65,000', '17,08,000', '7,51,000', '3,06,000',\n",
       "       '3,06,000', '3,06,000', '3,06,000', '7,71,000', '8,23,000',\n",
       "       '9,80,000', '5,71,000', '6,14,000', '8,43,000', '4,10,000',\n",
       "       '4,27,000', '4,84,000', '6,22,000', '4,23,000', '8,12,000',\n",
       "       '5,49,000', '5,25,000', '7,09,000', '7,44,000', '9,82,000',\n",
       "       '8,81,000', '8,34,000', '9,16,000', '8,80,000', '8,71,000',\n",
       "       '5,94,000', '13,66,000', '7,85,000', '7,85,000', '7,85,000',\n",
       "       '7,85,000', '7,18,000', '7,49,000', '3,20,000', '8,60,000',\n",
       "       '7,99,000', '6,25,000', '4,11,000', '5,40,000', '8,22,000',\n",
       "       '7,84,000', '11,65,000', '3,96,000', '7,70,000', '5,15,000',\n",
       "       '4,26,000', '5,41,000', '3,90,000', '8,10,000', '9,32,000',\n",
       "       '7,92,000', '12,38,000', '7,69,000', '6,35,000', '4,81,000',\n",
       "       '11,85,000', '4,66,000', '4,89,000', '14,54,000', '10,32,000',\n",
       "       '8,47,000', '8,47,000', '8,47,000', '8,47,000', '14,11,000',\n",
       "       '5,59,000', '6,25,000', '9,99,000', '6,77,000', '4,95,000',\n",
       "       '7,61,000', '6,47,000', '8,77,000', '7,34,000', '6,61,000',\n",
       "       '4,46,000', '8,14,000', '3,91,000', '10,34,000', '3,50,000',\n",
       "       '7,63,000', '4,87,000', '7,87,000', '7,87,000', '7,87,000',\n",
       "       '7,87,000', '5,26,000', '5,71,000', '10,11,000', '10,11,000',\n",
       "       '10,11,000', '10,11,000', '6,99,000', '7,26,000', '5,17,000',\n",
       "       '5,73,000', '4,54,000', '6,25,000', '9,55,000', '2,74,000',\n",
       "       '9,26,000', '4,65,000', '6,63,000', '8,12,000', '8,12,000',\n",
       "       '8,12,000', '8,12,000', '8,96,000', '9,78,000', '5,41,000',\n",
       "       '11,06,000', '4,64,000', '9,94,000', '8,09,000', '5,44,000',\n",
       "       '5,38,000', '6,07,000', '7,54,000', '6,18,000', '8,14,000',\n",
       "       '4,06,000', '9,97,000', '5,23,000', '4,25,000', '10,26,000',\n",
       "       '3,53,000', '4,90,000', '8,62,000', '4,25,000', '5,48,000',\n",
       "       '4,65,000', '5,05,000', '11,66,000', '10,99,000', '4,59,000',\n",
       "       '5,06,000', '6,18,000', '5,44,000', '3,34,000', '7,64,000',\n",
       "       '2,45,000', '2,90,000', '10,91,000', '4,70,000', '4,30,000',\n",
       "       '4,30,000', '7,49,000', '5,29,000', '7,22,000', '2,79,000',\n",
       "       '6,20,000', '11,30,000', '10,43,000', '4,01,000', '3,35,000',\n",
       "       '9,15,000', '5,28,000', '7,85,000', '7,00,000', '4,39,000',\n",
       "       '3,19,000', '5,20,000', '4,99,000', '6,62,000', '9,36,000',\n",
       "       '7,37,000', '4,39,000', '4,39,000', '4,39,000', '4,39,000',\n",
       "       '5,43,000', '6,89,000', '4,95,000', '6,17,000', '4,69,000',\n",
       "       '6,69,000', '6,69,000', '6,69,000', '6,69,000', '7,52,000',\n",
       "       '11,32,000', '7,60,000', '3,67,000', '5,68,000', '14,48,000',\n",
       "       '5,79,000', '4,75,000', '6,35,000', '6,47,000', '13,14,000',\n",
       "       '3,26,000', '11,27,000', '5,65,000', '5,53,000', '8,31,000',\n",
       "       '7,76,000', '5,33,000', '4,43,000', '5,24,000', '12,99,000',\n",
       "       '4,20,000', '4,50,000', '12,12,000', '7,72,000', '16,99,000',\n",
       "       '6,12,000', '9,11,000', '7,07,000', '10,98,000', '3,35,000',\n",
       "       '5,45,000', '4,75,000', '6,67,000', '1,88,000', '9,07,000',\n",
       "       '6,19,000', '7,48,000', '7,31,000', '3,95,000', '7,58,000',\n",
       "       '4,95,000', '6,99,000', '6,51,000', '6,51,000', '6,51,000',\n",
       "       '6,51,000', '3,32,000', '3,71,000', '7,53,000', '11,17,000',\n",
       "       '3,05,000', '9,45,000', '17,99,000', '6,81,000', '6,94,000',\n",
       "       '3,28,000', '16,85,000', '6,27,000', '9,35,000', '9,10,000',\n",
       "       '8,10,000', '6,50,000', '9,54,000', '7,46,000', '9,63,000',\n",
       "       '7,84,000', '7,27,000', '10,71,000', '8,98,000', '10,40,000',\n",
       "       '11,52,000', '5,96,000', '8,45,000', '8,16,000', '7,90,000',\n",
       "       '10,63,000', '8,38,000', '6,63,000', '5,90,000', '8,38,000',\n",
       "       '8,29,000', '7,99,000', '7,22,000', '9,56,000', '10,27,000',\n",
       "       '7,36,000', '7,49,000', '6,91,000'], dtype=object)"
      ]
     },
     "execution_count": 8,
     "metadata": {},
     "output_type": "execute_result"
    }
   ],
   "source": [
    "df['Price'].values"
   ]
  },
  {
   "cell_type": "markdown",
   "metadata": {},
   "source": [
    "Removing commas from the values in the price column so i can convert them to numbers for numerical computations"
   ]
  },
  {
   "cell_type": "markdown",
   "metadata": {},
   "source": [
    "when possible, I turn values in to floats or intergers so thats it is less columns, when i turn categorical features\n",
    "into T/F values, it creates many more columns."
   ]
  },
  {
   "cell_type": "code",
   "execution_count": 9,
   "metadata": {},
   "outputs": [],
   "source": [
    "df['Price'] = df['Price'].str.replace(\",\",\"\")"
   ]
  },
  {
   "cell_type": "markdown",
   "metadata": {},
   "source": [
    "Removiving 'BS' from the values in Emission columns and converting roman numerals to interger values for\n",
    "the same purpose."
   ]
  },
  {
   "cell_type": "code",
   "execution_count": 10,
   "metadata": {},
   "outputs": [],
   "source": [
    "df['Emission'] = df['Emission'].str.replace(\"BS\",\"\")"
   ]
  },
  {
   "cell_type": "code",
   "execution_count": 11,
   "metadata": {},
   "outputs": [],
   "source": [
    "df['Emission'] = df['Emission'].str.replace(\"IV\", \"4\")"
   ]
  },
  {
   "cell_type": "code",
   "execution_count": 12,
   "metadata": {},
   "outputs": [],
   "source": [
    "df['Emission'] = df['Emission'].str.replace(\"III\", \"3\")"
   ]
  },
  {
   "cell_type": "code",
   "execution_count": 13,
   "metadata": {},
   "outputs": [],
   "source": [
    "df['Emission'] = df['Emission'].str.replace(\"V\", \"5\")"
   ]
  },
  {
   "cell_type": "markdown",
   "metadata": {},
   "source": [
    "Changing values in the No_of_Owners column to numerical values from the same purpuse"
   ]
  },
  {
   "cell_type": "code",
   "execution_count": 14,
   "metadata": {},
   "outputs": [],
   "source": [
    "df['No_of_Owners'] = df['No_of_Owners'].str.replace(\"1st\", \"0\")"
   ]
  },
  {
   "cell_type": "code",
   "execution_count": 15,
   "metadata": {},
   "outputs": [],
   "source": [
    "df['No_of_Owners'] = df['No_of_Owners'].str.replace(\"2nd\", \"1\")"
   ]
  },
  {
   "cell_type": "code",
   "execution_count": 16,
   "metadata": {},
   "outputs": [],
   "source": [
    "df['No_of_Owners'] = df['No_of_Owners'].str.replace(\"3rd\", \"2\")"
   ]
  },
  {
   "cell_type": "markdown",
   "metadata": {},
   "source": [
    "Telling the computer that the following columns are int or float"
   ]
  },
  {
   "cell_type": "code",
   "execution_count": 17,
   "metadata": {},
   "outputs": [],
   "source": [
    "df['Emission'] = df['Emission'].astype(int)"
   ]
  },
  {
   "cell_type": "code",
   "execution_count": 18,
   "metadata": {},
   "outputs": [],
   "source": [
    "df['Price'] = df['Price'].astype(int)"
   ]
  },
  {
   "cell_type": "code",
   "execution_count": 19,
   "metadata": {
    "scrolled": false
   },
   "outputs": [],
   "source": [
    "df['Mileage(kmpl)'] = df['Mileage(kmpl)'].astype(float)"
   ]
  },
  {
   "cell_type": "code",
   "execution_count": 20,
   "metadata": {},
   "outputs": [],
   "source": [
    "df[\"No_of_Owners\"] = df['No_of_Owners'].astype(int)"
   ]
  },
  {
   "cell_type": "markdown",
   "metadata": {},
   "source": [
    "Looking a types of values to complete my data prep"
   ]
  },
  {
   "cell_type": "code",
   "execution_count": 21,
   "metadata": {
    "scrolled": true
   },
   "outputs": [
    {
     "name": "stdout",
     "output_type": "stream",
     "text": [
      "<class 'pandas.core.frame.DataFrame'>\n",
      "RangeIndex: 973 entries, 0 to 972\n",
      "Data columns (total 20 columns):\n",
      " #   Column                 Non-Null Count  Dtype  \n",
      "---  ------                 --------------  -----  \n",
      " 0   Car_Name               973 non-null    object \n",
      " 1   Make                   973 non-null    object \n",
      " 2   Model                  973 non-null    object \n",
      " 3   Make_Year              973 non-null    int64  \n",
      " 4   Color                  973 non-null    object \n",
      " 5   Body_Type              973 non-null    object \n",
      " 6   Mileage_Run            973 non-null    int64  \n",
      " 7   No_of_Owners           973 non-null    int64  \n",
      " 8   Seating_Capacity       973 non-null    int64  \n",
      " 9   Fuel_Type              973 non-null    object \n",
      " 10  Fuel_Tank_Capacity(L)  973 non-null    int64  \n",
      " 11  Engine_Type            973 non-null    object \n",
      " 12  CC_Displacement        973 non-null    int64  \n",
      " 13  Transmission           973 non-null    object \n",
      " 14  Transmission_Type      973 non-null    object \n",
      " 15  Power(BHP)             973 non-null    float64\n",
      " 16  Torque(Nm)             973 non-null    float64\n",
      " 17  Mileage(kmpl)          973 non-null    float64\n",
      " 18  Emission               973 non-null    int64  \n",
      " 19  Price                  973 non-null    int64  \n",
      "dtypes: float64(3), int64(8), object(9)\n",
      "memory usage: 152.2+ KB\n"
     ]
    }
   ],
   "source": [
    "df.info()"
   ]
  },
  {
   "cell_type": "markdown",
   "metadata": {},
   "source": [
    "Looking at the distribution of values in the number of owners column"
   ]
  },
  {
   "cell_type": "code",
   "execution_count": 22,
   "metadata": {},
   "outputs": [
    {
     "data": {
      "text/plain": [
       "0    816\n",
       "1    153\n",
       "2      4\n",
       "Name: No_of_Owners, dtype: int64"
      ]
     },
     "execution_count": 22,
     "metadata": {},
     "output_type": "execute_result"
    }
   ],
   "source": [
    "df['No_of_Owners'].value_counts()"
   ]
  },
  {
   "cell_type": "markdown",
   "metadata": {},
   "source": [
    "Turning the catergorical variables into T/F values (columns with values of 1 or 0) which will be on scale with the numerical data"
   ]
  },
  {
   "cell_type": "code",
   "execution_count": 23,
   "metadata": {},
   "outputs": [],
   "source": [
    "df_dummy = pd.get_dummies(df[['Car_Name', \"Make\", \"Model\", \"Color\", \"Body_Type\", \"Fuel_Type\", \"Engine_Type\", \"Transmission\", \"Transmission_Type\"]])"
   ]
  },
  {
   "cell_type": "markdown",
   "metadata": {},
   "source": [
    "Looking at the beautiful dummy values I have made"
   ]
  },
  {
   "cell_type": "code",
   "execution_count": 24,
   "metadata": {
    "scrolled": true
   },
   "outputs": [
    {
     "data": {
      "text/html": [
       "<div>\n",
       "<style scoped>\n",
       "    .dataframe tbody tr th:only-of-type {\n",
       "        vertical-align: middle;\n",
       "    }\n",
       "\n",
       "    .dataframe tbody tr th {\n",
       "        vertical-align: top;\n",
       "    }\n",
       "\n",
       "    .dataframe thead th {\n",
       "        text-align: right;\n",
       "    }\n",
       "</style>\n",
       "<table border=\"1\" class=\"dataframe\">\n",
       "  <thead>\n",
       "    <tr style=\"text-align: right;\">\n",
       "      <th></th>\n",
       "      <th>Car_Name_Chevrolet Beat [2009-2014] PS Petrol</th>\n",
       "      <th>Car_Name_Chevrolet Beat [2011-2014] LS Diesel</th>\n",
       "      <th>Car_Name_Chevrolet Beat [2014-2017] LS Diesel</th>\n",
       "      <th>Car_Name_Chevrolet Beat [2014-2017] LS Petrol</th>\n",
       "      <th>Car_Name_Chevrolet Cruze [2009-2017] LTZ AT</th>\n",
       "      <th>Car_Name_Datsun GO [2014-2019] T</th>\n",
       "      <th>Car_Name_Datsun Redi-GO [2015-2019] T (O)</th>\n",
       "      <th>Car_Name_Ford EcoSport [2013-2015] Titanium 1.0L Ecoboost</th>\n",
       "      <th>Car_Name_Ford EcoSport [2013-2015] Titanium 1.5L TDCi</th>\n",
       "      <th>Car_Name_Ford EcoSport [2013-2015] Titanium 1.5L TDCi (Opt)</th>\n",
       "      <th>...</th>\n",
       "      <th>Engine_Type_inline 4 cylinder petrol engine</th>\n",
       "      <th>Engine_Type_k14B VVT Engine</th>\n",
       "      <th>Engine_Type_mHawk Diesel Engine</th>\n",
       "      <th>Transmission_4-Speed</th>\n",
       "      <th>Transmission_5-Speed</th>\n",
       "      <th>Transmission_6-Speed</th>\n",
       "      <th>Transmission_7-Speed</th>\n",
       "      <th>Transmission_CVT</th>\n",
       "      <th>Transmission_Type_Automatic</th>\n",
       "      <th>Transmission_Type_Manual</th>\n",
       "    </tr>\n",
       "  </thead>\n",
       "  <tbody>\n",
       "    <tr>\n",
       "      <th>0</th>\n",
       "      <td>0</td>\n",
       "      <td>0</td>\n",
       "      <td>0</td>\n",
       "      <td>0</td>\n",
       "      <td>0</td>\n",
       "      <td>0</td>\n",
       "      <td>0</td>\n",
       "      <td>0</td>\n",
       "      <td>0</td>\n",
       "      <td>0</td>\n",
       "      <td>...</td>\n",
       "      <td>0</td>\n",
       "      <td>0</td>\n",
       "      <td>0</td>\n",
       "      <td>0</td>\n",
       "      <td>0</td>\n",
       "      <td>0</td>\n",
       "      <td>1</td>\n",
       "      <td>0</td>\n",
       "      <td>1</td>\n",
       "      <td>0</td>\n",
       "    </tr>\n",
       "    <tr>\n",
       "      <th>1</th>\n",
       "      <td>0</td>\n",
       "      <td>0</td>\n",
       "      <td>0</td>\n",
       "      <td>0</td>\n",
       "      <td>0</td>\n",
       "      <td>0</td>\n",
       "      <td>0</td>\n",
       "      <td>0</td>\n",
       "      <td>0</td>\n",
       "      <td>0</td>\n",
       "      <td>...</td>\n",
       "      <td>0</td>\n",
       "      <td>0</td>\n",
       "      <td>0</td>\n",
       "      <td>0</td>\n",
       "      <td>1</td>\n",
       "      <td>0</td>\n",
       "      <td>0</td>\n",
       "      <td>0</td>\n",
       "      <td>0</td>\n",
       "      <td>1</td>\n",
       "    </tr>\n",
       "    <tr>\n",
       "      <th>2</th>\n",
       "      <td>0</td>\n",
       "      <td>0</td>\n",
       "      <td>0</td>\n",
       "      <td>0</td>\n",
       "      <td>0</td>\n",
       "      <td>0</td>\n",
       "      <td>0</td>\n",
       "      <td>0</td>\n",
       "      <td>0</td>\n",
       "      <td>0</td>\n",
       "      <td>...</td>\n",
       "      <td>0</td>\n",
       "      <td>0</td>\n",
       "      <td>0</td>\n",
       "      <td>0</td>\n",
       "      <td>1</td>\n",
       "      <td>0</td>\n",
       "      <td>0</td>\n",
       "      <td>0</td>\n",
       "      <td>0</td>\n",
       "      <td>1</td>\n",
       "    </tr>\n",
       "    <tr>\n",
       "      <th>3</th>\n",
       "      <td>0</td>\n",
       "      <td>0</td>\n",
       "      <td>0</td>\n",
       "      <td>0</td>\n",
       "      <td>0</td>\n",
       "      <td>0</td>\n",
       "      <td>0</td>\n",
       "      <td>0</td>\n",
       "      <td>0</td>\n",
       "      <td>0</td>\n",
       "      <td>...</td>\n",
       "      <td>0</td>\n",
       "      <td>0</td>\n",
       "      <td>0</td>\n",
       "      <td>0</td>\n",
       "      <td>1</td>\n",
       "      <td>0</td>\n",
       "      <td>0</td>\n",
       "      <td>0</td>\n",
       "      <td>0</td>\n",
       "      <td>1</td>\n",
       "    </tr>\n",
       "    <tr>\n",
       "      <th>4</th>\n",
       "      <td>0</td>\n",
       "      <td>0</td>\n",
       "      <td>0</td>\n",
       "      <td>0</td>\n",
       "      <td>0</td>\n",
       "      <td>0</td>\n",
       "      <td>0</td>\n",
       "      <td>0</td>\n",
       "      <td>0</td>\n",
       "      <td>0</td>\n",
       "      <td>...</td>\n",
       "      <td>0</td>\n",
       "      <td>0</td>\n",
       "      <td>0</td>\n",
       "      <td>0</td>\n",
       "      <td>1</td>\n",
       "      <td>0</td>\n",
       "      <td>0</td>\n",
       "      <td>0</td>\n",
       "      <td>0</td>\n",
       "      <td>1</td>\n",
       "    </tr>\n",
       "    <tr>\n",
       "      <th>...</th>\n",
       "      <td>...</td>\n",
       "      <td>...</td>\n",
       "      <td>...</td>\n",
       "      <td>...</td>\n",
       "      <td>...</td>\n",
       "      <td>...</td>\n",
       "      <td>...</td>\n",
       "      <td>...</td>\n",
       "      <td>...</td>\n",
       "      <td>...</td>\n",
       "      <td>...</td>\n",
       "      <td>...</td>\n",
       "      <td>...</td>\n",
       "      <td>...</td>\n",
       "      <td>...</td>\n",
       "      <td>...</td>\n",
       "      <td>...</td>\n",
       "      <td>...</td>\n",
       "      <td>...</td>\n",
       "      <td>...</td>\n",
       "      <td>...</td>\n",
       "    </tr>\n",
       "    <tr>\n",
       "      <th>968</th>\n",
       "      <td>0</td>\n",
       "      <td>0</td>\n",
       "      <td>0</td>\n",
       "      <td>0</td>\n",
       "      <td>0</td>\n",
       "      <td>0</td>\n",
       "      <td>0</td>\n",
       "      <td>0</td>\n",
       "      <td>0</td>\n",
       "      <td>0</td>\n",
       "      <td>...</td>\n",
       "      <td>0</td>\n",
       "      <td>0</td>\n",
       "      <td>0</td>\n",
       "      <td>0</td>\n",
       "      <td>0</td>\n",
       "      <td>1</td>\n",
       "      <td>0</td>\n",
       "      <td>0</td>\n",
       "      <td>1</td>\n",
       "      <td>0</td>\n",
       "    </tr>\n",
       "    <tr>\n",
       "      <th>969</th>\n",
       "      <td>0</td>\n",
       "      <td>0</td>\n",
       "      <td>0</td>\n",
       "      <td>0</td>\n",
       "      <td>0</td>\n",
       "      <td>0</td>\n",
       "      <td>0</td>\n",
       "      <td>0</td>\n",
       "      <td>0</td>\n",
       "      <td>0</td>\n",
       "      <td>...</td>\n",
       "      <td>0</td>\n",
       "      <td>0</td>\n",
       "      <td>0</td>\n",
       "      <td>0</td>\n",
       "      <td>0</td>\n",
       "      <td>1</td>\n",
       "      <td>0</td>\n",
       "      <td>0</td>\n",
       "      <td>1</td>\n",
       "      <td>0</td>\n",
       "    </tr>\n",
       "    <tr>\n",
       "      <th>970</th>\n",
       "      <td>0</td>\n",
       "      <td>0</td>\n",
       "      <td>0</td>\n",
       "      <td>0</td>\n",
       "      <td>0</td>\n",
       "      <td>0</td>\n",
       "      <td>0</td>\n",
       "      <td>0</td>\n",
       "      <td>0</td>\n",
       "      <td>0</td>\n",
       "      <td>...</td>\n",
       "      <td>0</td>\n",
       "      <td>0</td>\n",
       "      <td>0</td>\n",
       "      <td>1</td>\n",
       "      <td>0</td>\n",
       "      <td>0</td>\n",
       "      <td>0</td>\n",
       "      <td>0</td>\n",
       "      <td>1</td>\n",
       "      <td>0</td>\n",
       "    </tr>\n",
       "    <tr>\n",
       "      <th>971</th>\n",
       "      <td>0</td>\n",
       "      <td>0</td>\n",
       "      <td>0</td>\n",
       "      <td>0</td>\n",
       "      <td>0</td>\n",
       "      <td>0</td>\n",
       "      <td>0</td>\n",
       "      <td>0</td>\n",
       "      <td>0</td>\n",
       "      <td>0</td>\n",
       "      <td>...</td>\n",
       "      <td>0</td>\n",
       "      <td>0</td>\n",
       "      <td>0</td>\n",
       "      <td>0</td>\n",
       "      <td>1</td>\n",
       "      <td>0</td>\n",
       "      <td>0</td>\n",
       "      <td>0</td>\n",
       "      <td>1</td>\n",
       "      <td>0</td>\n",
       "    </tr>\n",
       "    <tr>\n",
       "      <th>972</th>\n",
       "      <td>0</td>\n",
       "      <td>0</td>\n",
       "      <td>0</td>\n",
       "      <td>0</td>\n",
       "      <td>0</td>\n",
       "      <td>0</td>\n",
       "      <td>0</td>\n",
       "      <td>0</td>\n",
       "      <td>0</td>\n",
       "      <td>0</td>\n",
       "      <td>...</td>\n",
       "      <td>0</td>\n",
       "      <td>0</td>\n",
       "      <td>0</td>\n",
       "      <td>0</td>\n",
       "      <td>1</td>\n",
       "      <td>0</td>\n",
       "      <td>0</td>\n",
       "      <td>0</td>\n",
       "      <td>1</td>\n",
       "      <td>0</td>\n",
       "    </tr>\n",
       "  </tbody>\n",
       "</table>\n",
       "<p>973 rows × 644 columns</p>\n",
       "</div>"
      ],
      "text/plain": [
       "     Car_Name_Chevrolet Beat [2009-2014] PS Petrol  \\\n",
       "0                                                0   \n",
       "1                                                0   \n",
       "2                                                0   \n",
       "3                                                0   \n",
       "4                                                0   \n",
       "..                                             ...   \n",
       "968                                              0   \n",
       "969                                              0   \n",
       "970                                              0   \n",
       "971                                              0   \n",
       "972                                              0   \n",
       "\n",
       "     Car_Name_Chevrolet Beat [2011-2014] LS Diesel  \\\n",
       "0                                                0   \n",
       "1                                                0   \n",
       "2                                                0   \n",
       "3                                                0   \n",
       "4                                                0   \n",
       "..                                             ...   \n",
       "968                                              0   \n",
       "969                                              0   \n",
       "970                                              0   \n",
       "971                                              0   \n",
       "972                                              0   \n",
       "\n",
       "     Car_Name_Chevrolet Beat [2014-2017] LS Diesel  \\\n",
       "0                                                0   \n",
       "1                                                0   \n",
       "2                                                0   \n",
       "3                                                0   \n",
       "4                                                0   \n",
       "..                                             ...   \n",
       "968                                              0   \n",
       "969                                              0   \n",
       "970                                              0   \n",
       "971                                              0   \n",
       "972                                              0   \n",
       "\n",
       "     Car_Name_Chevrolet Beat [2014-2017] LS Petrol  \\\n",
       "0                                                0   \n",
       "1                                                0   \n",
       "2                                                0   \n",
       "3                                                0   \n",
       "4                                                0   \n",
       "..                                             ...   \n",
       "968                                              0   \n",
       "969                                              0   \n",
       "970                                              0   \n",
       "971                                              0   \n",
       "972                                              0   \n",
       "\n",
       "     Car_Name_Chevrolet Cruze [2009-2017] LTZ AT  \\\n",
       "0                                              0   \n",
       "1                                              0   \n",
       "2                                              0   \n",
       "3                                              0   \n",
       "4                                              0   \n",
       "..                                           ...   \n",
       "968                                            0   \n",
       "969                                            0   \n",
       "970                                            0   \n",
       "971                                            0   \n",
       "972                                            0   \n",
       "\n",
       "     Car_Name_Datsun GO [2014-2019] T  \\\n",
       "0                                   0   \n",
       "1                                   0   \n",
       "2                                   0   \n",
       "3                                   0   \n",
       "4                                   0   \n",
       "..                                ...   \n",
       "968                                 0   \n",
       "969                                 0   \n",
       "970                                 0   \n",
       "971                                 0   \n",
       "972                                 0   \n",
       "\n",
       "     Car_Name_Datsun Redi-GO [2015-2019] T (O)  \\\n",
       "0                                            0   \n",
       "1                                            0   \n",
       "2                                            0   \n",
       "3                                            0   \n",
       "4                                            0   \n",
       "..                                         ...   \n",
       "968                                          0   \n",
       "969                                          0   \n",
       "970                                          0   \n",
       "971                                          0   \n",
       "972                                          0   \n",
       "\n",
       "     Car_Name_Ford EcoSport [2013-2015] Titanium 1.0L Ecoboost  \\\n",
       "0                                                    0           \n",
       "1                                                    0           \n",
       "2                                                    0           \n",
       "3                                                    0           \n",
       "4                                                    0           \n",
       "..                                                 ...           \n",
       "968                                                  0           \n",
       "969                                                  0           \n",
       "970                                                  0           \n",
       "971                                                  0           \n",
       "972                                                  0           \n",
       "\n",
       "     Car_Name_Ford EcoSport [2013-2015] Titanium 1.5L TDCi  \\\n",
       "0                                                    0       \n",
       "1                                                    0       \n",
       "2                                                    0       \n",
       "3                                                    0       \n",
       "4                                                    0       \n",
       "..                                                 ...       \n",
       "968                                                  0       \n",
       "969                                                  0       \n",
       "970                                                  0       \n",
       "971                                                  0       \n",
       "972                                                  0       \n",
       "\n",
       "     Car_Name_Ford EcoSport [2013-2015] Titanium 1.5L TDCi (Opt)  ...  \\\n",
       "0                                                    0            ...   \n",
       "1                                                    0            ...   \n",
       "2                                                    0            ...   \n",
       "3                                                    0            ...   \n",
       "4                                                    0            ...   \n",
       "..                                                 ...            ...   \n",
       "968                                                  0            ...   \n",
       "969                                                  0            ...   \n",
       "970                                                  0            ...   \n",
       "971                                                  0            ...   \n",
       "972                                                  0            ...   \n",
       "\n",
       "     Engine_Type_inline 4 cylinder petrol engine  Engine_Type_k14B VVT Engine  \\\n",
       "0                                              0                            0   \n",
       "1                                              0                            0   \n",
       "2                                              0                            0   \n",
       "3                                              0                            0   \n",
       "4                                              0                            0   \n",
       "..                                           ...                          ...   \n",
       "968                                            0                            0   \n",
       "969                                            0                            0   \n",
       "970                                            0                            0   \n",
       "971                                            0                            0   \n",
       "972                                            0                            0   \n",
       "\n",
       "     Engine_Type_mHawk Diesel Engine  Transmission_4-Speed  \\\n",
       "0                                  0                     0   \n",
       "1                                  0                     0   \n",
       "2                                  0                     0   \n",
       "3                                  0                     0   \n",
       "4                                  0                     0   \n",
       "..                               ...                   ...   \n",
       "968                                0                     0   \n",
       "969                                0                     0   \n",
       "970                                0                     1   \n",
       "971                                0                     0   \n",
       "972                                0                     0   \n",
       "\n",
       "     Transmission_5-Speed  Transmission_6-Speed  Transmission_7-Speed  \\\n",
       "0                       0                     0                     1   \n",
       "1                       1                     0                     0   \n",
       "2                       1                     0                     0   \n",
       "3                       1                     0                     0   \n",
       "4                       1                     0                     0   \n",
       "..                    ...                   ...                   ...   \n",
       "968                     0                     1                     0   \n",
       "969                     0                     1                     0   \n",
       "970                     0                     0                     0   \n",
       "971                     1                     0                     0   \n",
       "972                     1                     0                     0   \n",
       "\n",
       "     Transmission_CVT  Transmission_Type_Automatic  Transmission_Type_Manual  \n",
       "0                   0                            1                         0  \n",
       "1                   0                            0                         1  \n",
       "2                   0                            0                         1  \n",
       "3                   0                            0                         1  \n",
       "4                   0                            0                         1  \n",
       "..                ...                          ...                       ...  \n",
       "968                 0                            1                         0  \n",
       "969                 0                            1                         0  \n",
       "970                 0                            1                         0  \n",
       "971                 0                            1                         0  \n",
       "972                 0                            1                         0  \n",
       "\n",
       "[973 rows x 644 columns]"
      ]
     },
     "execution_count": 24,
     "metadata": {},
     "output_type": "execute_result"
    }
   ],
   "source": [
    "df_dummy"
   ]
  },
  {
   "cell_type": "code",
   "execution_count": null,
   "metadata": {},
   "outputs": [],
   "source": []
  },
  {
   "cell_type": "markdown",
   "metadata": {},
   "source": [
    "Dropping  categorical features from the dataframe"
   ]
  },
  {
   "cell_type": "code",
   "execution_count": 25,
   "metadata": {},
   "outputs": [],
   "source": [
    "df.drop(columns=['Car_Name', \"Make\", \"Model\", \"Color\", \"Body_Type\", \"Fuel_Type\", \"Engine_Type\", \"Transmission\", \"Transmission_Type\"], inplace=True)"
   ]
  },
  {
   "cell_type": "markdown",
   "metadata": {},
   "source": [
    "creating a variable for the target feature"
   ]
  },
  {
   "cell_type": "code",
   "execution_count": 26,
   "metadata": {},
   "outputs": [],
   "source": [
    "df_price = df['Price']"
   ]
  },
  {
   "cell_type": "markdown",
   "metadata": {},
   "source": [
    "looking at the variable for target feature"
   ]
  },
  {
   "cell_type": "code",
   "execution_count": 27,
   "metadata": {
    "scrolled": true
   },
   "outputs": [
    {
     "data": {
      "text/plain": [
       "0       657000\n",
       "1       682000\n",
       "2       793000\n",
       "3       414000\n",
       "4       515000\n",
       "        ...   \n",
       "968     956000\n",
       "969    1027000\n",
       "970     736000\n",
       "971     749000\n",
       "972     691000\n",
       "Name: Price, Length: 973, dtype: int64"
      ]
     },
     "execution_count": 27,
     "metadata": {},
     "output_type": "execute_result"
    }
   ],
   "source": [
    "df_price"
   ]
  },
  {
   "cell_type": "markdown",
   "metadata": {},
   "source": [
    "re-organize the index column for the dataframe"
   ]
  },
  {
   "cell_type": "code",
   "execution_count": 28,
   "metadata": {},
   "outputs": [],
   "source": [
    "df.drop('Price', axis=1,inplace=True)"
   ]
  },
  {
   "cell_type": "code",
   "execution_count": 29,
   "metadata": {},
   "outputs": [],
   "source": [
    "# Here we are resetting the index of our price Dataframe to  adjust for standard scaler!\n",
    "df_price = df_price.reset_index(drop=True)"
   ]
  },
  {
   "cell_type": "code",
   "execution_count": 30,
   "metadata": {},
   "outputs": [
    {
     "data": {
      "text/plain": [
       "0       657000\n",
       "1       682000\n",
       "2       793000\n",
       "3       414000\n",
       "4       515000\n",
       "        ...   \n",
       "968     956000\n",
       "969    1027000\n",
       "970     736000\n",
       "971     749000\n",
       "972     691000\n",
       "Name: Price, Length: 973, dtype: int64"
      ]
     },
     "execution_count": 30,
     "metadata": {},
     "output_type": "execute_result"
    }
   ],
   "source": [
    "df_price"
   ]
  },
  {
   "cell_type": "markdown",
   "metadata": {},
   "source": [
    "Calling on the data frame to look at it"
   ]
  },
  {
   "cell_type": "code",
   "execution_count": 31,
   "metadata": {},
   "outputs": [
    {
     "data": {
      "text/html": [
       "<div>\n",
       "<style scoped>\n",
       "    .dataframe tbody tr th:only-of-type {\n",
       "        vertical-align: middle;\n",
       "    }\n",
       "\n",
       "    .dataframe tbody tr th {\n",
       "        vertical-align: top;\n",
       "    }\n",
       "\n",
       "    .dataframe thead th {\n",
       "        text-align: right;\n",
       "    }\n",
       "</style>\n",
       "<table border=\"1\" class=\"dataframe\">\n",
       "  <thead>\n",
       "    <tr style=\"text-align: right;\">\n",
       "      <th></th>\n",
       "      <th>Make_Year</th>\n",
       "      <th>Mileage_Run</th>\n",
       "      <th>No_of_Owners</th>\n",
       "      <th>Seating_Capacity</th>\n",
       "      <th>Fuel_Tank_Capacity(L)</th>\n",
       "      <th>CC_Displacement</th>\n",
       "      <th>Power(BHP)</th>\n",
       "      <th>Torque(Nm)</th>\n",
       "      <th>Mileage(kmpl)</th>\n",
       "      <th>Emission</th>\n",
       "    </tr>\n",
       "  </thead>\n",
       "  <tbody>\n",
       "    <tr>\n",
       "      <th>0</th>\n",
       "      <td>2017</td>\n",
       "      <td>44611</td>\n",
       "      <td>0</td>\n",
       "      <td>5</td>\n",
       "      <td>45</td>\n",
       "      <td>1498</td>\n",
       "      <td>109.00</td>\n",
       "      <td>250.00</td>\n",
       "      <td>21.66</td>\n",
       "      <td>4</td>\n",
       "    </tr>\n",
       "    <tr>\n",
       "      <th>1</th>\n",
       "      <td>2016</td>\n",
       "      <td>20305</td>\n",
       "      <td>0</td>\n",
       "      <td>5</td>\n",
       "      <td>45</td>\n",
       "      <td>1197</td>\n",
       "      <td>82.00</td>\n",
       "      <td>115.00</td>\n",
       "      <td>17.19</td>\n",
       "      <td>5</td>\n",
       "    </tr>\n",
       "    <tr>\n",
       "      <th>2</th>\n",
       "      <td>2019</td>\n",
       "      <td>29540</td>\n",
       "      <td>1</td>\n",
       "      <td>5</td>\n",
       "      <td>40</td>\n",
       "      <td>1199</td>\n",
       "      <td>88.50</td>\n",
       "      <td>110.00</td>\n",
       "      <td>16.50</td>\n",
       "      <td>4</td>\n",
       "    </tr>\n",
       "    <tr>\n",
       "      <th>3</th>\n",
       "      <td>2017</td>\n",
       "      <td>35680</td>\n",
       "      <td>0</td>\n",
       "      <td>5</td>\n",
       "      <td>28</td>\n",
       "      <td>999</td>\n",
       "      <td>67.00</td>\n",
       "      <td>91.00</td>\n",
       "      <td>21.70</td>\n",
       "      <td>4</td>\n",
       "    </tr>\n",
       "    <tr>\n",
       "      <th>4</th>\n",
       "      <td>2017</td>\n",
       "      <td>25126</td>\n",
       "      <td>0</td>\n",
       "      <td>5</td>\n",
       "      <td>43</td>\n",
       "      <td>1197</td>\n",
       "      <td>81.86</td>\n",
       "      <td>113.75</td>\n",
       "      <td>18.90</td>\n",
       "      <td>5</td>\n",
       "    </tr>\n",
       "    <tr>\n",
       "      <th>...</th>\n",
       "      <td>...</td>\n",
       "      <td>...</td>\n",
       "      <td>...</td>\n",
       "      <td>...</td>\n",
       "      <td>...</td>\n",
       "      <td>...</td>\n",
       "      <td>...</td>\n",
       "      <td>...</td>\n",
       "      <td>...</td>\n",
       "      <td>...</td>\n",
       "    </tr>\n",
       "    <tr>\n",
       "      <th>968</th>\n",
       "      <td>2018</td>\n",
       "      <td>23869</td>\n",
       "      <td>0</td>\n",
       "      <td>5</td>\n",
       "      <td>43</td>\n",
       "      <td>1591</td>\n",
       "      <td>121.00</td>\n",
       "      <td>158.00</td>\n",
       "      <td>17.40</td>\n",
       "      <td>5</td>\n",
       "    </tr>\n",
       "    <tr>\n",
       "      <th>969</th>\n",
       "      <td>2019</td>\n",
       "      <td>14831</td>\n",
       "      <td>0</td>\n",
       "      <td>5</td>\n",
       "      <td>43</td>\n",
       "      <td>1591</td>\n",
       "      <td>121.00</td>\n",
       "      <td>158.00</td>\n",
       "      <td>17.40</td>\n",
       "      <td>5</td>\n",
       "    </tr>\n",
       "    <tr>\n",
       "      <th>970</th>\n",
       "      <td>2014</td>\n",
       "      <td>52846</td>\n",
       "      <td>0</td>\n",
       "      <td>5</td>\n",
       "      <td>43</td>\n",
       "      <td>1591</td>\n",
       "      <td>121.00</td>\n",
       "      <td>158.00</td>\n",
       "      <td>17.01</td>\n",
       "      <td>3</td>\n",
       "    </tr>\n",
       "    <tr>\n",
       "      <th>971</th>\n",
       "      <td>2020</td>\n",
       "      <td>28335</td>\n",
       "      <td>1</td>\n",
       "      <td>5</td>\n",
       "      <td>42</td>\n",
       "      <td>1499</td>\n",
       "      <td>98.96</td>\n",
       "      <td>215.00</td>\n",
       "      <td>18.50</td>\n",
       "      <td>5</td>\n",
       "    </tr>\n",
       "    <tr>\n",
       "      <th>972</th>\n",
       "      <td>2018</td>\n",
       "      <td>41176</td>\n",
       "      <td>0</td>\n",
       "      <td>5</td>\n",
       "      <td>32</td>\n",
       "      <td>1197</td>\n",
       "      <td>81.80</td>\n",
       "      <td>113.00</td>\n",
       "      <td>20.89</td>\n",
       "      <td>5</td>\n",
       "    </tr>\n",
       "  </tbody>\n",
       "</table>\n",
       "<p>973 rows × 10 columns</p>\n",
       "</div>"
      ],
      "text/plain": [
       "     Make_Year  Mileage_Run  No_of_Owners  Seating_Capacity  \\\n",
       "0         2017        44611             0                 5   \n",
       "1         2016        20305             0                 5   \n",
       "2         2019        29540             1                 5   \n",
       "3         2017        35680             0                 5   \n",
       "4         2017        25126             0                 5   \n",
       "..         ...          ...           ...               ...   \n",
       "968       2018        23869             0                 5   \n",
       "969       2019        14831             0                 5   \n",
       "970       2014        52846             0                 5   \n",
       "971       2020        28335             1                 5   \n",
       "972       2018        41176             0                 5   \n",
       "\n",
       "     Fuel_Tank_Capacity(L)  CC_Displacement  Power(BHP)  Torque(Nm)  \\\n",
       "0                       45             1498      109.00      250.00   \n",
       "1                       45             1197       82.00      115.00   \n",
       "2                       40             1199       88.50      110.00   \n",
       "3                       28              999       67.00       91.00   \n",
       "4                       43             1197       81.86      113.75   \n",
       "..                     ...              ...         ...         ...   \n",
       "968                     43             1591      121.00      158.00   \n",
       "969                     43             1591      121.00      158.00   \n",
       "970                     43             1591      121.00      158.00   \n",
       "971                     42             1499       98.96      215.00   \n",
       "972                     32             1197       81.80      113.00   \n",
       "\n",
       "     Mileage(kmpl)  Emission  \n",
       "0            21.66         4  \n",
       "1            17.19         5  \n",
       "2            16.50         4  \n",
       "3            21.70         4  \n",
       "4            18.90         5  \n",
       "..             ...       ...  \n",
       "968          17.40         5  \n",
       "969          17.40         5  \n",
       "970          17.01         3  \n",
       "971          18.50         5  \n",
       "972          20.89         5  \n",
       "\n",
       "[973 rows x 10 columns]"
      ]
     },
     "execution_count": 31,
     "metadata": {},
     "output_type": "execute_result"
    }
   ],
   "source": [
    "df"
   ]
  },
  {
   "cell_type": "code",
   "execution_count": 32,
   "metadata": {
    "scrolled": true
   },
   "outputs": [
    {
     "name": "stdout",
     "output_type": "stream",
     "text": [
      "<class 'pandas.core.frame.DataFrame'>\n",
      "RangeIndex: 973 entries, 0 to 972\n",
      "Data columns (total 10 columns):\n",
      " #   Column                 Non-Null Count  Dtype  \n",
      "---  ------                 --------------  -----  \n",
      " 0   Make_Year              973 non-null    int64  \n",
      " 1   Mileage_Run            973 non-null    int64  \n",
      " 2   No_of_Owners           973 non-null    int64  \n",
      " 3   Seating_Capacity       973 non-null    int64  \n",
      " 4   Fuel_Tank_Capacity(L)  973 non-null    int64  \n",
      " 5   CC_Displacement        973 non-null    int64  \n",
      " 6   Power(BHP)             973 non-null    float64\n",
      " 7   Torque(Nm)             973 non-null    float64\n",
      " 8   Mileage(kmpl)          973 non-null    float64\n",
      " 9   Emission               973 non-null    int64  \n",
      "dtypes: float64(3), int64(7)\n",
      "memory usage: 76.1 KB\n"
     ]
    }
   ],
   "source": [
    "df.info()"
   ]
  },
  {
   "cell_type": "markdown",
   "metadata": {},
   "source": [
    "Instantiating the Standar Scaler and fitting our Data Frame to it"
   ]
  },
  {
   "cell_type": "code",
   "execution_count": 33,
   "metadata": {},
   "outputs": [],
   "source": [
    "# Instantiating our StandardScalar Object\n",
    "ss = StandardScaler()\n",
    "\n",
    "ss.fit(df)\n",
    "\n",
    "df_scaled = ss.transform(df)"
   ]
  },
  {
   "cell_type": "code",
   "execution_count": 34,
   "metadata": {},
   "outputs": [],
   "source": [
    "# Turning our StandardScalar object back into a dataframe, with the same column names as before \n",
    "df_scaled_new = pd.DataFrame(df_scaled, columns=df.columns)"
   ]
  },
  {
   "cell_type": "code",
   "execution_count": 35,
   "metadata": {
    "scrolled": true
   },
   "outputs": [
    {
     "data": {
      "text/html": [
       "<div>\n",
       "<style scoped>\n",
       "    .dataframe tbody tr th:only-of-type {\n",
       "        vertical-align: middle;\n",
       "    }\n",
       "\n",
       "    .dataframe tbody tr th {\n",
       "        vertical-align: top;\n",
       "    }\n",
       "\n",
       "    .dataframe thead th {\n",
       "        text-align: right;\n",
       "    }\n",
       "</style>\n",
       "<table border=\"1\" class=\"dataframe\">\n",
       "  <thead>\n",
       "    <tr style=\"text-align: right;\">\n",
       "      <th></th>\n",
       "      <th>Make_Year</th>\n",
       "      <th>Mileage_Run</th>\n",
       "      <th>No_of_Owners</th>\n",
       "      <th>Seating_Capacity</th>\n",
       "      <th>Fuel_Tank_Capacity(L)</th>\n",
       "      <th>CC_Displacement</th>\n",
       "      <th>Power(BHP)</th>\n",
       "      <th>Torque(Nm)</th>\n",
       "      <th>Mileage(kmpl)</th>\n",
       "      <th>Emission</th>\n",
       "    </tr>\n",
       "  </thead>\n",
       "  <tbody>\n",
       "    <tr>\n",
       "      <th>0</th>\n",
       "      <td>0.01</td>\n",
       "      <td>0.13</td>\n",
       "      <td>-0.43</td>\n",
       "      <td>-0.21</td>\n",
       "      <td>0.34</td>\n",
       "      <td>0.71</td>\n",
       "      <td>0.69</td>\n",
       "      <td>1.59</td>\n",
       "      <td>0.80</td>\n",
       "      <td>-0.39</td>\n",
       "    </tr>\n",
       "    <tr>\n",
       "      <th>1</th>\n",
       "      <td>-0.34</td>\n",
       "      <td>-0.87</td>\n",
       "      <td>-0.43</td>\n",
       "      <td>-0.21</td>\n",
       "      <td>0.34</td>\n",
       "      <td>-0.38</td>\n",
       "      <td>-0.36</td>\n",
       "      <td>-0.44</td>\n",
       "      <td>-0.87</td>\n",
       "      <td>1.32</td>\n",
       "    </tr>\n",
       "    <tr>\n",
       "      <th>2</th>\n",
       "      <td>0.72</td>\n",
       "      <td>-0.49</td>\n",
       "      <td>2.18</td>\n",
       "      <td>-0.21</td>\n",
       "      <td>-0.28</td>\n",
       "      <td>-0.37</td>\n",
       "      <td>-0.11</td>\n",
       "      <td>-0.51</td>\n",
       "      <td>-1.12</td>\n",
       "      <td>-0.39</td>\n",
       "    </tr>\n",
       "    <tr>\n",
       "      <th>3</th>\n",
       "      <td>0.01</td>\n",
       "      <td>-0.24</td>\n",
       "      <td>-0.43</td>\n",
       "      <td>-0.21</td>\n",
       "      <td>-1.77</td>\n",
       "      <td>-1.09</td>\n",
       "      <td>-0.95</td>\n",
       "      <td>-0.80</td>\n",
       "      <td>0.82</td>\n",
       "      <td>-0.39</td>\n",
       "    </tr>\n",
       "    <tr>\n",
       "      <th>4</th>\n",
       "      <td>0.01</td>\n",
       "      <td>-0.67</td>\n",
       "      <td>-0.43</td>\n",
       "      <td>-0.21</td>\n",
       "      <td>0.09</td>\n",
       "      <td>-0.38</td>\n",
       "      <td>-0.37</td>\n",
       "      <td>-0.46</td>\n",
       "      <td>-0.23</td>\n",
       "      <td>1.32</td>\n",
       "    </tr>\n",
       "    <tr>\n",
       "      <th>...</th>\n",
       "      <td>...</td>\n",
       "      <td>...</td>\n",
       "      <td>...</td>\n",
       "      <td>...</td>\n",
       "      <td>...</td>\n",
       "      <td>...</td>\n",
       "      <td>...</td>\n",
       "      <td>...</td>\n",
       "      <td>...</td>\n",
       "      <td>...</td>\n",
       "    </tr>\n",
       "    <tr>\n",
       "      <th>968</th>\n",
       "      <td>0.37</td>\n",
       "      <td>-0.73</td>\n",
       "      <td>-0.43</td>\n",
       "      <td>-0.21</td>\n",
       "      <td>0.09</td>\n",
       "      <td>1.05</td>\n",
       "      <td>1.15</td>\n",
       "      <td>0.21</td>\n",
       "      <td>-0.79</td>\n",
       "      <td>1.32</td>\n",
       "    </tr>\n",
       "    <tr>\n",
       "      <th>969</th>\n",
       "      <td>0.72</td>\n",
       "      <td>-1.10</td>\n",
       "      <td>-0.43</td>\n",
       "      <td>-0.21</td>\n",
       "      <td>0.09</td>\n",
       "      <td>1.05</td>\n",
       "      <td>1.15</td>\n",
       "      <td>0.21</td>\n",
       "      <td>-0.79</td>\n",
       "      <td>1.32</td>\n",
       "    </tr>\n",
       "    <tr>\n",
       "      <th>970</th>\n",
       "      <td>-1.05</td>\n",
       "      <td>0.46</td>\n",
       "      <td>-0.43</td>\n",
       "      <td>-0.21</td>\n",
       "      <td>0.09</td>\n",
       "      <td>1.05</td>\n",
       "      <td>1.15</td>\n",
       "      <td>0.21</td>\n",
       "      <td>-0.93</td>\n",
       "      <td>-2.09</td>\n",
       "    </tr>\n",
       "    <tr>\n",
       "      <th>971</th>\n",
       "      <td>1.08</td>\n",
       "      <td>-0.54</td>\n",
       "      <td>2.18</td>\n",
       "      <td>-0.21</td>\n",
       "      <td>-0.03</td>\n",
       "      <td>0.72</td>\n",
       "      <td>0.30</td>\n",
       "      <td>1.06</td>\n",
       "      <td>-0.38</td>\n",
       "      <td>1.32</td>\n",
       "    </tr>\n",
       "    <tr>\n",
       "      <th>972</th>\n",
       "      <td>0.37</td>\n",
       "      <td>-0.01</td>\n",
       "      <td>-0.43</td>\n",
       "      <td>-0.21</td>\n",
       "      <td>-1.27</td>\n",
       "      <td>-0.38</td>\n",
       "      <td>-0.37</td>\n",
       "      <td>-0.47</td>\n",
       "      <td>0.51</td>\n",
       "      <td>1.32</td>\n",
       "    </tr>\n",
       "  </tbody>\n",
       "</table>\n",
       "<p>973 rows × 10 columns</p>\n",
       "</div>"
      ],
      "text/plain": [
       "     Make_Year  Mileage_Run  No_of_Owners  Seating_Capacity  \\\n",
       "0         0.01         0.13         -0.43             -0.21   \n",
       "1        -0.34        -0.87         -0.43             -0.21   \n",
       "2         0.72        -0.49          2.18             -0.21   \n",
       "3         0.01        -0.24         -0.43             -0.21   \n",
       "4         0.01        -0.67         -0.43             -0.21   \n",
       "..         ...          ...           ...               ...   \n",
       "968       0.37        -0.73         -0.43             -0.21   \n",
       "969       0.72        -1.10         -0.43             -0.21   \n",
       "970      -1.05         0.46         -0.43             -0.21   \n",
       "971       1.08        -0.54          2.18             -0.21   \n",
       "972       0.37        -0.01         -0.43             -0.21   \n",
       "\n",
       "     Fuel_Tank_Capacity(L)  CC_Displacement  Power(BHP)  Torque(Nm)  \\\n",
       "0                     0.34             0.71        0.69        1.59   \n",
       "1                     0.34            -0.38       -0.36       -0.44   \n",
       "2                    -0.28            -0.37       -0.11       -0.51   \n",
       "3                    -1.77            -1.09       -0.95       -0.80   \n",
       "4                     0.09            -0.38       -0.37       -0.46   \n",
       "..                     ...              ...         ...         ...   \n",
       "968                   0.09             1.05        1.15        0.21   \n",
       "969                   0.09             1.05        1.15        0.21   \n",
       "970                   0.09             1.05        1.15        0.21   \n",
       "971                  -0.03             0.72        0.30        1.06   \n",
       "972                  -1.27            -0.38       -0.37       -0.47   \n",
       "\n",
       "     Mileage(kmpl)  Emission  \n",
       "0             0.80     -0.39  \n",
       "1            -0.87      1.32  \n",
       "2            -1.12     -0.39  \n",
       "3             0.82     -0.39  \n",
       "4            -0.23      1.32  \n",
       "..             ...       ...  \n",
       "968          -0.79      1.32  \n",
       "969          -0.79      1.32  \n",
       "970          -0.93     -2.09  \n",
       "971          -0.38      1.32  \n",
       "972           0.51      1.32  \n",
       "\n",
       "[973 rows x 10 columns]"
      ]
     },
     "execution_count": 35,
     "metadata": {},
     "output_type": "execute_result"
    }
   ],
   "source": [
    "df_scaled_new"
   ]
  },
  {
   "cell_type": "markdown",
   "metadata": {},
   "source": [
    "Combining hte data frame of our categorical variables back into the data frame after turning them into T/F (1/0) Values"
   ]
  },
  {
   "cell_type": "code",
   "execution_count": 36,
   "metadata": {},
   "outputs": [],
   "source": [
    "df1 = pd.concat([df_scaled_new,df_dummy, df_price], axis = 1)"
   ]
  },
  {
   "cell_type": "markdown",
   "metadata": {},
   "source": [
    "Calling on the new dataframe we have created to make sure everything looks good"
   ]
  },
  {
   "cell_type": "code",
   "execution_count": 37,
   "metadata": {
    "scrolled": true
   },
   "outputs": [
    {
     "data": {
      "text/html": [
       "<div>\n",
       "<style scoped>\n",
       "    .dataframe tbody tr th:only-of-type {\n",
       "        vertical-align: middle;\n",
       "    }\n",
       "\n",
       "    .dataframe tbody tr th {\n",
       "        vertical-align: top;\n",
       "    }\n",
       "\n",
       "    .dataframe thead th {\n",
       "        text-align: right;\n",
       "    }\n",
       "</style>\n",
       "<table border=\"1\" class=\"dataframe\">\n",
       "  <thead>\n",
       "    <tr style=\"text-align: right;\">\n",
       "      <th></th>\n",
       "      <th>Make_Year</th>\n",
       "      <th>Mileage_Run</th>\n",
       "      <th>No_of_Owners</th>\n",
       "      <th>Seating_Capacity</th>\n",
       "      <th>Fuel_Tank_Capacity(L)</th>\n",
       "      <th>CC_Displacement</th>\n",
       "      <th>Power(BHP)</th>\n",
       "      <th>Torque(Nm)</th>\n",
       "      <th>Mileage(kmpl)</th>\n",
       "      <th>Emission</th>\n",
       "      <th>...</th>\n",
       "      <th>Engine_Type_k14B VVT Engine</th>\n",
       "      <th>Engine_Type_mHawk Diesel Engine</th>\n",
       "      <th>Transmission_4-Speed</th>\n",
       "      <th>Transmission_5-Speed</th>\n",
       "      <th>Transmission_6-Speed</th>\n",
       "      <th>Transmission_7-Speed</th>\n",
       "      <th>Transmission_CVT</th>\n",
       "      <th>Transmission_Type_Automatic</th>\n",
       "      <th>Transmission_Type_Manual</th>\n",
       "      <th>Price</th>\n",
       "    </tr>\n",
       "  </thead>\n",
       "  <tbody>\n",
       "    <tr>\n",
       "      <th>0</th>\n",
       "      <td>0.01</td>\n",
       "      <td>0.13</td>\n",
       "      <td>-0.43</td>\n",
       "      <td>-0.21</td>\n",
       "      <td>0.34</td>\n",
       "      <td>0.71</td>\n",
       "      <td>0.69</td>\n",
       "      <td>1.59</td>\n",
       "      <td>0.80</td>\n",
       "      <td>-0.39</td>\n",
       "      <td>...</td>\n",
       "      <td>0</td>\n",
       "      <td>0</td>\n",
       "      <td>0</td>\n",
       "      <td>0</td>\n",
       "      <td>0</td>\n",
       "      <td>1</td>\n",
       "      <td>0</td>\n",
       "      <td>1</td>\n",
       "      <td>0</td>\n",
       "      <td>657000</td>\n",
       "    </tr>\n",
       "    <tr>\n",
       "      <th>1</th>\n",
       "      <td>-0.34</td>\n",
       "      <td>-0.87</td>\n",
       "      <td>-0.43</td>\n",
       "      <td>-0.21</td>\n",
       "      <td>0.34</td>\n",
       "      <td>-0.38</td>\n",
       "      <td>-0.36</td>\n",
       "      <td>-0.44</td>\n",
       "      <td>-0.87</td>\n",
       "      <td>1.32</td>\n",
       "      <td>...</td>\n",
       "      <td>0</td>\n",
       "      <td>0</td>\n",
       "      <td>0</td>\n",
       "      <td>1</td>\n",
       "      <td>0</td>\n",
       "      <td>0</td>\n",
       "      <td>0</td>\n",
       "      <td>0</td>\n",
       "      <td>1</td>\n",
       "      <td>682000</td>\n",
       "    </tr>\n",
       "    <tr>\n",
       "      <th>2</th>\n",
       "      <td>0.72</td>\n",
       "      <td>-0.49</td>\n",
       "      <td>2.18</td>\n",
       "      <td>-0.21</td>\n",
       "      <td>-0.28</td>\n",
       "      <td>-0.37</td>\n",
       "      <td>-0.11</td>\n",
       "      <td>-0.51</td>\n",
       "      <td>-1.12</td>\n",
       "      <td>-0.39</td>\n",
       "      <td>...</td>\n",
       "      <td>0</td>\n",
       "      <td>0</td>\n",
       "      <td>0</td>\n",
       "      <td>1</td>\n",
       "      <td>0</td>\n",
       "      <td>0</td>\n",
       "      <td>0</td>\n",
       "      <td>0</td>\n",
       "      <td>1</td>\n",
       "      <td>793000</td>\n",
       "    </tr>\n",
       "    <tr>\n",
       "      <th>3</th>\n",
       "      <td>0.01</td>\n",
       "      <td>-0.24</td>\n",
       "      <td>-0.43</td>\n",
       "      <td>-0.21</td>\n",
       "      <td>-1.77</td>\n",
       "      <td>-1.09</td>\n",
       "      <td>-0.95</td>\n",
       "      <td>-0.80</td>\n",
       "      <td>0.82</td>\n",
       "      <td>-0.39</td>\n",
       "      <td>...</td>\n",
       "      <td>0</td>\n",
       "      <td>0</td>\n",
       "      <td>0</td>\n",
       "      <td>1</td>\n",
       "      <td>0</td>\n",
       "      <td>0</td>\n",
       "      <td>0</td>\n",
       "      <td>0</td>\n",
       "      <td>1</td>\n",
       "      <td>414000</td>\n",
       "    </tr>\n",
       "    <tr>\n",
       "      <th>4</th>\n",
       "      <td>0.01</td>\n",
       "      <td>-0.67</td>\n",
       "      <td>-0.43</td>\n",
       "      <td>-0.21</td>\n",
       "      <td>0.09</td>\n",
       "      <td>-0.38</td>\n",
       "      <td>-0.37</td>\n",
       "      <td>-0.46</td>\n",
       "      <td>-0.23</td>\n",
       "      <td>1.32</td>\n",
       "      <td>...</td>\n",
       "      <td>0</td>\n",
       "      <td>0</td>\n",
       "      <td>0</td>\n",
       "      <td>1</td>\n",
       "      <td>0</td>\n",
       "      <td>0</td>\n",
       "      <td>0</td>\n",
       "      <td>0</td>\n",
       "      <td>1</td>\n",
       "      <td>515000</td>\n",
       "    </tr>\n",
       "    <tr>\n",
       "      <th>...</th>\n",
       "      <td>...</td>\n",
       "      <td>...</td>\n",
       "      <td>...</td>\n",
       "      <td>...</td>\n",
       "      <td>...</td>\n",
       "      <td>...</td>\n",
       "      <td>...</td>\n",
       "      <td>...</td>\n",
       "      <td>...</td>\n",
       "      <td>...</td>\n",
       "      <td>...</td>\n",
       "      <td>...</td>\n",
       "      <td>...</td>\n",
       "      <td>...</td>\n",
       "      <td>...</td>\n",
       "      <td>...</td>\n",
       "      <td>...</td>\n",
       "      <td>...</td>\n",
       "      <td>...</td>\n",
       "      <td>...</td>\n",
       "      <td>...</td>\n",
       "    </tr>\n",
       "    <tr>\n",
       "      <th>968</th>\n",
       "      <td>0.37</td>\n",
       "      <td>-0.73</td>\n",
       "      <td>-0.43</td>\n",
       "      <td>-0.21</td>\n",
       "      <td>0.09</td>\n",
       "      <td>1.05</td>\n",
       "      <td>1.15</td>\n",
       "      <td>0.21</td>\n",
       "      <td>-0.79</td>\n",
       "      <td>1.32</td>\n",
       "      <td>...</td>\n",
       "      <td>0</td>\n",
       "      <td>0</td>\n",
       "      <td>0</td>\n",
       "      <td>0</td>\n",
       "      <td>1</td>\n",
       "      <td>0</td>\n",
       "      <td>0</td>\n",
       "      <td>1</td>\n",
       "      <td>0</td>\n",
       "      <td>956000</td>\n",
       "    </tr>\n",
       "    <tr>\n",
       "      <th>969</th>\n",
       "      <td>0.72</td>\n",
       "      <td>-1.10</td>\n",
       "      <td>-0.43</td>\n",
       "      <td>-0.21</td>\n",
       "      <td>0.09</td>\n",
       "      <td>1.05</td>\n",
       "      <td>1.15</td>\n",
       "      <td>0.21</td>\n",
       "      <td>-0.79</td>\n",
       "      <td>1.32</td>\n",
       "      <td>...</td>\n",
       "      <td>0</td>\n",
       "      <td>0</td>\n",
       "      <td>0</td>\n",
       "      <td>0</td>\n",
       "      <td>1</td>\n",
       "      <td>0</td>\n",
       "      <td>0</td>\n",
       "      <td>1</td>\n",
       "      <td>0</td>\n",
       "      <td>1027000</td>\n",
       "    </tr>\n",
       "    <tr>\n",
       "      <th>970</th>\n",
       "      <td>-1.05</td>\n",
       "      <td>0.46</td>\n",
       "      <td>-0.43</td>\n",
       "      <td>-0.21</td>\n",
       "      <td>0.09</td>\n",
       "      <td>1.05</td>\n",
       "      <td>1.15</td>\n",
       "      <td>0.21</td>\n",
       "      <td>-0.93</td>\n",
       "      <td>-2.09</td>\n",
       "      <td>...</td>\n",
       "      <td>0</td>\n",
       "      <td>0</td>\n",
       "      <td>1</td>\n",
       "      <td>0</td>\n",
       "      <td>0</td>\n",
       "      <td>0</td>\n",
       "      <td>0</td>\n",
       "      <td>1</td>\n",
       "      <td>0</td>\n",
       "      <td>736000</td>\n",
       "    </tr>\n",
       "    <tr>\n",
       "      <th>971</th>\n",
       "      <td>1.08</td>\n",
       "      <td>-0.54</td>\n",
       "      <td>2.18</td>\n",
       "      <td>-0.21</td>\n",
       "      <td>-0.03</td>\n",
       "      <td>0.72</td>\n",
       "      <td>0.30</td>\n",
       "      <td>1.06</td>\n",
       "      <td>-0.38</td>\n",
       "      <td>1.32</td>\n",
       "      <td>...</td>\n",
       "      <td>0</td>\n",
       "      <td>0</td>\n",
       "      <td>0</td>\n",
       "      <td>1</td>\n",
       "      <td>0</td>\n",
       "      <td>0</td>\n",
       "      <td>0</td>\n",
       "      <td>1</td>\n",
       "      <td>0</td>\n",
       "      <td>749000</td>\n",
       "    </tr>\n",
       "    <tr>\n",
       "      <th>972</th>\n",
       "      <td>0.37</td>\n",
       "      <td>-0.01</td>\n",
       "      <td>-0.43</td>\n",
       "      <td>-0.21</td>\n",
       "      <td>-1.27</td>\n",
       "      <td>-0.38</td>\n",
       "      <td>-0.37</td>\n",
       "      <td>-0.47</td>\n",
       "      <td>0.51</td>\n",
       "      <td>1.32</td>\n",
       "      <td>...</td>\n",
       "      <td>0</td>\n",
       "      <td>0</td>\n",
       "      <td>0</td>\n",
       "      <td>1</td>\n",
       "      <td>0</td>\n",
       "      <td>0</td>\n",
       "      <td>0</td>\n",
       "      <td>1</td>\n",
       "      <td>0</td>\n",
       "      <td>691000</td>\n",
       "    </tr>\n",
       "  </tbody>\n",
       "</table>\n",
       "<p>973 rows × 655 columns</p>\n",
       "</div>"
      ],
      "text/plain": [
       "     Make_Year  Mileage_Run  No_of_Owners  Seating_Capacity  \\\n",
       "0         0.01         0.13         -0.43             -0.21   \n",
       "1        -0.34        -0.87         -0.43             -0.21   \n",
       "2         0.72        -0.49          2.18             -0.21   \n",
       "3         0.01        -0.24         -0.43             -0.21   \n",
       "4         0.01        -0.67         -0.43             -0.21   \n",
       "..         ...          ...           ...               ...   \n",
       "968       0.37        -0.73         -0.43             -0.21   \n",
       "969       0.72        -1.10         -0.43             -0.21   \n",
       "970      -1.05         0.46         -0.43             -0.21   \n",
       "971       1.08        -0.54          2.18             -0.21   \n",
       "972       0.37        -0.01         -0.43             -0.21   \n",
       "\n",
       "     Fuel_Tank_Capacity(L)  CC_Displacement  Power(BHP)  Torque(Nm)  \\\n",
       "0                     0.34             0.71        0.69        1.59   \n",
       "1                     0.34            -0.38       -0.36       -0.44   \n",
       "2                    -0.28            -0.37       -0.11       -0.51   \n",
       "3                    -1.77            -1.09       -0.95       -0.80   \n",
       "4                     0.09            -0.38       -0.37       -0.46   \n",
       "..                     ...              ...         ...         ...   \n",
       "968                   0.09             1.05        1.15        0.21   \n",
       "969                   0.09             1.05        1.15        0.21   \n",
       "970                   0.09             1.05        1.15        0.21   \n",
       "971                  -0.03             0.72        0.30        1.06   \n",
       "972                  -1.27            -0.38       -0.37       -0.47   \n",
       "\n",
       "     Mileage(kmpl)  Emission  ...  Engine_Type_k14B VVT Engine  \\\n",
       "0             0.80     -0.39  ...                            0   \n",
       "1            -0.87      1.32  ...                            0   \n",
       "2            -1.12     -0.39  ...                            0   \n",
       "3             0.82     -0.39  ...                            0   \n",
       "4            -0.23      1.32  ...                            0   \n",
       "..             ...       ...  ...                          ...   \n",
       "968          -0.79      1.32  ...                            0   \n",
       "969          -0.79      1.32  ...                            0   \n",
       "970          -0.93     -2.09  ...                            0   \n",
       "971          -0.38      1.32  ...                            0   \n",
       "972           0.51      1.32  ...                            0   \n",
       "\n",
       "     Engine_Type_mHawk Diesel Engine  Transmission_4-Speed  \\\n",
       "0                                  0                     0   \n",
       "1                                  0                     0   \n",
       "2                                  0                     0   \n",
       "3                                  0                     0   \n",
       "4                                  0                     0   \n",
       "..                               ...                   ...   \n",
       "968                                0                     0   \n",
       "969                                0                     0   \n",
       "970                                0                     1   \n",
       "971                                0                     0   \n",
       "972                                0                     0   \n",
       "\n",
       "     Transmission_5-Speed  Transmission_6-Speed  Transmission_7-Speed  \\\n",
       "0                       0                     0                     1   \n",
       "1                       1                     0                     0   \n",
       "2                       1                     0                     0   \n",
       "3                       1                     0                     0   \n",
       "4                       1                     0                     0   \n",
       "..                    ...                   ...                   ...   \n",
       "968                     0                     1                     0   \n",
       "969                     0                     1                     0   \n",
       "970                     0                     0                     0   \n",
       "971                     1                     0                     0   \n",
       "972                     1                     0                     0   \n",
       "\n",
       "     Transmission_CVT  Transmission_Type_Automatic  Transmission_Type_Manual  \\\n",
       "0                   0                            1                         0   \n",
       "1                   0                            0                         1   \n",
       "2                   0                            0                         1   \n",
       "3                   0                            0                         1   \n",
       "4                   0                            0                         1   \n",
       "..                ...                          ...                       ...   \n",
       "968                 0                            1                         0   \n",
       "969                 0                            1                         0   \n",
       "970                 0                            1                         0   \n",
       "971                 0                            1                         0   \n",
       "972                 0                            1                         0   \n",
       "\n",
       "       Price  \n",
       "0     657000  \n",
       "1     682000  \n",
       "2     793000  \n",
       "3     414000  \n",
       "4     515000  \n",
       "..       ...  \n",
       "968   956000  \n",
       "969  1027000  \n",
       "970   736000  \n",
       "971   749000  \n",
       "972   691000  \n",
       "\n",
       "[973 rows x 655 columns]"
      ]
     },
     "execution_count": 37,
     "metadata": {},
     "output_type": "execute_result"
    }
   ],
   "source": [
    "df1"
   ]
  },
  {
   "cell_type": "markdown",
   "metadata": {},
   "source": [
    "Creating variables for target feature and the data frame of other features in preparation for splitting\n",
    "the data between training data and testing data"
   ]
  },
  {
   "cell_type": "code",
   "execution_count": 38,
   "metadata": {},
   "outputs": [],
   "source": [
    "X = df1.drop('Price',axis=1)\n",
    "y = df1['Price']"
   ]
  },
  {
   "cell_type": "markdown",
   "metadata": {},
   "source": [
    "Splitting the data so that i have data to train the model and data to test the model with"
   ]
  },
  {
   "cell_type": "code",
   "execution_count": 39,
   "metadata": {},
   "outputs": [],
   "source": [
    "X_train, X_test, y_train, y_test = train_test_split(\n",
    "                                                X,\n",
    "                                                y,\n",
    "                                                test_size=0.2,\n",
    "                                                random_state=42)"
   ]
  },
  {
   "cell_type": "markdown",
   "metadata": {},
   "source": [
    "Creating a linear regression model, fitting it with training data and testing it with a program and\n",
    "cross validating it."
   ]
  },
  {
   "cell_type": "code",
   "execution_count": 40,
   "metadata": {},
   "outputs": [
    {
     "name": "stdout",
     "output_type": "stream",
     "text": [
      "train scores: [0.99418695 0.9940379  0.99345253 0.99313692 0.99383978],\n",
      "      test scores: [-5.04688798e+20 -2.55921133e+23 -7.00188928e+23 -2.29411695e+23\n",
      " -3.23709413e+23]\n"
     ]
    }
   ],
   "source": [
    "lr = LinearRegression()\n",
    "scores_lr = cross_validate(\n",
    "                    lr, X_train, y_train, cv=5, \n",
    "                    return_train_score=True)\n",
    "print(f\"\"\"train scores: {scores_lr['train_score']},\n",
    "      test scores {scores_lr['test_score']}\"\"\")"
   ]
  },
  {
   "cell_type": "code",
   "execution_count": null,
   "metadata": {},
   "outputs": [],
   "source": []
  },
  {
   "cell_type": "code",
   "execution_count": null,
   "metadata": {},
   "outputs": [],
   "source": []
  },
  {
   "cell_type": "markdown",
   "metadata": {},
   "source": [
    "Creating a decision tree regression model, fitting it with training data and testing it with a program and\n",
    "cross validating it to see if it performs better"
   ]
  },
  {
   "cell_type": "code",
   "execution_count": 41,
   "metadata": {},
   "outputs": [
    {
     "name": "stdout",
     "output_type": "stream",
     "text": [
      "train scores: [1. 1. 1. 1. 1.],\n",
      "      test scores: [0.86757785 0.88141676 0.94567916 0.91765571 0.94118661]\n"
     ]
    }
   ],
   "source": [
    "dtr = DecisionTreeRegressor()\n",
    "scores_dtr = cross_validate(\n",
    "                    dtr, X_train, y_train, cv=5, \n",
    "                    return_train_score=True)\n",
    "print(f\"\"\"train scores: {scores_dtr['train_score']},\n",
    "      test scores: {scores_dtr['test_score']}\"\"\")"
   ]
  },
  {
   "cell_type": "markdown",
   "metadata": {},
   "source": [
    "I have decided to use a decision tree regressor model since it has performed better on the cross validation. \n",
    "Now i am making a dummy model that just uses the mean values to see my improvement in the model that i create"
   ]
  },
  {
   "cell_type": "code",
   "execution_count": 42,
   "metadata": {},
   "outputs": [],
   "source": [
    "from sklearn.dummy import DummyRegressor as dr"
   ]
  },
  {
   "cell_type": "code",
   "execution_count": 43,
   "metadata": {},
   "outputs": [],
   "source": [
    "dr1 = dr()"
   ]
  },
  {
   "cell_type": "code",
   "execution_count": 44,
   "metadata": {
    "scrolled": true
   },
   "outputs": [
    {
     "data": {
      "text/plain": [
       "DummyRegressor()"
      ]
     },
     "execution_count": 44,
     "metadata": {},
     "output_type": "execute_result"
    }
   ],
   "source": [
    "dr1.fit(X_train, y_train)"
   ]
  },
  {
   "cell_type": "markdown",
   "metadata": {},
   "source": [
    "getting the R^2 score of the dummy model on the training data"
   ]
  },
  {
   "cell_type": "code",
   "execution_count": 86,
   "metadata": {},
   "outputs": [
    {
     "data": {
      "text/plain": [
       "0.0"
      ]
     },
     "execution_count": 86,
     "metadata": {},
     "output_type": "execute_result"
    }
   ],
   "source": [
    "dr1.score(X_train,y_train)"
   ]
  },
  {
   "cell_type": "markdown",
   "metadata": {},
   "source": [
    "Looking at the dummy regressors predictions to make sure that it worked"
   ]
  },
  {
   "cell_type": "code",
   "execution_count": 45,
   "metadata": {
    "scrolled": true
   },
   "outputs": [
    {
     "data": {
      "text/plain": [
       "array([745221.07969152, 745221.07969152, 745221.07969152, 745221.07969152,\n",
       "       745221.07969152, 745221.07969152, 745221.07969152, 745221.07969152,\n",
       "       745221.07969152, 745221.07969152, 745221.07969152, 745221.07969152,\n",
       "       745221.07969152, 745221.07969152, 745221.07969152, 745221.07969152,\n",
       "       745221.07969152, 745221.07969152, 745221.07969152, 745221.07969152,\n",
       "       745221.07969152, 745221.07969152, 745221.07969152, 745221.07969152,\n",
       "       745221.07969152, 745221.07969152, 745221.07969152, 745221.07969152,\n",
       "       745221.07969152, 745221.07969152, 745221.07969152, 745221.07969152,\n",
       "       745221.07969152, 745221.07969152, 745221.07969152, 745221.07969152,\n",
       "       745221.07969152, 745221.07969152, 745221.07969152, 745221.07969152,\n",
       "       745221.07969152, 745221.07969152, 745221.07969152, 745221.07969152,\n",
       "       745221.07969152, 745221.07969152, 745221.07969152, 745221.07969152,\n",
       "       745221.07969152, 745221.07969152, 745221.07969152, 745221.07969152,\n",
       "       745221.07969152, 745221.07969152, 745221.07969152, 745221.07969152,\n",
       "       745221.07969152, 745221.07969152, 745221.07969152, 745221.07969152,\n",
       "       745221.07969152, 745221.07969152, 745221.07969152, 745221.07969152,\n",
       "       745221.07969152, 745221.07969152, 745221.07969152, 745221.07969152,\n",
       "       745221.07969152, 745221.07969152, 745221.07969152, 745221.07969152,\n",
       "       745221.07969152, 745221.07969152, 745221.07969152, 745221.07969152,\n",
       "       745221.07969152, 745221.07969152, 745221.07969152, 745221.07969152,\n",
       "       745221.07969152, 745221.07969152, 745221.07969152, 745221.07969152,\n",
       "       745221.07969152, 745221.07969152, 745221.07969152, 745221.07969152,\n",
       "       745221.07969152, 745221.07969152, 745221.07969152, 745221.07969152,\n",
       "       745221.07969152, 745221.07969152, 745221.07969152, 745221.07969152,\n",
       "       745221.07969152, 745221.07969152, 745221.07969152, 745221.07969152,\n",
       "       745221.07969152, 745221.07969152, 745221.07969152, 745221.07969152,\n",
       "       745221.07969152, 745221.07969152, 745221.07969152, 745221.07969152,\n",
       "       745221.07969152, 745221.07969152, 745221.07969152, 745221.07969152,\n",
       "       745221.07969152, 745221.07969152, 745221.07969152, 745221.07969152,\n",
       "       745221.07969152, 745221.07969152, 745221.07969152, 745221.07969152,\n",
       "       745221.07969152, 745221.07969152, 745221.07969152, 745221.07969152,\n",
       "       745221.07969152, 745221.07969152, 745221.07969152, 745221.07969152,\n",
       "       745221.07969152, 745221.07969152, 745221.07969152, 745221.07969152,\n",
       "       745221.07969152, 745221.07969152, 745221.07969152, 745221.07969152,\n",
       "       745221.07969152, 745221.07969152, 745221.07969152, 745221.07969152,\n",
       "       745221.07969152, 745221.07969152, 745221.07969152, 745221.07969152,\n",
       "       745221.07969152, 745221.07969152, 745221.07969152, 745221.07969152,\n",
       "       745221.07969152, 745221.07969152, 745221.07969152, 745221.07969152,\n",
       "       745221.07969152, 745221.07969152, 745221.07969152, 745221.07969152,\n",
       "       745221.07969152, 745221.07969152, 745221.07969152, 745221.07969152,\n",
       "       745221.07969152, 745221.07969152, 745221.07969152, 745221.07969152,\n",
       "       745221.07969152, 745221.07969152, 745221.07969152, 745221.07969152,\n",
       "       745221.07969152, 745221.07969152, 745221.07969152, 745221.07969152,\n",
       "       745221.07969152, 745221.07969152, 745221.07969152, 745221.07969152,\n",
       "       745221.07969152, 745221.07969152, 745221.07969152, 745221.07969152,\n",
       "       745221.07969152, 745221.07969152, 745221.07969152, 745221.07969152,\n",
       "       745221.07969152, 745221.07969152, 745221.07969152, 745221.07969152,\n",
       "       745221.07969152, 745221.07969152, 745221.07969152, 745221.07969152,\n",
       "       745221.07969152, 745221.07969152, 745221.07969152, 745221.07969152,\n",
       "       745221.07969152, 745221.07969152, 745221.07969152, 745221.07969152,\n",
       "       745221.07969152, 745221.07969152, 745221.07969152, 745221.07969152,\n",
       "       745221.07969152, 745221.07969152, 745221.07969152, 745221.07969152,\n",
       "       745221.07969152, 745221.07969152, 745221.07969152, 745221.07969152,\n",
       "       745221.07969152, 745221.07969152, 745221.07969152, 745221.07969152,\n",
       "       745221.07969152, 745221.07969152, 745221.07969152, 745221.07969152,\n",
       "       745221.07969152, 745221.07969152, 745221.07969152, 745221.07969152,\n",
       "       745221.07969152, 745221.07969152, 745221.07969152, 745221.07969152,\n",
       "       745221.07969152, 745221.07969152, 745221.07969152, 745221.07969152,\n",
       "       745221.07969152, 745221.07969152, 745221.07969152, 745221.07969152,\n",
       "       745221.07969152, 745221.07969152, 745221.07969152, 745221.07969152,\n",
       "       745221.07969152, 745221.07969152, 745221.07969152, 745221.07969152,\n",
       "       745221.07969152, 745221.07969152, 745221.07969152, 745221.07969152,\n",
       "       745221.07969152, 745221.07969152, 745221.07969152, 745221.07969152,\n",
       "       745221.07969152, 745221.07969152, 745221.07969152, 745221.07969152,\n",
       "       745221.07969152, 745221.07969152, 745221.07969152, 745221.07969152,\n",
       "       745221.07969152, 745221.07969152, 745221.07969152, 745221.07969152,\n",
       "       745221.07969152, 745221.07969152, 745221.07969152, 745221.07969152,\n",
       "       745221.07969152, 745221.07969152, 745221.07969152, 745221.07969152,\n",
       "       745221.07969152, 745221.07969152, 745221.07969152, 745221.07969152,\n",
       "       745221.07969152, 745221.07969152, 745221.07969152, 745221.07969152,\n",
       "       745221.07969152, 745221.07969152, 745221.07969152, 745221.07969152,\n",
       "       745221.07969152, 745221.07969152, 745221.07969152, 745221.07969152,\n",
       "       745221.07969152, 745221.07969152, 745221.07969152, 745221.07969152,\n",
       "       745221.07969152, 745221.07969152, 745221.07969152, 745221.07969152,\n",
       "       745221.07969152, 745221.07969152, 745221.07969152, 745221.07969152,\n",
       "       745221.07969152, 745221.07969152, 745221.07969152, 745221.07969152,\n",
       "       745221.07969152, 745221.07969152, 745221.07969152, 745221.07969152,\n",
       "       745221.07969152, 745221.07969152, 745221.07969152, 745221.07969152,\n",
       "       745221.07969152, 745221.07969152, 745221.07969152, 745221.07969152,\n",
       "       745221.07969152, 745221.07969152, 745221.07969152, 745221.07969152,\n",
       "       745221.07969152, 745221.07969152, 745221.07969152, 745221.07969152,\n",
       "       745221.07969152, 745221.07969152, 745221.07969152, 745221.07969152,\n",
       "       745221.07969152, 745221.07969152, 745221.07969152, 745221.07969152,\n",
       "       745221.07969152, 745221.07969152, 745221.07969152, 745221.07969152,\n",
       "       745221.07969152, 745221.07969152, 745221.07969152, 745221.07969152,\n",
       "       745221.07969152, 745221.07969152, 745221.07969152, 745221.07969152,\n",
       "       745221.07969152, 745221.07969152, 745221.07969152, 745221.07969152,\n",
       "       745221.07969152, 745221.07969152, 745221.07969152, 745221.07969152,\n",
       "       745221.07969152, 745221.07969152, 745221.07969152, 745221.07969152,\n",
       "       745221.07969152, 745221.07969152, 745221.07969152, 745221.07969152,\n",
       "       745221.07969152, 745221.07969152, 745221.07969152, 745221.07969152,\n",
       "       745221.07969152, 745221.07969152, 745221.07969152, 745221.07969152,\n",
       "       745221.07969152, 745221.07969152, 745221.07969152, 745221.07969152,\n",
       "       745221.07969152, 745221.07969152, 745221.07969152, 745221.07969152,\n",
       "       745221.07969152, 745221.07969152, 745221.07969152, 745221.07969152,\n",
       "       745221.07969152, 745221.07969152, 745221.07969152, 745221.07969152,\n",
       "       745221.07969152, 745221.07969152, 745221.07969152, 745221.07969152,\n",
       "       745221.07969152, 745221.07969152, 745221.07969152, 745221.07969152,\n",
       "       745221.07969152, 745221.07969152, 745221.07969152, 745221.07969152,\n",
       "       745221.07969152, 745221.07969152, 745221.07969152, 745221.07969152,\n",
       "       745221.07969152, 745221.07969152, 745221.07969152, 745221.07969152,\n",
       "       745221.07969152, 745221.07969152, 745221.07969152, 745221.07969152,\n",
       "       745221.07969152, 745221.07969152, 745221.07969152, 745221.07969152,\n",
       "       745221.07969152, 745221.07969152, 745221.07969152, 745221.07969152,\n",
       "       745221.07969152, 745221.07969152, 745221.07969152, 745221.07969152,\n",
       "       745221.07969152, 745221.07969152, 745221.07969152, 745221.07969152,\n",
       "       745221.07969152, 745221.07969152, 745221.07969152, 745221.07969152,\n",
       "       745221.07969152, 745221.07969152, 745221.07969152, 745221.07969152,\n",
       "       745221.07969152, 745221.07969152, 745221.07969152, 745221.07969152,\n",
       "       745221.07969152, 745221.07969152, 745221.07969152, 745221.07969152,\n",
       "       745221.07969152, 745221.07969152, 745221.07969152, 745221.07969152,\n",
       "       745221.07969152, 745221.07969152, 745221.07969152, 745221.07969152,\n",
       "       745221.07969152, 745221.07969152, 745221.07969152, 745221.07969152,\n",
       "       745221.07969152, 745221.07969152, 745221.07969152, 745221.07969152,\n",
       "       745221.07969152, 745221.07969152, 745221.07969152, 745221.07969152,\n",
       "       745221.07969152, 745221.07969152, 745221.07969152, 745221.07969152,\n",
       "       745221.07969152, 745221.07969152, 745221.07969152, 745221.07969152,\n",
       "       745221.07969152, 745221.07969152, 745221.07969152, 745221.07969152,\n",
       "       745221.07969152, 745221.07969152, 745221.07969152, 745221.07969152,\n",
       "       745221.07969152, 745221.07969152, 745221.07969152, 745221.07969152,\n",
       "       745221.07969152, 745221.07969152, 745221.07969152, 745221.07969152,\n",
       "       745221.07969152, 745221.07969152, 745221.07969152, 745221.07969152,\n",
       "       745221.07969152, 745221.07969152, 745221.07969152, 745221.07969152,\n",
       "       745221.07969152, 745221.07969152, 745221.07969152, 745221.07969152,\n",
       "       745221.07969152, 745221.07969152, 745221.07969152, 745221.07969152,\n",
       "       745221.07969152, 745221.07969152, 745221.07969152, 745221.07969152,\n",
       "       745221.07969152, 745221.07969152, 745221.07969152, 745221.07969152,\n",
       "       745221.07969152, 745221.07969152, 745221.07969152, 745221.07969152,\n",
       "       745221.07969152, 745221.07969152, 745221.07969152, 745221.07969152,\n",
       "       745221.07969152, 745221.07969152, 745221.07969152, 745221.07969152,\n",
       "       745221.07969152, 745221.07969152, 745221.07969152, 745221.07969152,\n",
       "       745221.07969152, 745221.07969152, 745221.07969152, 745221.07969152,\n",
       "       745221.07969152, 745221.07969152, 745221.07969152, 745221.07969152,\n",
       "       745221.07969152, 745221.07969152, 745221.07969152, 745221.07969152,\n",
       "       745221.07969152, 745221.07969152, 745221.07969152, 745221.07969152,\n",
       "       745221.07969152, 745221.07969152, 745221.07969152, 745221.07969152,\n",
       "       745221.07969152, 745221.07969152, 745221.07969152, 745221.07969152,\n",
       "       745221.07969152, 745221.07969152, 745221.07969152, 745221.07969152,\n",
       "       745221.07969152, 745221.07969152, 745221.07969152, 745221.07969152,\n",
       "       745221.07969152, 745221.07969152, 745221.07969152, 745221.07969152,\n",
       "       745221.07969152, 745221.07969152, 745221.07969152, 745221.07969152,\n",
       "       745221.07969152, 745221.07969152, 745221.07969152, 745221.07969152,\n",
       "       745221.07969152, 745221.07969152, 745221.07969152, 745221.07969152,\n",
       "       745221.07969152, 745221.07969152, 745221.07969152, 745221.07969152,\n",
       "       745221.07969152, 745221.07969152, 745221.07969152, 745221.07969152,\n",
       "       745221.07969152, 745221.07969152, 745221.07969152, 745221.07969152,\n",
       "       745221.07969152, 745221.07969152, 745221.07969152, 745221.07969152,\n",
       "       745221.07969152, 745221.07969152, 745221.07969152, 745221.07969152,\n",
       "       745221.07969152, 745221.07969152, 745221.07969152, 745221.07969152,\n",
       "       745221.07969152, 745221.07969152, 745221.07969152, 745221.07969152,\n",
       "       745221.07969152, 745221.07969152, 745221.07969152, 745221.07969152,\n",
       "       745221.07969152, 745221.07969152, 745221.07969152, 745221.07969152,\n",
       "       745221.07969152, 745221.07969152, 745221.07969152, 745221.07969152,\n",
       "       745221.07969152, 745221.07969152, 745221.07969152, 745221.07969152,\n",
       "       745221.07969152, 745221.07969152, 745221.07969152, 745221.07969152,\n",
       "       745221.07969152, 745221.07969152, 745221.07969152, 745221.07969152,\n",
       "       745221.07969152, 745221.07969152, 745221.07969152, 745221.07969152,\n",
       "       745221.07969152, 745221.07969152, 745221.07969152, 745221.07969152,\n",
       "       745221.07969152, 745221.07969152, 745221.07969152, 745221.07969152,\n",
       "       745221.07969152, 745221.07969152, 745221.07969152, 745221.07969152,\n",
       "       745221.07969152, 745221.07969152, 745221.07969152, 745221.07969152,\n",
       "       745221.07969152, 745221.07969152, 745221.07969152, 745221.07969152,\n",
       "       745221.07969152, 745221.07969152, 745221.07969152, 745221.07969152,\n",
       "       745221.07969152, 745221.07969152, 745221.07969152, 745221.07969152,\n",
       "       745221.07969152, 745221.07969152, 745221.07969152, 745221.07969152,\n",
       "       745221.07969152, 745221.07969152, 745221.07969152, 745221.07969152,\n",
       "       745221.07969152, 745221.07969152, 745221.07969152, 745221.07969152,\n",
       "       745221.07969152, 745221.07969152, 745221.07969152, 745221.07969152,\n",
       "       745221.07969152, 745221.07969152, 745221.07969152, 745221.07969152,\n",
       "       745221.07969152, 745221.07969152, 745221.07969152, 745221.07969152,\n",
       "       745221.07969152, 745221.07969152, 745221.07969152, 745221.07969152,\n",
       "       745221.07969152, 745221.07969152, 745221.07969152, 745221.07969152,\n",
       "       745221.07969152, 745221.07969152, 745221.07969152, 745221.07969152,\n",
       "       745221.07969152, 745221.07969152, 745221.07969152, 745221.07969152,\n",
       "       745221.07969152, 745221.07969152, 745221.07969152, 745221.07969152,\n",
       "       745221.07969152, 745221.07969152, 745221.07969152, 745221.07969152,\n",
       "       745221.07969152, 745221.07969152, 745221.07969152, 745221.07969152,\n",
       "       745221.07969152, 745221.07969152, 745221.07969152, 745221.07969152,\n",
       "       745221.07969152, 745221.07969152, 745221.07969152, 745221.07969152,\n",
       "       745221.07969152, 745221.07969152, 745221.07969152, 745221.07969152,\n",
       "       745221.07969152, 745221.07969152, 745221.07969152, 745221.07969152,\n",
       "       745221.07969152, 745221.07969152, 745221.07969152, 745221.07969152,\n",
       "       745221.07969152, 745221.07969152, 745221.07969152, 745221.07969152,\n",
       "       745221.07969152, 745221.07969152, 745221.07969152, 745221.07969152,\n",
       "       745221.07969152, 745221.07969152, 745221.07969152, 745221.07969152,\n",
       "       745221.07969152, 745221.07969152, 745221.07969152, 745221.07969152,\n",
       "       745221.07969152, 745221.07969152, 745221.07969152, 745221.07969152,\n",
       "       745221.07969152, 745221.07969152, 745221.07969152, 745221.07969152,\n",
       "       745221.07969152, 745221.07969152, 745221.07969152, 745221.07969152,\n",
       "       745221.07969152, 745221.07969152, 745221.07969152, 745221.07969152,\n",
       "       745221.07969152, 745221.07969152, 745221.07969152, 745221.07969152,\n",
       "       745221.07969152, 745221.07969152, 745221.07969152, 745221.07969152,\n",
       "       745221.07969152, 745221.07969152, 745221.07969152, 745221.07969152,\n",
       "       745221.07969152, 745221.07969152, 745221.07969152, 745221.07969152,\n",
       "       745221.07969152, 745221.07969152])"
      ]
     },
     "execution_count": 45,
     "metadata": {},
     "output_type": "execute_result"
    }
   ],
   "source": [
    "dr1.predict(X_train)"
   ]
  },
  {
   "cell_type": "markdown",
   "metadata": {},
   "source": [
    "Getting a preformace score with the dummy model to analyze the improvement of my modeling"
   ]
  },
  {
   "cell_type": "code",
   "execution_count": 46,
   "metadata": {},
   "outputs": [
    {
     "data": {
      "text/plain": [
       "0.0"
      ]
     },
     "execution_count": 46,
     "metadata": {},
     "output_type": "execute_result"
    }
   ],
   "source": [
    "dr1.score(X_train,y_train)"
   ]
  },
  {
   "cell_type": "markdown",
   "metadata": {},
   "source": [
    "Creating my grid, which are the different options i can implement as my parameters for my DecisionTree Regressor\n",
    "Model."
   ]
  },
  {
   "cell_type": "code",
   "execution_count": 47,
   "metadata": {},
   "outputs": [],
   "source": [
    "grid = {'criterion' : ['squared_error', 'friedman_mse', 'absolute_error', 'poisson'], 'splitter' : ['best', 'random'], 'min_samples_split' : [2,5,7]  }"
   ]
  },
  {
   "cell_type": "markdown",
   "metadata": {},
   "source": [
    "Performing a GridSearch. The computer is running the data through a decision tree model with every possible combination of the grid parameters. It will also cross validate each time and return the parameters that create the best score."
   ]
  },
  {
   "cell_type": "code",
   "execution_count": 48,
   "metadata": {},
   "outputs": [],
   "source": [
    "gs= GridSearchCV(dtr, grid, verbose=3, n_jobs=-2)"
   ]
  },
  {
   "cell_type": "code",
   "execution_count": 49,
   "metadata": {
    "scrolled": true
   },
   "outputs": [
    {
     "name": "stdout",
     "output_type": "stream",
     "text": [
      "Fitting 5 folds for each of 24 candidates, totalling 120 fits\n"
     ]
    },
    {
     "name": "stderr",
     "output_type": "stream",
     "text": [
      "[Parallel(n_jobs=-2)]: Using backend LokyBackend with 15 concurrent workers.\n",
      "[Parallel(n_jobs=-2)]: Done   2 tasks      | elapsed:    1.4s\n",
      "[Parallel(n_jobs=-2)]: Done 120 out of 120 | elapsed:    2.0s finished\n"
     ]
    },
    {
     "data": {
      "text/plain": [
       "GridSearchCV(estimator=DecisionTreeRegressor(), n_jobs=-2,\n",
       "             param_grid={'criterion': ['squared_error', 'friedman_mse',\n",
       "                                       'absolute_error', 'poisson'],\n",
       "                         'min_samples_split': [2, 5, 7],\n",
       "                         'splitter': ['best', 'random']},\n",
       "             verbose=3)"
      ]
     },
     "execution_count": 49,
     "metadata": {},
     "output_type": "execute_result"
    }
   ],
   "source": [
    "gs.fit(X_train,y_train)"
   ]
  },
  {
   "cell_type": "markdown",
   "metadata": {},
   "source": [
    "Here I pull the best parameters from the Grid Search"
   ]
  },
  {
   "cell_type": "code",
   "execution_count": 50,
   "metadata": {},
   "outputs": [
    {
     "data": {
      "text/plain": [
       "{'criterion': 'friedman_mse', 'min_samples_split': 2, 'splitter': 'best'}"
      ]
     },
     "execution_count": 50,
     "metadata": {},
     "output_type": "execute_result"
    }
   ],
   "source": [
    "gs.best_params_"
   ]
  },
  {
   "cell_type": "markdown",
   "metadata": {},
   "source": [
    "Creating a Model with the best parameters that I pulled from the grid search"
   ]
  },
  {
   "cell_type": "code",
   "execution_count": 51,
   "metadata": {},
   "outputs": [],
   "source": [
    "best_dtr = DecisionTreeRegressor(criterion= 'friedman_mse', min_samples_split =  7, splitter= 'best')"
   ]
  },
  {
   "cell_type": "markdown",
   "metadata": {},
   "source": [
    "Cross Validating this model to see the improvement from the baseline model"
   ]
  },
  {
   "cell_type": "code",
   "execution_count": 52,
   "metadata": {},
   "outputs": [
    {
     "name": "stdout",
     "output_type": "stream",
     "text": [
      "train scores: [0.99229683 0.99320439 0.9906468  0.99214798 0.99060832],\n",
      "      test scores: [0.90030445 0.88922418 0.94212698 0.93030596 0.9389643 ]\n"
     ]
    }
   ],
   "source": [
    "scores_best_dtr = cross_validate(\n",
    "                    best_dtr, X_train, y_train, cv=5, \n",
    "                    return_train_score=True)\n",
    "print(f\"\"\"train scores: {scores_best_dtr['train_score']},\n",
    "      test scores: {scores_best_dtr['test_score']}\"\"\")"
   ]
  },
  {
   "cell_type": "code",
   "execution_count": null,
   "metadata": {},
   "outputs": [],
   "source": []
  },
  {
   "cell_type": "markdown",
   "metadata": {},
   "source": [
    "Fitting the training data to my new model"
   ]
  },
  {
   "cell_type": "code",
   "execution_count": 53,
   "metadata": {},
   "outputs": [
    {
     "data": {
      "text/plain": [
       "DecisionTreeRegressor(criterion='friedman_mse', min_samples_split=7)"
      ]
     },
     "execution_count": 53,
     "metadata": {},
     "output_type": "execute_result"
    }
   ],
   "source": [
    "best_dtr.fit(X_train,y_train)"
   ]
  },
  {
   "cell_type": "code",
   "execution_count": null,
   "metadata": {},
   "outputs": [],
   "source": []
  },
  {
   "cell_type": "code",
   "execution_count": 54,
   "metadata": {},
   "outputs": [
    {
     "data": {
      "text/plain": [
       "array([1.20962361e-01, 1.02206288e-02, 4.29302155e-04, 2.89436340e-04,\n",
       "       7.43439868e-02, 2.51563870e-03, 7.00596154e-01, 1.08570132e-02,\n",
       "       2.05175615e-02, 3.97845840e-05, 2.99253151e-05, 0.00000000e+00,\n",
       "       0.00000000e+00, 0.00000000e+00, 0.00000000e+00, 0.00000000e+00,\n",
       "       4.70296831e-05, 0.00000000e+00, 0.00000000e+00, 0.00000000e+00,\n",
       "       0.00000000e+00, 0.00000000e+00, 0.00000000e+00, 0.00000000e+00,\n",
       "       0.00000000e+00, 0.00000000e+00, 0.00000000e+00, 0.00000000e+00,\n",
       "       0.00000000e+00, 0.00000000e+00, 0.00000000e+00, 0.00000000e+00,\n",
       "       0.00000000e+00, 0.00000000e+00, 0.00000000e+00, 0.00000000e+00,\n",
       "       0.00000000e+00, 0.00000000e+00, 0.00000000e+00, 0.00000000e+00,\n",
       "       0.00000000e+00, 0.00000000e+00, 0.00000000e+00, 0.00000000e+00,\n",
       "       0.00000000e+00, 0.00000000e+00, 0.00000000e+00, 0.00000000e+00,\n",
       "       0.00000000e+00, 2.31373066e-06, 4.60403303e-04, 0.00000000e+00,\n",
       "       0.00000000e+00, 0.00000000e+00, 0.00000000e+00, 0.00000000e+00,\n",
       "       0.00000000e+00, 0.00000000e+00, 0.00000000e+00, 0.00000000e+00,\n",
       "       1.10285137e-03, 8.39067457e-05, 0.00000000e+00, 0.00000000e+00,\n",
       "       0.00000000e+00, 2.75492658e-06, 0.00000000e+00, 0.00000000e+00,\n",
       "       0.00000000e+00, 0.00000000e+00, 0.00000000e+00, 0.00000000e+00,\n",
       "       0.00000000e+00, 0.00000000e+00, 0.00000000e+00, 0.00000000e+00,\n",
       "       0.00000000e+00, 0.00000000e+00, 2.74709309e-05, 0.00000000e+00,\n",
       "       0.00000000e+00, 8.59657436e-05, 0.00000000e+00, 0.00000000e+00,\n",
       "       0.00000000e+00, 0.00000000e+00, 0.00000000e+00, 0.00000000e+00,\n",
       "       0.00000000e+00, 0.00000000e+00, 1.14772237e-04, 0.00000000e+00,\n",
       "       0.00000000e+00, 0.00000000e+00, 6.65972096e-06, 1.97591654e-04,\n",
       "       0.00000000e+00, 0.00000000e+00, 0.00000000e+00, 0.00000000e+00,\n",
       "       0.00000000e+00, 2.82373513e-05, 0.00000000e+00, 0.00000000e+00,\n",
       "       0.00000000e+00, 0.00000000e+00, 0.00000000e+00, 2.67104840e-06,\n",
       "       0.00000000e+00, 0.00000000e+00, 0.00000000e+00, 0.00000000e+00,\n",
       "       0.00000000e+00, 0.00000000e+00, 0.00000000e+00, 0.00000000e+00,\n",
       "       0.00000000e+00, 1.99956136e-06, 0.00000000e+00, 0.00000000e+00,\n",
       "       0.00000000e+00, 0.00000000e+00, 0.00000000e+00, 0.00000000e+00,\n",
       "       0.00000000e+00, 0.00000000e+00, 0.00000000e+00, 0.00000000e+00,\n",
       "       0.00000000e+00, 0.00000000e+00, 0.00000000e+00, 0.00000000e+00,\n",
       "       0.00000000e+00, 0.00000000e+00, 0.00000000e+00, 0.00000000e+00,\n",
       "       0.00000000e+00, 0.00000000e+00, 0.00000000e+00, 0.00000000e+00,\n",
       "       0.00000000e+00, 0.00000000e+00, 4.76129125e-04, 0.00000000e+00,\n",
       "       0.00000000e+00, 0.00000000e+00, 0.00000000e+00, 0.00000000e+00,\n",
       "       3.45340030e-04, 0.00000000e+00, 0.00000000e+00, 0.00000000e+00,\n",
       "       0.00000000e+00, 0.00000000e+00, 0.00000000e+00, 0.00000000e+00,\n",
       "       0.00000000e+00, 0.00000000e+00, 0.00000000e+00, 0.00000000e+00,\n",
       "       0.00000000e+00, 0.00000000e+00, 2.87297044e-05, 0.00000000e+00,\n",
       "       0.00000000e+00, 0.00000000e+00, 0.00000000e+00, 0.00000000e+00,\n",
       "       0.00000000e+00, 3.91539009e-04, 0.00000000e+00, 0.00000000e+00,\n",
       "       0.00000000e+00, 1.65805984e-04, 0.00000000e+00, 0.00000000e+00,\n",
       "       0.00000000e+00, 0.00000000e+00, 0.00000000e+00, 0.00000000e+00,\n",
       "       0.00000000e+00, 0.00000000e+00, 0.00000000e+00, 0.00000000e+00,\n",
       "       0.00000000e+00, 0.00000000e+00, 0.00000000e+00, 0.00000000e+00,\n",
       "       0.00000000e+00, 0.00000000e+00, 0.00000000e+00, 0.00000000e+00,\n",
       "       0.00000000e+00, 0.00000000e+00, 0.00000000e+00, 0.00000000e+00,\n",
       "       0.00000000e+00, 0.00000000e+00, 0.00000000e+00, 0.00000000e+00,\n",
       "       0.00000000e+00, 0.00000000e+00, 0.00000000e+00, 0.00000000e+00,\n",
       "       0.00000000e+00, 3.92474916e-04, 0.00000000e+00, 0.00000000e+00,\n",
       "       0.00000000e+00, 0.00000000e+00, 2.63809164e-05, 1.28473202e-05,\n",
       "       0.00000000e+00, 0.00000000e+00, 0.00000000e+00, 0.00000000e+00,\n",
       "       0.00000000e+00, 6.10529780e-05, 1.27617434e-05, 0.00000000e+00,\n",
       "       0.00000000e+00, 0.00000000e+00, 0.00000000e+00, 0.00000000e+00,\n",
       "       0.00000000e+00, 0.00000000e+00, 0.00000000e+00, 0.00000000e+00,\n",
       "       0.00000000e+00, 0.00000000e+00, 0.00000000e+00, 0.00000000e+00,\n",
       "       0.00000000e+00, 4.69032137e-05, 0.00000000e+00, 0.00000000e+00,\n",
       "       0.00000000e+00, 0.00000000e+00, 0.00000000e+00, 0.00000000e+00,\n",
       "       0.00000000e+00, 0.00000000e+00, 0.00000000e+00, 0.00000000e+00,\n",
       "       0.00000000e+00, 0.00000000e+00, 0.00000000e+00, 1.11337375e-04,\n",
       "       0.00000000e+00, 0.00000000e+00, 0.00000000e+00, 0.00000000e+00,\n",
       "       0.00000000e+00, 0.00000000e+00, 0.00000000e+00, 0.00000000e+00,\n",
       "       0.00000000e+00, 0.00000000e+00, 0.00000000e+00, 0.00000000e+00,\n",
       "       0.00000000e+00, 0.00000000e+00, 0.00000000e+00, 5.19692163e-05,\n",
       "       0.00000000e+00, 0.00000000e+00, 0.00000000e+00, 0.00000000e+00,\n",
       "       0.00000000e+00, 0.00000000e+00, 0.00000000e+00, 0.00000000e+00,\n",
       "       0.00000000e+00, 0.00000000e+00, 0.00000000e+00, 0.00000000e+00,\n",
       "       0.00000000e+00, 0.00000000e+00, 0.00000000e+00, 0.00000000e+00,\n",
       "       0.00000000e+00, 0.00000000e+00, 1.14780740e-04, 0.00000000e+00,\n",
       "       0.00000000e+00, 0.00000000e+00, 0.00000000e+00, 0.00000000e+00,\n",
       "       0.00000000e+00, 0.00000000e+00, 0.00000000e+00, 0.00000000e+00,\n",
       "       4.43031898e-06, 0.00000000e+00, 2.71575033e-04, 0.00000000e+00,\n",
       "       0.00000000e+00, 0.00000000e+00, 0.00000000e+00, 0.00000000e+00,\n",
       "       0.00000000e+00, 0.00000000e+00, 0.00000000e+00, 0.00000000e+00,\n",
       "       0.00000000e+00, 0.00000000e+00, 0.00000000e+00, 0.00000000e+00,\n",
       "       0.00000000e+00, 0.00000000e+00, 0.00000000e+00, 0.00000000e+00,\n",
       "       0.00000000e+00, 0.00000000e+00, 0.00000000e+00, 0.00000000e+00,\n",
       "       4.73883560e-05, 0.00000000e+00, 0.00000000e+00, 0.00000000e+00,\n",
       "       0.00000000e+00, 0.00000000e+00, 0.00000000e+00, 0.00000000e+00,\n",
       "       0.00000000e+00, 0.00000000e+00, 0.00000000e+00, 0.00000000e+00,\n",
       "       0.00000000e+00, 0.00000000e+00, 0.00000000e+00, 0.00000000e+00,\n",
       "       0.00000000e+00, 0.00000000e+00, 0.00000000e+00, 0.00000000e+00,\n",
       "       0.00000000e+00, 0.00000000e+00, 0.00000000e+00, 0.00000000e+00,\n",
       "       0.00000000e+00, 0.00000000e+00, 0.00000000e+00, 0.00000000e+00,\n",
       "       0.00000000e+00, 0.00000000e+00, 0.00000000e+00, 0.00000000e+00,\n",
       "       0.00000000e+00, 0.00000000e+00, 0.00000000e+00, 0.00000000e+00,\n",
       "       0.00000000e+00, 0.00000000e+00, 0.00000000e+00, 0.00000000e+00,\n",
       "       0.00000000e+00, 0.00000000e+00, 0.00000000e+00, 0.00000000e+00,\n",
       "       0.00000000e+00, 0.00000000e+00, 0.00000000e+00, 0.00000000e+00,\n",
       "       0.00000000e+00, 1.99651280e-03, 0.00000000e+00, 0.00000000e+00,\n",
       "       0.00000000e+00, 0.00000000e+00, 0.00000000e+00, 0.00000000e+00,\n",
       "       0.00000000e+00, 0.00000000e+00, 0.00000000e+00, 0.00000000e+00,\n",
       "       0.00000000e+00, 0.00000000e+00, 0.00000000e+00, 0.00000000e+00,\n",
       "       0.00000000e+00, 0.00000000e+00, 0.00000000e+00, 0.00000000e+00,\n",
       "       0.00000000e+00, 1.69074675e-05, 0.00000000e+00, 2.98155535e-05,\n",
       "       1.06023452e-04, 0.00000000e+00, 0.00000000e+00, 0.00000000e+00,\n",
       "       0.00000000e+00, 8.11720416e-04, 0.00000000e+00, 5.38492619e-05,\n",
       "       1.20741473e-02, 1.87432838e-04, 1.63779843e-05, 0.00000000e+00,\n",
       "       0.00000000e+00, 0.00000000e+00, 0.00000000e+00, 0.00000000e+00,\n",
       "       0.00000000e+00, 0.00000000e+00, 0.00000000e+00, 1.43569613e-07,\n",
       "       0.00000000e+00, 0.00000000e+00, 0.00000000e+00, 9.72287564e-04,\n",
       "       0.00000000e+00, 0.00000000e+00, 0.00000000e+00, 0.00000000e+00,\n",
       "       0.00000000e+00, 0.00000000e+00, 3.86989159e-04, 0.00000000e+00,\n",
       "       0.00000000e+00, 0.00000000e+00, 1.90004538e-04, 0.00000000e+00,\n",
       "       0.00000000e+00, 0.00000000e+00, 0.00000000e+00, 0.00000000e+00,\n",
       "       0.00000000e+00, 0.00000000e+00, 0.00000000e+00, 0.00000000e+00,\n",
       "       0.00000000e+00, 1.22057661e-03, 0.00000000e+00, 0.00000000e+00,\n",
       "       0.00000000e+00, 0.00000000e+00, 0.00000000e+00, 0.00000000e+00,\n",
       "       0.00000000e+00, 0.00000000e+00, 0.00000000e+00, 0.00000000e+00,\n",
       "       0.00000000e+00, 0.00000000e+00, 0.00000000e+00, 0.00000000e+00,\n",
       "       0.00000000e+00, 0.00000000e+00, 0.00000000e+00, 0.00000000e+00,\n",
       "       0.00000000e+00, 9.30783072e-05, 0.00000000e+00, 0.00000000e+00,\n",
       "       0.00000000e+00, 0.00000000e+00, 0.00000000e+00, 0.00000000e+00,\n",
       "       0.00000000e+00, 0.00000000e+00, 0.00000000e+00, 0.00000000e+00,\n",
       "       0.00000000e+00, 0.00000000e+00, 0.00000000e+00, 0.00000000e+00,\n",
       "       0.00000000e+00, 0.00000000e+00, 0.00000000e+00, 0.00000000e+00,\n",
       "       0.00000000e+00, 0.00000000e+00, 0.00000000e+00, 0.00000000e+00,\n",
       "       1.40850527e-04, 0.00000000e+00, 0.00000000e+00, 0.00000000e+00,\n",
       "       0.00000000e+00, 0.00000000e+00, 0.00000000e+00, 0.00000000e+00,\n",
       "       4.96355787e-04, 0.00000000e+00, 0.00000000e+00, 0.00000000e+00,\n",
       "       1.70608935e-03, 6.68347030e-04, 2.00663417e-05, 6.72674153e-05,\n",
       "       0.00000000e+00, 0.00000000e+00, 2.02693148e-04, 0.00000000e+00,\n",
       "       5.47636292e-04, 0.00000000e+00, 1.68042910e-03, 6.66891444e-05,\n",
       "       1.35206255e-04, 9.78742214e-05, 5.61465308e-05, 0.00000000e+00,\n",
       "       0.00000000e+00, 1.73900814e-03, 9.95652998e-03, 1.60674491e-05,\n",
       "       0.00000000e+00, 8.56176280e-05, 0.00000000e+00, 0.00000000e+00,\n",
       "       0.00000000e+00, 0.00000000e+00, 0.00000000e+00, 0.00000000e+00,\n",
       "       0.00000000e+00, 0.00000000e+00, 0.00000000e+00, 5.35421535e-05,\n",
       "       0.00000000e+00, 0.00000000e+00, 0.00000000e+00, 0.00000000e+00,\n",
       "       0.00000000e+00, 0.00000000e+00, 0.00000000e+00, 0.00000000e+00,\n",
       "       0.00000000e+00, 0.00000000e+00, 0.00000000e+00, 0.00000000e+00,\n",
       "       0.00000000e+00, 0.00000000e+00, 0.00000000e+00, 0.00000000e+00,\n",
       "       0.00000000e+00, 0.00000000e+00, 0.00000000e+00, 0.00000000e+00,\n",
       "       0.00000000e+00, 0.00000000e+00, 0.00000000e+00, 0.00000000e+00,\n",
       "       0.00000000e+00, 0.00000000e+00, 0.00000000e+00, 0.00000000e+00,\n",
       "       0.00000000e+00, 4.46348240e-03, 1.64194418e-03, 0.00000000e+00,\n",
       "       0.00000000e+00, 0.00000000e+00, 0.00000000e+00, 0.00000000e+00,\n",
       "       1.62535130e-04, 0.00000000e+00, 0.00000000e+00, 3.59090252e-03,\n",
       "       8.06125308e-04, 0.00000000e+00, 0.00000000e+00, 0.00000000e+00,\n",
       "       0.00000000e+00, 0.00000000e+00, 0.00000000e+00, 0.00000000e+00,\n",
       "       0.00000000e+00, 0.00000000e+00, 0.00000000e+00, 0.00000000e+00,\n",
       "       0.00000000e+00, 0.00000000e+00, 0.00000000e+00, 0.00000000e+00,\n",
       "       1.18961564e-05, 0.00000000e+00, 0.00000000e+00, 3.23928940e-06,\n",
       "       0.00000000e+00, 0.00000000e+00, 0.00000000e+00, 0.00000000e+00,\n",
       "       0.00000000e+00, 2.26875438e-05, 1.76051001e-03, 0.00000000e+00,\n",
       "       0.00000000e+00, 0.00000000e+00, 0.00000000e+00, 0.00000000e+00,\n",
       "       0.00000000e+00, 0.00000000e+00, 0.00000000e+00, 0.00000000e+00,\n",
       "       0.00000000e+00, 0.00000000e+00, 0.00000000e+00, 0.00000000e+00,\n",
       "       0.00000000e+00, 7.16084852e-05, 3.25982155e-04, 0.00000000e+00,\n",
       "       0.00000000e+00, 0.00000000e+00, 0.00000000e+00, 0.00000000e+00,\n",
       "       0.00000000e+00, 0.00000000e+00, 0.00000000e+00, 0.00000000e+00,\n",
       "       0.00000000e+00, 0.00000000e+00, 0.00000000e+00, 0.00000000e+00,\n",
       "       1.40962820e-03, 0.00000000e+00, 0.00000000e+00, 0.00000000e+00,\n",
       "       0.00000000e+00, 0.00000000e+00, 0.00000000e+00, 1.10687974e-03,\n",
       "       0.00000000e+00, 0.00000000e+00, 0.00000000e+00, 0.00000000e+00,\n",
       "       0.00000000e+00, 0.00000000e+00, 0.00000000e+00, 0.00000000e+00,\n",
       "       0.00000000e+00, 0.00000000e+00, 1.15953386e-03, 0.00000000e+00,\n",
       "       0.00000000e+00, 0.00000000e+00, 2.31612383e-04, 3.74132234e-04,\n",
       "       0.00000000e+00, 0.00000000e+00, 5.70016230e-04, 0.00000000e+00,\n",
       "       1.82108109e-04, 0.00000000e+00, 0.00000000e+00, 0.00000000e+00,\n",
       "       0.00000000e+00, 0.00000000e+00, 4.18885196e-04, 0.00000000e+00,\n",
       "       1.88278662e-04, 7.78630004e-05])"
      ]
     },
     "execution_count": 54,
     "metadata": {},
     "output_type": "execute_result"
    }
   ],
   "source": [
    "best_dtr.feature_importances_"
   ]
  },
  {
   "cell_type": "markdown",
   "metadata": {},
   "source": [
    "Predicting the sales price of the cars in the test set"
   ]
  },
  {
   "cell_type": "code",
   "execution_count": 55,
   "metadata": {
    "scrolled": true
   },
   "outputs": [
    {
     "data": {
      "text/plain": [
       "array([ 347833.33333333,  465833.33333333,  521000.        ,\n",
       "        662000.        , 1900000.        , 1207750.        ,\n",
       "        426500.        ,  538833.33333333,  540000.        ,\n",
       "       1576000.        ,  680600.        ,  607200.        ,\n",
       "       1314000.        ,  810600.        ,  636000.        ,\n",
       "        792333.33333333,  680200.        ,  894666.66666667,\n",
       "        290000.        ,  307000.        , 1085000.        ,\n",
       "        490500.        ,  946166.66666667,  484333.33333333,\n",
       "        782800.        ,  562000.        , 1051000.        ,\n",
       "        339400.        ,  820000.        ,  423000.        ,\n",
       "        635500.        ,  287500.        ,  437000.        ,\n",
       "        844000.        ,  763500.        ,  844000.        ,\n",
       "        776600.        ,  435000.        ,  608400.        ,\n",
       "        426500.        ,  666000.        ,  439000.        ,\n",
       "        334500.        , 1092000.        , 1047000.        ,\n",
       "        914000.        ,  538833.33333333,  569200.        ,\n",
       "       1424000.        , 1183666.66666667,  470500.        ,\n",
       "       1751600.        ,  863166.66666667,  776600.        ,\n",
       "        749666.66666667,  367500.        ,  636000.        ,\n",
       "        539000.        ,  569200.        , 1183666.66666667,\n",
       "        347833.33333333,  470500.        ,  754000.        ,\n",
       "        657000.        ,  374000.        , 1019500.        ,\n",
       "       1900000.        ,  569200.        ,  983500.        ,\n",
       "        347833.33333333,  511166.66666667,  708750.        ,\n",
       "       1186000.        ,  334500.        ,  820000.        ,\n",
       "       1751600.        , 1085000.        ,  650666.66666667,\n",
       "        539000.        ,  417800.        ,  767500.        ,\n",
       "        374000.        ,  650666.66666667,  844000.        ,\n",
       "        374000.        ,  612000.        ,  367500.        ,\n",
       "        767500.        ,  983500.        ,  627333.33333333,\n",
       "        702000.        ,  659500.        ,  613000.        ,\n",
       "       1005500.        ,  356000.        ,  931500.        ,\n",
       "        307000.        , 1706400.        ,  323000.        ,\n",
       "        607200.        ,  391200.        ,  776600.        ,\n",
       "        753333.33333333, 1019000.        ,  607200.        ,\n",
       "        367500.        ,  627333.33333333,  540666.66666667,\n",
       "        323000.        ,  761750.        ,  680200.        ,\n",
       "        485800.        ,  382500.        ,  881000.        ,\n",
       "        598250.        ,  844000.        ,  983500.        ,\n",
       "        961000.        ,  781000.        ,  397666.66666667,\n",
       "        511166.66666667,  680600.        ,  680200.        ,\n",
       "       1087750.        ,  671200.        , 1991666.66666667,\n",
       "        417800.        ,  651666.66666667,  657000.        ,\n",
       "        810600.        ,  556800.        ,  465833.33333333,\n",
       "        567000.        ,  569200.        ,  680600.        ,\n",
       "        818500.        ,  607200.        , 1576000.        ,\n",
       "        646666.66666667,  680600.        ,  931500.        ,\n",
       "        347833.33333333,  946166.66666667,  438250.        ,\n",
       "        671200.        , 1005500.        ,  627333.33333333,\n",
       "       1087750.        ,  786750.        ,  485800.        ,\n",
       "        611000.        ,  749666.66666667,  407750.        ,\n",
       "        606833.33333333, 1822000.        ,  569200.        ,\n",
       "        367500.        , 1092000.        ,  437000.        ,\n",
       "        317833.33333333,  792333.33333333,  538833.33333333,\n",
       "        735333.33333333,  437000.        ,  540000.        ,\n",
       "        749666.66666667, 1129000.        ,  636000.        ,\n",
       "        810600.        ,  662000.        , 1092000.        ,\n",
       "        367500.        , 1991666.66666667,  680200.        ,\n",
       "        452000.        , 1186000.        ,  782800.        ,\n",
       "        908500.        ,  894666.66666667,  749666.66666667,\n",
       "        485800.        ,  590166.66666667,  677250.        ,\n",
       "        538833.33333333,  277200.        ,  720000.        ,\n",
       "        671200.        , 1374666.66666667,  307000.        ,\n",
       "        680600.        ,  514000.        ,  539000.        ,\n",
       "        713500.        ,  483666.66666667,  427000.        ])"
      ]
     },
     "execution_count": 55,
     "metadata": {},
     "output_type": "execute_result"
    }
   ],
   "source": [
    "y_pred = best_dtr.predict(X_test)\n",
    "y_pred"
   ]
  },
  {
   "cell_type": "markdown",
   "metadata": {},
   "source": [
    "Scoring my final model on the testing data"
   ]
  },
  {
   "cell_type": "code",
   "execution_count": 83,
   "metadata": {},
   "outputs": [
    {
     "data": {
      "text/plain": [
       "0.9260129110941342"
      ]
     },
     "execution_count": 83,
     "metadata": {},
     "output_type": "execute_result"
    }
   ],
   "source": [
    "best_dtr.score(X_test,y_test)"
   ]
  },
  {
   "cell_type": "code",
   "execution_count": null,
   "metadata": {},
   "outputs": [],
   "source": []
  },
  {
   "cell_type": "markdown",
   "metadata": {},
   "source": [
    "Comparing the predicted prices with the actual sales prices of the cars in our test set"
   ]
  },
  {
   "cell_type": "code",
   "execution_count": 56,
   "metadata": {
    "scrolled": true
   },
   "outputs": [
    {
     "data": {
      "text/html": [
       "<div>\n",
       "<style scoped>\n",
       "    .dataframe tbody tr th:only-of-type {\n",
       "        vertical-align: middle;\n",
       "    }\n",
       "\n",
       "    .dataframe tbody tr th {\n",
       "        vertical-align: top;\n",
       "    }\n",
       "\n",
       "    .dataframe thead th {\n",
       "        text-align: right;\n",
       "    }\n",
       "</style>\n",
       "<table border=\"1\" class=\"dataframe\">\n",
       "  <thead>\n",
       "    <tr style=\"text-align: right;\">\n",
       "      <th></th>\n",
       "      <th>Real Values</th>\n",
       "      <th>Predicted Values</th>\n",
       "      <th>Percentage Difference</th>\n",
       "    </tr>\n",
       "  </thead>\n",
       "  <tbody>\n",
       "    <tr>\n",
       "      <th>578</th>\n",
       "      <td>485000</td>\n",
       "      <td>514000.00</td>\n",
       "      <td>5.98</td>\n",
       "    </tr>\n",
       "    <tr>\n",
       "      <th>327</th>\n",
       "      <td>498000</td>\n",
       "      <td>539000.00</td>\n",
       "      <td>8.23</td>\n",
       "    </tr>\n",
       "    <tr>\n",
       "      <th>878</th>\n",
       "      <td>617000</td>\n",
       "      <td>713500.00</td>\n",
       "      <td>15.64</td>\n",
       "    </tr>\n",
       "    <tr>\n",
       "      <th>849</th>\n",
       "      <td>430000</td>\n",
       "      <td>483666.67</td>\n",
       "      <td>12.48</td>\n",
       "    </tr>\n",
       "    <tr>\n",
       "      <th>801</th>\n",
       "      <td>454000</td>\n",
       "      <td>427000.00</td>\n",
       "      <td>5.95</td>\n",
       "    </tr>\n",
       "  </tbody>\n",
       "</table>\n",
       "</div>"
      ],
      "text/plain": [
       "     Real Values  Predicted Values  Percentage Difference\n",
       "578       485000         514000.00                   5.98\n",
       "327       498000         539000.00                   8.23\n",
       "878       617000         713500.00                  15.64\n",
       "849       430000         483666.67                  12.48\n",
       "801       454000         427000.00                   5.95"
      ]
     },
     "execution_count": 56,
     "metadata": {},
     "output_type": "execute_result"
    }
   ],
   "source": [
    "Comparison_df = pd.DataFrame({'Real Values':y_test, 'Predicted Values':y_pred, 'Percentage Difference':abs(y_test-y_pred)/y_test * 100})\n",
    "Comparison_df.tail()"
   ]
  },
  {
   "cell_type": "code",
   "execution_count": 91,
   "metadata": {},
   "outputs": [
    {
     "data": {
      "text/html": [
       "<div>\n",
       "<style scoped>\n",
       "    .dataframe tbody tr th:only-of-type {\n",
       "        vertical-align: middle;\n",
       "    }\n",
       "\n",
       "    .dataframe tbody tr th {\n",
       "        vertical-align: top;\n",
       "    }\n",
       "\n",
       "    .dataframe thead th {\n",
       "        text-align: right;\n",
       "    }\n",
       "</style>\n",
       "<table border=\"1\" class=\"dataframe\">\n",
       "  <thead>\n",
       "    <tr style=\"text-align: right;\">\n",
       "      <th></th>\n",
       "      <th>Real Values</th>\n",
       "      <th>Predicted Values</th>\n",
       "      <th>Difference</th>\n",
       "    </tr>\n",
       "  </thead>\n",
       "  <tbody>\n",
       "    <tr>\n",
       "      <th>578</th>\n",
       "      <td>485000</td>\n",
       "      <td>514000.00</td>\n",
       "      <td>29000.00</td>\n",
       "    </tr>\n",
       "    <tr>\n",
       "      <th>327</th>\n",
       "      <td>498000</td>\n",
       "      <td>539000.00</td>\n",
       "      <td>41000.00</td>\n",
       "    </tr>\n",
       "    <tr>\n",
       "      <th>878</th>\n",
       "      <td>617000</td>\n",
       "      <td>713500.00</td>\n",
       "      <td>96500.00</td>\n",
       "    </tr>\n",
       "    <tr>\n",
       "      <th>849</th>\n",
       "      <td>430000</td>\n",
       "      <td>483666.67</td>\n",
       "      <td>53666.67</td>\n",
       "    </tr>\n",
       "    <tr>\n",
       "      <th>801</th>\n",
       "      <td>454000</td>\n",
       "      <td>427000.00</td>\n",
       "      <td>-27000.00</td>\n",
       "    </tr>\n",
       "  </tbody>\n",
       "</table>\n",
       "</div>"
      ],
      "text/plain": [
       "     Real Values  Predicted Values   Difference\n",
       "578       485000         514000.00     29000.00\n",
       "327       498000         539000.00     41000.00\n",
       "878       617000         713500.00     96500.00\n",
       "849       430000         483666.67     53666.67\n",
       "801       454000         427000.00    -27000.00"
      ]
     },
     "execution_count": 91,
     "metadata": {},
     "output_type": "execute_result"
    }
   ],
   "source": [
    "sub_comps = pd.DataFrame({'Real Values':y_test, 'Predicted Values':y_pred, ' Difference':y_pred-y_test})\n",
    "sub_comps.tail()"
   ]
  },
  {
   "cell_type": "markdown",
   "metadata": {},
   "source": [
    "Looking at the average difference in percetange of the predicted vs actual value of the sales price."
   ]
  },
  {
   "cell_type": "code",
   "execution_count": 57,
   "metadata": {
    "scrolled": true
   },
   "outputs": [
    {
     "data": {
      "text/plain": [
       "7.914131932912524"
      ]
     },
     "execution_count": 57,
     "metadata": {},
     "output_type": "execute_result"
    }
   ],
   "source": [
    "sum(Comparison_df['Percentage Difference'].values)/len(Comparison_df['Percentage Difference'].values)"
   ]
  },
  {
   "cell_type": "markdown",
   "metadata": {},
   "source": [
    "scattering cars index and their price, while plotting the predicted price over them"
   ]
  },
  {
   "cell_type": "code",
   "execution_count": 58,
   "metadata": {},
   "outputs": [
    {
     "data": {
      "text/plain": [
       "Int64Index([199, 538, 174, 464,  66, 424, 718, 346, 281, 158,\n",
       "            ...\n",
       "            580, 453,  49, 707, 618, 578, 327, 878, 849, 801],\n",
       "           dtype='int64', length=195)"
      ]
     },
     "execution_count": 58,
     "metadata": {},
     "output_type": "execute_result"
    }
   ],
   "source": [
    "X_test.index"
   ]
  },
  {
   "cell_type": "markdown",
   "metadata": {},
   "source": [
    "creating a scatter plot where the x axis is the predicted price and the y axis is the actual price data of the testing set.\n",
    "I also added a best line of fit to show the accuracy"
   ]
  },
  {
   "cell_type": "code",
   "execution_count": 80,
   "metadata": {},
   "outputs": [
    {
     "data": {
      "image/png": "[encoded data removed]",
      "text/plain": [
       "<Figure size 432x288 with 1 Axes>"
      ]
     },
     "metadata": {
      "needs_background": "light"
     },
     "output_type": "display_data"
    }
   ],
   "source": [
    "x=best_dtr.predict(X_test) \n",
    "y=y_test\n",
    "a, b = np.polyfit(x, y, 1)\n",
    "plt.scatter(x, y, color = 'red')\n",
    "plt.plot(x, a*x+b)\n",
    "plt.title('Prediction vs Actual')\n",
    "plt.xlabel('Prediction')\n",
    "plt.ylabel('y_test Value')\n",
    "plt.show()"
   ]
  },
  {
   "cell_type": "code",
   "execution_count": null,
   "metadata": {},
   "outputs": [],
   "source": []
  },
  {
   "cell_type": "code",
   "execution_count": null,
   "metadata": {},
   "outputs": [],
   "source": []
  },
  {
   "cell_type": "code",
   "execution_count": null,
   "metadata": {},
   "outputs": [],
   "source": []
  },
  {
   "cell_type": "code",
   "execution_count": null,
   "metadata": {},
   "outputs": [],
   "source": []
  },
  {
   "cell_type": "code",
   "execution_count": null,
   "metadata": {},
   "outputs": [],
   "source": []
  }
 ],
 "metadata": {
  "kernelspec": {
   "display_name": "Python (learn-env)",
   "language": "python",
   "name": "learn-env"
  },
  "language_info": {
   "codemirror_mode": {
    "name": "ipython",
    "version": 3
   },
   "file_extension": ".py",
   "mimetype": "text/x-python",
   "name": "python",
   "nbconvert_exporter": "python",
   "pygments_lexer": "ipython3",
   "version": "3.8.5"
  }
 },
 "nbformat": 4,
 "nbformat_minor": 4
}
