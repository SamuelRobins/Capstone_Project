{
 "cells": [
  {
   "cell_type": "markdown",
   "metadata": {},
   "source": [
    "# Business Problem"
   ]
  },
  {
   "cell_type": "markdown",
   "metadata": {},
   "source": [
    "This project is made for Echo Park Automotive. They are a used car dealership. I have made a Decision Tree Regressor model. This model will process the data of used cars, their features, and their price. Aftrer learning the relationships between the details or features of the car and its selling price, it can begin to analize a car and predict its price. This has been created so that Echo Park Automotive can decide which cars to buy. If the model predicts a higher selling price than what is proposed on a prospective car, they should buy it and can flip the car. If the model predicts a lower selling price then what is proposed, then they should not buy the car."
   ]
  },
  {
   "cell_type": "markdown",
   "metadata": {},
   "source": [
    "Meet the team: I am Samuel Robins the Data Scientist that has created this model."
   ]
  },
  {
   "cell_type": "markdown",
   "metadata": {},
   "source": [
    "# Data Understanding"
   ]
  },
  {
   "cell_type": "markdown",
   "metadata": {},
   "source": [
    "Our Data was sourced from Kaggle (https://www.kaggle.com/datasets/rakkesharv/used-cars-detailed-dataset). It created by webscraping several used car sales websites. There are 973 entries with about 20 different features of each car. The target is the sales price and we are using the other features to predict the sales price. These features include :\n",
    "\n",
    "Car_Name: The full name of the car which is displayed in the ad\n",
    "Make: Maker of the Car\n",
    "Model : Model of the Car\n",
    "Make Year: Year of Manufacturing\n",
    "Color : Color of the Car\n",
    "Body Type : Body type of the car\n",
    "Mileage Run: Total KMs the car run\n",
    "No of Owners: Number of Previous Owners\n",
    "Seating Capacity: Total Seating Capacity Available\n",
    "Fuel Type: Fuel Type used by the car\n",
    "Fuel Tank Capacity(L) : Total Fuel Capacity of the car\n",
    "Engine Type : Engine Name, Model and Type\n",
    "CC Displacement: Total Cubic Displacement\n",
    "Transmission : Kind of Transmission\n",
    "Transmission Type: Type of Transmission\n",
    "Power(BHP) : Total Max Power\n",
    "Torque(Nm) : Total Max Torque\n",
    "Mileage(kmpl) : Average Mileage of the Car\n",
    "Emission: Emission Norms of the Car\n",
    "Price: Selling Price."
   ]
  },
  {
   "cell_type": "markdown",
   "metadata": {},
   "source": [
    "I am going to import certain packages from an open source data science platform called Anaconda. These packages will give me the tools I need to understand, prepare, and model the data."
   ]
  },
  {
   "cell_type": "code",
   "execution_count": 1,
   "metadata": {},
   "outputs": [],
   "source": [
    "import numpy as np\n",
    "import scipy.stats as stats\n",
    "import sklearn\n",
    "import pandas as pd\n",
    "import statsmodels.api as sm\n",
    "import matplotlib.pyplot as plt\n",
    "from sklearn.preprocessing import StandardScaler, OneHotEncoder, FunctionTransformer\n",
    "import seaborn as sns\n",
    "from matplotlib.ticker import FuncFormatter\n",
    "from sklearn.linear_model import LinearRegression\n",
    "from sklearn.tree import DecisionTreeRegressor\n",
    "from sklearn.model_selection import train_test_split, cross_validate, GridSearchCV\n",
    "from sklearn.compose import ColumnTransformer\n",
    "from sklearn.pipeline import Pipeline\n",
    "from sklearn.impute import SimpleImputer\n",
    "from sklearn.dummy import DummyRegressor as dr\n",
    "from sklearn import metrics"
   ]
  },
  {
   "cell_type": "markdown",
   "metadata": {},
   "source": [
    "### Data Analysis"
   ]
  },
  {
   "cell_type": "markdown",
   "metadata": {},
   "source": [
    "Now lets take the data, which is a csv file, and turn it into a data frame by using an import called pandas."
   ]
  },
  {
   "cell_type": "code",
   "execution_count": 2,
   "metadata": {},
   "outputs": [],
   "source": [
    "df = pd.read_csv('data/archive/FINAL_SPINNY_900.csv')"
   ]
  },
  {
   "cell_type": "markdown",
   "metadata": {},
   "source": [
    "I have created the datframe. Let's use a method 'head' to display the first 5 data entries."
   ]
  },
  {
   "cell_type": "code",
   "execution_count": 3,
   "metadata": {
    "scrolled": true
   },
   "outputs": [
    {
     "data": {
      "text/html": [
       "<div>\n",
       "<style scoped>\n",
       "    .dataframe tbody tr th:only-of-type {\n",
       "        vertical-align: middle;\n",
       "    }\n",
       "\n",
       "    .dataframe tbody tr th {\n",
       "        vertical-align: top;\n",
       "    }\n",
       "\n",
       "    .dataframe thead th {\n",
       "        text-align: right;\n",
       "    }\n",
       "</style>\n",
       "<table border=\"1\" class=\"dataframe\">\n",
       "  <thead>\n",
       "    <tr style=\"text-align: right;\">\n",
       "      <th></th>\n",
       "      <th>Car_Name</th>\n",
       "      <th>Make</th>\n",
       "      <th>Model</th>\n",
       "      <th>Make_Year</th>\n",
       "      <th>Color</th>\n",
       "      <th>Body_Type</th>\n",
       "      <th>Mileage_Run</th>\n",
       "      <th>No_of_Owners</th>\n",
       "      <th>Seating_Capacity</th>\n",
       "      <th>Fuel_Type</th>\n",
       "      <th>Fuel_Tank_Capacity(L)</th>\n",
       "      <th>Engine_Type</th>\n",
       "      <th>CC_Displacement</th>\n",
       "      <th>Transmission</th>\n",
       "      <th>Transmission_Type</th>\n",
       "      <th>Power(BHP)</th>\n",
       "      <th>Torque(Nm)</th>\n",
       "      <th>Mileage(kmpl)</th>\n",
       "      <th>Emission</th>\n",
       "      <th>Price</th>\n",
       "    </tr>\n",
       "  </thead>\n",
       "  <tbody>\n",
       "    <tr>\n",
       "      <th>0</th>\n",
       "      <td>Volkswagen Ameo [2016-2017] Highline 1.5L AT (D)</td>\n",
       "      <td>Volkswagen</td>\n",
       "      <td>Ameo</td>\n",
       "      <td>2017</td>\n",
       "      <td>silver</td>\n",
       "      <td>sedan</td>\n",
       "      <td>44611</td>\n",
       "      <td>1st</td>\n",
       "      <td>5</td>\n",
       "      <td>diesel</td>\n",
       "      <td>45</td>\n",
       "      <td>1.5L TDI Engine</td>\n",
       "      <td>1498</td>\n",
       "      <td>7-Speed</td>\n",
       "      <td>Automatic</td>\n",
       "      <td>109.00</td>\n",
       "      <td>250.00</td>\n",
       "      <td>21.66</td>\n",
       "      <td>BS IV</td>\n",
       "      <td>6,57,000</td>\n",
       "    </tr>\n",
       "    <tr>\n",
       "      <th>1</th>\n",
       "      <td>Hyundai i20 Active [2015-2020] 1.2 SX</td>\n",
       "      <td>Hyundai</td>\n",
       "      <td>i20 Active</td>\n",
       "      <td>2016</td>\n",
       "      <td>red</td>\n",
       "      <td>crossover</td>\n",
       "      <td>20305</td>\n",
       "      <td>1st</td>\n",
       "      <td>5</td>\n",
       "      <td>petrol</td>\n",
       "      <td>45</td>\n",
       "      <td>1.2L Kappa 5 Speed Manual Transmission</td>\n",
       "      <td>1197</td>\n",
       "      <td>5-Speed</td>\n",
       "      <td>Manual</td>\n",
       "      <td>82.00</td>\n",
       "      <td>115.00</td>\n",
       "      <td>17.19</td>\n",
       "      <td>BS V</td>\n",
       "      <td>6,82,000</td>\n",
       "    </tr>\n",
       "    <tr>\n",
       "      <th>2</th>\n",
       "      <td>Honda WR-V VX i-VTEC</td>\n",
       "      <td>Honda</td>\n",
       "      <td>WR-V</td>\n",
       "      <td>2019</td>\n",
       "      <td>white</td>\n",
       "      <td>suv</td>\n",
       "      <td>29540</td>\n",
       "      <td>2nd</td>\n",
       "      <td>5</td>\n",
       "      <td>petrol</td>\n",
       "      <td>40</td>\n",
       "      <td>i-VTEC Petrol engine</td>\n",
       "      <td>1199</td>\n",
       "      <td>5-Speed</td>\n",
       "      <td>Manual</td>\n",
       "      <td>88.50</td>\n",
       "      <td>110.00</td>\n",
       "      <td>16.50</td>\n",
       "      <td>BS IV</td>\n",
       "      <td>7,93,000</td>\n",
       "    </tr>\n",
       "    <tr>\n",
       "      <th>3</th>\n",
       "      <td>Renault Kwid 1.0 RXT AMT</td>\n",
       "      <td>Renault</td>\n",
       "      <td>Kwid</td>\n",
       "      <td>2017</td>\n",
       "      <td>bronze</td>\n",
       "      <td>hatchback</td>\n",
       "      <td>35680</td>\n",
       "      <td>1st</td>\n",
       "      <td>5</td>\n",
       "      <td>petrol</td>\n",
       "      <td>28</td>\n",
       "      <td>1.0L</td>\n",
       "      <td>999</td>\n",
       "      <td>5-Speed</td>\n",
       "      <td>Manual</td>\n",
       "      <td>67.00</td>\n",
       "      <td>91.00</td>\n",
       "      <td>21.70</td>\n",
       "      <td>BS IV</td>\n",
       "      <td>4,14,000</td>\n",
       "    </tr>\n",
       "    <tr>\n",
       "      <th>4</th>\n",
       "      <td>Hyundai Grand i10 [2017-2020] Asta 1.2 Kappa VTVT</td>\n",
       "      <td>Hyundai</td>\n",
       "      <td>Grand i10</td>\n",
       "      <td>2017</td>\n",
       "      <td>orange</td>\n",
       "      <td>hatchback</td>\n",
       "      <td>25126</td>\n",
       "      <td>1st</td>\n",
       "      <td>5</td>\n",
       "      <td>petrol</td>\n",
       "      <td>43</td>\n",
       "      <td>Kappa VTVT Petrol Engine</td>\n",
       "      <td>1197</td>\n",
       "      <td>5-Speed</td>\n",
       "      <td>Manual</td>\n",
       "      <td>81.86</td>\n",
       "      <td>113.75</td>\n",
       "      <td>18.90</td>\n",
       "      <td>BS V</td>\n",
       "      <td>5,15,000</td>\n",
       "    </tr>\n",
       "  </tbody>\n",
       "</table>\n",
       "</div>"
      ],
      "text/plain": [
       "                                            Car_Name        Make       Model  \\\n",
       "0   Volkswagen Ameo [2016-2017] Highline 1.5L AT (D)  Volkswagen        Ameo   \n",
       "1              Hyundai i20 Active [2015-2020] 1.2 SX     Hyundai  i20 Active   \n",
       "2                               Honda WR-V VX i-VTEC       Honda        WR-V   \n",
       "3                           Renault Kwid 1.0 RXT AMT     Renault        Kwid   \n",
       "4  Hyundai Grand i10 [2017-2020] Asta 1.2 Kappa VTVT     Hyundai   Grand i10   \n",
       "\n",
       "   Make_Year   Color  Body_Type  Mileage_Run No_of_Owners  Seating_Capacity  \\\n",
       "0       2017  silver      sedan        44611          1st                 5   \n",
       "1       2016     red  crossover        20305          1st                 5   \n",
       "2       2019   white        suv        29540          2nd                 5   \n",
       "3       2017  bronze  hatchback        35680          1st                 5   \n",
       "4       2017  orange  hatchback        25126          1st                 5   \n",
       "\n",
       "  Fuel_Type  Fuel_Tank_Capacity(L)                             Engine_Type  \\\n",
       "0    diesel                     45                         1.5L TDI Engine   \n",
       "1    petrol                     45  1.2L Kappa 5 Speed Manual Transmission   \n",
       "2    petrol                     40                    i-VTEC Petrol engine   \n",
       "3    petrol                     28                                    1.0L   \n",
       "4    petrol                     43                Kappa VTVT Petrol Engine   \n",
       "\n",
       "   CC_Displacement Transmission Transmission_Type  Power(BHP)  Torque(Nm)  \\\n",
       "0             1498      7-Speed         Automatic      109.00      250.00   \n",
       "1             1197      5-Speed            Manual       82.00      115.00   \n",
       "2             1199      5-Speed            Manual       88.50      110.00   \n",
       "3              999      5-Speed            Manual       67.00       91.00   \n",
       "4             1197      5-Speed            Manual       81.86      113.75   \n",
       "\n",
       "   Mileage(kmpl) Emission     Price  \n",
       "0          21.66    BS IV  6,57,000  \n",
       "1          17.19     BS V  6,82,000  \n",
       "2          16.50    BS IV  7,93,000  \n",
       "3          21.70    BS IV  4,14,000  \n",
       "4          18.90     BS V  5,15,000  "
      ]
     },
     "execution_count": 3,
     "metadata": {},
     "output_type": "execute_result"
    }
   ],
   "source": [
    "df.head()"
   ]
  },
  {
   "cell_type": "markdown",
   "metadata": {},
   "source": [
    "Okay now we have an idea of how the data-frame looks. Lets see what type of data columns we have."
   ]
  },
  {
   "cell_type": "code",
   "execution_count": 4,
   "metadata": {
    "scrolled": true
   },
   "outputs": [
    {
     "name": "stdout",
     "output_type": "stream",
     "text": [
      "<class 'pandas.core.frame.DataFrame'>\n",
      "RangeIndex: 973 entries, 0 to 972\n",
      "Data columns (total 20 columns):\n",
      " #   Column                 Non-Null Count  Dtype  \n",
      "---  ------                 --------------  -----  \n",
      " 0   Car_Name               973 non-null    object \n",
      " 1   Make                   973 non-null    object \n",
      " 2   Model                  973 non-null    object \n",
      " 3   Make_Year              973 non-null    int64  \n",
      " 4   Color                  973 non-null    object \n",
      " 5   Body_Type              973 non-null    object \n",
      " 6   Mileage_Run            973 non-null    int64  \n",
      " 7   No_of_Owners           973 non-null    object \n",
      " 8   Seating_Capacity       973 non-null    int64  \n",
      " 9   Fuel_Type              973 non-null    object \n",
      " 10  Fuel_Tank_Capacity(L)  973 non-null    int64  \n",
      " 11  Engine_Type            973 non-null    object \n",
      " 12  CC_Displacement        973 non-null    int64  \n",
      " 13  Transmission           973 non-null    object \n",
      " 14  Transmission_Type      973 non-null    object \n",
      " 15  Power(BHP)             973 non-null    float64\n",
      " 16  Torque(Nm)             973 non-null    float64\n",
      " 17  Mileage(kmpl)          973 non-null    float64\n",
      " 18  Emission               973 non-null    object \n",
      " 19  Price                  973 non-null    object \n",
      "dtypes: float64(3), int64(5), object(12)\n",
      "memory usage: 152.2+ KB\n"
     ]
    }
   ],
   "source": [
    "df.info()"
   ]
  },
  {
   "cell_type": "markdown",
   "metadata": {},
   "source": [
    "Some of these string objects can be converted into intergers by removing commas. This will make for better processing. Lets take a look at 'Emissions' for example. The roman numerals can be converted to values. Lets first make sure that they are all roman numerals by using a method called value counts."
   ]
  },
  {
   "cell_type": "code",
   "execution_count": 5,
   "metadata": {},
   "outputs": [
    {
     "data": {
      "text/plain": [
       "BS IV     588\n",
       "BS V      303\n",
       "BS III     82\n",
       "Name: Emission, dtype: int64"
      ]
     },
     "execution_count": 5,
     "metadata": {},
     "output_type": "execute_result"
    }
   ],
   "source": [
    "df[\"Emission\"].value_counts()"
   ]
  },
  {
   "cell_type": "code",
   "execution_count": 6,
   "metadata": {},
   "outputs": [],
   "source": [
    "pd.set_option('display.float_format', lambda x: '%.2f' % x)"
   ]
  },
  {
   "cell_type": "markdown",
   "metadata": {},
   "source": [
    "Looking at the organization of my files with ls"
   ]
  },
  {
   "cell_type": "code",
   "execution_count": 7,
   "metadata": {},
   "outputs": [
    {
     "name": "stdout",
     "output_type": "stream",
     "text": [
      " \u001b[0m\u001b[01;34mdata\u001b[0m/                             'Optimizing Used Cars-1.pdf'\r\n",
      " Echo_Park_Automotive_Model.ipynb   README.md\r\n"
     ]
    }
   ],
   "source": [
    "ls\n"
   ]
  },
  {
   "cell_type": "markdown",
   "metadata": {},
   "source": [
    "### Data Prep: The First Step Is Making Numbers Where We Can"
   ]
  },
  {
   "cell_type": "markdown",
   "metadata": {},
   "source": [
    "Looking at Emission values to potentialy change the to numerical values (int)"
   ]
  },
  {
   "cell_type": "code",
   "execution_count": 8,
   "metadata": {
    "scrolled": true
   },
   "outputs": [
    {
     "data": {
      "text/plain": [
       "BS IV     588\n",
       "BS V      303\n",
       "BS III     82\n",
       "Name: Emission, dtype: int64"
      ]
     },
     "execution_count": 8,
     "metadata": {},
     "output_type": "execute_result"
    }
   ],
   "source": [
    "df[\"Emission\"].value_counts()"
   ]
  },
  {
   "cell_type": "markdown",
   "metadata": {},
   "source": [
    "Simple enough we can change those to 3,4, and 5. Now lets look at price since that could easily be numbers. Let's look at all of the values by calling a method 'Values' instead of value counts."
   ]
  },
  {
   "cell_type": "code",
   "execution_count": 9,
   "metadata": {
    "scrolled": false
   },
   "outputs": [
    {
     "data": {
      "text/plain": [
       "array(['6,57,000', '6,82,000', '7,93,000', '4,14,000', '5,15,000',\n",
       "       '6,04,000', '3,16,000', '14,19,000', '7,10,000', '3,92,000',\n",
       "       '6,13,000', '5,98,000', '9,69,000', '21,00,000', '6,66,000',\n",
       "       '10,39,000', '8,58,000', '8,60,000', '6,80,000', '6,25,000',\n",
       "       '5,67,000', '3,71,000', '10,76,000', '5,87,000', '3,96,000',\n",
       "       '5,54,000', '9,84,000', '5,07,000', '5,86,000', '6,39,000',\n",
       "       '2,37,000', '5,36,000', '4,56,000', '11,07,000', '5,71,000',\n",
       "       '5,87,000', '6,29,000', '7,18,000', '3,96,000', '8,77,000',\n",
       "       '7,74,000', '5,54,000', '8,29,000', '5,30,000', '3,67,000',\n",
       "       '5,50,000', '6,60,000', '9,98,000', '10,12,000', '15,37,000',\n",
       "       '9,08,000', '5,08,000', '4,17,000', '7,25,000', '9,80,000',\n",
       "       '7,96,000', '4,35,000', '5,54,000', '4,81,000', '4,42,000',\n",
       "       '5,30,000', '7,59,000', '4,55,000', '19,72,000', '11,38,000',\n",
       "       '9,20,000', '17,42,000', '5,68,000', '4,19,000', '4,76,000',\n",
       "       '5,77,000', '5,41,000', '7,30,000', '18,75,000', '6,22,000',\n",
       "       '9,37,000', '6,25,000', '6,09,000', '5,71,000', '4,12,000',\n",
       "       '6,38,000', '8,07,000', '5,90,000', '6,51,000', '6,94,000',\n",
       "       '13,64,000', '7,83,000', '6,28,000', '8,85,000', '7,24,000',\n",
       "       '4,70,000', '10,85,000', '6,20,000', '6,59,000', '9,53,000',\n",
       "       '11,73,000', '4,57,000', '4,61,000', '4,71,000', '9,02,000',\n",
       "       '7,91,000', '5,06,000', '5,94,000', '3,62,000', '9,14,000',\n",
       "       '5,44,000', '5,13,000', '7,37,000', '6,64,000', '10,27,000',\n",
       "       '5,75,000', '8,42,000', '7,42,000', '10,71,000', '10,44,000',\n",
       "       '6,39,000', '16,49,000', '3,92,000', '6,26,000', '3,20,000',\n",
       "       '5,79,000', '6,08,000', '7,73,000', '6,15,000', '5,19,000',\n",
       "       '8,69,000', '13,99,000', '3,56,000', '5,62,000', '5,22,000',\n",
       "       '6,99,000', '5,10,000', '5,12,000', '6,58,000', '3,69,000',\n",
       "       '9,66,000', '9,32,000', '3,88,000', '4,89,000', '9,26,000',\n",
       "       '17,09,000', '10,39,000', '17,70,000', '11,63,000', '13,49,000',\n",
       "       '17,05,000', '7,39,000', '6,00,000', '10,39,000', '9,50,000',\n",
       "       '7,48,000', '8,20,000', '6,45,000', '5,70,000', '17,64,000',\n",
       "       '6,77,000', '8,37,000', '18,26,000', '12,90,000', '15,59,000',\n",
       "       '5,23,000', '9,42,000', '7,25,000', '7,11,000', '9,74,000',\n",
       "       '6,08,000', '2,73,000', '3,04,000', '3,61,000', '3,65,000',\n",
       "       '6,16,000', '6,90,000', '7,49,000', '6,19,000', '5,47,000',\n",
       "       '5,79,000', '6,86,000', '6,79,000', '4,00,000', '6,12,000',\n",
       "       '16,44,000', '3,42,000', '7,90,000', '3,60,000', '2,76,000',\n",
       "       '3,52,000', '3,63,000', '3,33,000', '5,89,000', '7,35,000',\n",
       "       '7,90,000', '11,17,000', '6,60,000', '6,78,000', '8,57,000',\n",
       "       '4,83,000', '2,48,000', '15,00,000', '7,59,000', '3,36,000',\n",
       "       '6,77,000', '7,11,000', '10,99,000', '10,99,000', '10,99,000',\n",
       "       '10,99,000', '10,78,000', '3,48,000', '6,59,000', '5,01,000',\n",
       "       '10,13,000', '17,41,000', '8,29,000', '4,96,000', '2,69,000',\n",
       "       '9,27,000', '4,51,000', '5,32,000', '3,38,000', '10,32,000',\n",
       "       '5,57,000', '6,53,000', '8,98,000', '9,12,000', '6,42,000',\n",
       "       '6,51,000', '5,03,000', '3,30,000', '3,95,000', '12,35,000',\n",
       "       '8,08,000', '4,58,000', '5,14,000', '5,12,000', '29,41,000',\n",
       "       '13,46,000', '8,44,000', '8,44,000', '8,44,000', '8,44,000',\n",
       "       '7,89,000', '5,70,000', '6,39,000', '4,70,000', '4,54,000',\n",
       "       '6,18,000', '5,48,000', '7,10,000', '6,21,000', '12,90,000',\n",
       "       '12,90,000', '12,90,000', '12,90,000', '7,48,000', '2,67,000',\n",
       "       '3,68,000', '11,37,000', '6,99,000', '5,44,000', '9,82,000',\n",
       "       '6,11,000', '9,41,000', '5,34,000', '5,84,000', '8,27,000',\n",
       "       '6,81,000', '6,81,000', '6,81,000', '6,81,000', '5,80,000',\n",
       "       '7,46,000', '4,52,000', '2,39,000', '4,53,000', '5,21,000',\n",
       "       '7,80,000', '6,94,000', '6,98,000', '4,26,000', '9,89,000',\n",
       "       '9,40,000', '5,56,000', '7,85,000', '10,77,000', '4,64,000',\n",
       "       '5,89,000', '5,89,000', '5,89,000', '5,89,000', '5,74,000',\n",
       "       '6,55,000', '9,20,000', '4,88,000', '5,48,000', '5,28,000',\n",
       "       '5,27,000', '9,52,000', '3,40,000', '7,90,000', '7,90,000',\n",
       "       '7,90,000', '7,90,000', '7,65,000', '4,20,000', '8,00,000',\n",
       "       '4,86,000', '14,65,000', '3,48,000', '8,92,000', '4,51,000',\n",
       "       '4,03,000', '3,38,000', '8,06,000', '6,34,000', '6,54,000',\n",
       "       '8,82,000', '11,96,000', '6,69,000', '5,89,000', '19,12,000',\n",
       "       '6,28,000', '8,12,000', '9,14,000', '11,12,000', '8,10,000',\n",
       "       '5,30,000', '4,55,000', '4,98,000', '4,03,000', '3,80,000',\n",
       "       '10,92,000', '10,92,000', '10,92,000', '10,92,000', '4,57,000',\n",
       "       '8,13,000', '8,20,000', '5,02,000', '4,14,000', '3,91,000',\n",
       "       '4,33,000', '3,72,000', '3,84,000', '7,84,000', '9,71,000',\n",
       "       '6,55,000', '5,39,000', '4,70,000', '7,90,000', '4,15,000',\n",
       "       '3,68,000', '4,57,000', '8,94,000', '3,38,000', '3,42,000',\n",
       "       '9,86,000', '6,37,000', '6,88,000', '8,16,000', '6,44,000',\n",
       "       '6,44,000', '6,44,000', '6,44,000', '10,86,000', '10,86,000',\n",
       "       '10,86,000', '10,86,000', '6,74,000', '3,50,000', '12,13,000',\n",
       "       '2,75,000', '5,33,000', '8,24,000', '8,05,000', '10,98,000',\n",
       "       '7,95,000', '4,06,000', '7,20,000', '7,32,000', '4,06,000',\n",
       "       '6,22,000', '7,42,000', '6,99,000', '4,26,000', '2,84,000',\n",
       "       '5,74,000', '6,99,000', '6,05,000', '11,04,000', '4,51,000',\n",
       "       '6,33,000', '18,48,000', '18,48,000', '18,48,000', '18,48,000',\n",
       "       '9,43,000', '7,09,000', '4,02,000', '6,46,000', '3,34,000',\n",
       "       '4,96,000', '7,35,000', '4,87,000', '4,10,000', '7,66,000',\n",
       "       '16,47,000', '3,11,000', '3,91,000', '8,70,000', '3,23,000',\n",
       "       '5,98,000', '5,89,000', '4,64,000', '7,02,000', '4,72,000',\n",
       "       '3,53,000', '4,02,000', '9,77,000', '3,58,000', '3,99,000',\n",
       "       '8,36,000', '8,03,000', '4,10,000', '7,95,000', '12,66,000',\n",
       "       '3,43,000', '3,62,000', '3,00,000', '6,94,000', '4,84,000',\n",
       "       '10,01,000', '3,84,000', '8,58,000', '4,82,000', '5,81,000',\n",
       "       '3,20,000', '11,76,000', '12,74,000', '3,62,000', '4,89,000',\n",
       "       '8,15,000', '10,64,000', '3,89,000', '7,15,000', '6,28,000',\n",
       "       '3,17,000', '7,29,000', '3,96,000', '9,49,000', '4,53,000',\n",
       "       '8,98,000', '2,81,000', '6,28,000', '7,13,000', '3,38,000',\n",
       "       '4,45,000', '4,47,000', '6,20,000', '5,24,000', '10,47,000',\n",
       "       '4,44,000', '9,06,000', '6,86,000', '3,72,000', '6,84,000',\n",
       "       '3,52,000', '3,92,000', '4,89,000', '5,51,000', '6,88,000',\n",
       "       '15,49,000', '7,10,000', '3,08,000', '8,48,000', '7,87,000',\n",
       "       '6,38,000', '5,28,000', '6,06,000', '4,42,000', '8,59,000',\n",
       "       '5,14,000', '6,63,000', '5,68,000', '4,07,000', '8,24,000',\n",
       "       '7,39,000', '4,85,000', '14,64,000', '6,91,000', '5,12,000',\n",
       "       '7,88,000', '4,57,000', '7,55,000', '12,77,000', '4,52,000',\n",
       "       '3,01,000', '2,62,000', '3,08,000', '10,23,000', '6,35,000',\n",
       "       '10,15,000', '2,55,000', '3,96,000', '10,11,000', '6,61,000',\n",
       "       '4,50,000', '4,35,000', '7,72,000', '3,31,000', '8,30,000',\n",
       "       '4,85,000', '4,05,000', '3,47,000', '3,69,000', '7,68,000',\n",
       "       '5,78,000', '4,17,000', '3,49,000', '5,76,000', '6,29,000',\n",
       "       '4,23,000', '6,43,000', '7,37,000', '4,25,000', '3,30,000',\n",
       "       '13,69,000', '4,36,000', '8,83,000', '16,10,000', '4,00,000',\n",
       "       '4,29,000', '4,08,000', '4,08,000', '7,39,000', '7,54,000',\n",
       "       '7,54,000', '7,54,000', '7,54,000', '4,61,000', '7,32,000',\n",
       "       '7,01,000', '4,06,000', '2,71,000', '2,93,000', '3,68,000',\n",
       "       '4,47,000', '9,12,000', '3,87,000', '4,48,000', '10,51,000',\n",
       "       '10,51,000', '10,51,000', '10,51,000', '9,14,000', '9,14,000',\n",
       "       '9,14,000', '9,14,000', '5,98,000', '18,22,000', '18,22,000',\n",
       "       '18,22,000', '18,22,000', '15,89,000', '10,27,000', '10,27,000',\n",
       "       '10,27,000', '10,27,000', '8,63,000', '3,15,000', '4,33,000',\n",
       "       '4,54,000', '8,07,000', '7,34,000', '10,54,000', '4,49,000',\n",
       "       '5,38,000', '8,83,000', '5,44,000', '4,85,000', '9,95,000',\n",
       "       '7,52,000', '2,66,000', '5,51,000', '4,77,000', '5,23,000',\n",
       "       '14,22,000', '4,30,000', '8,94,000', '8,94,000', '8,94,000',\n",
       "       '8,94,000', '17,00,000', '9,14,000', '9,71,000', '5,93,000',\n",
       "       '4,99,000', '7,28,000', '2,87,000', '3,73,000', '4,04,000',\n",
       "       '3,18,000', '7,27,000', '4,47,000', '11,50,000', '6,05,000',\n",
       "       '11,17,000', '5,06,000', '6,10,000', '2,90,000', '5,42,000',\n",
       "       '17,20,000', '5,23,000', '7,45,000', '10,52,000', '8,54,000',\n",
       "       '7,88,000', '4,60,000', '6,89,000', '6,38,000', '14,58,000',\n",
       "       '8,14,000', '17,74,000', '4,55,000', '3,14,000', '20,19,000',\n",
       "       '20,19,000', '20,19,000', '20,19,000', '8,76,000', '4,23,000',\n",
       "       '4,23,000', '4,23,000', '4,23,000', '11,00,000', '4,11,000',\n",
       "       '3,40,000', '4,05,000', '7,38,000', '3,65,000', '17,00,000',\n",
       "       '4,22,000', '19,58,000', '19,58,000', '19,58,000', '19,58,000',\n",
       "       '10,19,000', '19,78,000', '19,78,000', '19,78,000', '19,78,000',\n",
       "       '4,12,000', '8,78,000', '4,29,000', '7,08,000', '6,78,000',\n",
       "       '3,26,000', '3,36,000', '15,89,000', '3,35,000', '3,68,000',\n",
       "       '4,39,000', '10,66,000', '19,84,000', '19,84,000', '19,84,000',\n",
       "       '19,84,000', '3,28,000', '10,55,000', '5,55,000', '4,34,000',\n",
       "       '3,48,000', '5,56,000', '4,47,000', '5,69,000', '4,28,000',\n",
       "       '4,55,000', '11,64,000', '11,78,000', '7,65,000', '8,85,000',\n",
       "       '6,58,000', '12,40,000', '7,52,000', '8,69,000', '8,69,000',\n",
       "       '8,69,000', '8,69,000', '8,33,000', '11,71,000', '8,40,000',\n",
       "       '7,06,000', '2,73,000', '6,03,000', '5,21,000', '7,64,000',\n",
       "       '12,66,000', '10,30,000', '5,11,000', '3,89,000', '11,37,000',\n",
       "       '5,63,000', '4,65,000', '17,08,000', '7,51,000', '3,06,000',\n",
       "       '3,06,000', '3,06,000', '3,06,000', '7,71,000', '8,23,000',\n",
       "       '9,80,000', '5,71,000', '6,14,000', '8,43,000', '4,10,000',\n",
       "       '4,27,000', '4,84,000', '6,22,000', '4,23,000', '8,12,000',\n",
       "       '5,49,000', '5,25,000', '7,09,000', '7,44,000', '9,82,000',\n",
       "       '8,81,000', '8,34,000', '9,16,000', '8,80,000', '8,71,000',\n",
       "       '5,94,000', '13,66,000', '7,85,000', '7,85,000', '7,85,000',\n",
       "       '7,85,000', '7,18,000', '7,49,000', '3,20,000', '8,60,000',\n",
       "       '7,99,000', '6,25,000', '4,11,000', '5,40,000', '8,22,000',\n",
       "       '7,84,000', '11,65,000', '3,96,000', '7,70,000', '5,15,000',\n",
       "       '4,26,000', '5,41,000', '3,90,000', '8,10,000', '9,32,000',\n",
       "       '7,92,000', '12,38,000', '7,69,000', '6,35,000', '4,81,000',\n",
       "       '11,85,000', '4,66,000', '4,89,000', '14,54,000', '10,32,000',\n",
       "       '8,47,000', '8,47,000', '8,47,000', '8,47,000', '14,11,000',\n",
       "       '5,59,000', '6,25,000', '9,99,000', '6,77,000', '4,95,000',\n",
       "       '7,61,000', '6,47,000', '8,77,000', '7,34,000', '6,61,000',\n",
       "       '4,46,000', '8,14,000', '3,91,000', '10,34,000', '3,50,000',\n",
       "       '7,63,000', '4,87,000', '7,87,000', '7,87,000', '7,87,000',\n",
       "       '7,87,000', '5,26,000', '5,71,000', '10,11,000', '10,11,000',\n",
       "       '10,11,000', '10,11,000', '6,99,000', '7,26,000', '5,17,000',\n",
       "       '5,73,000', '4,54,000', '6,25,000', '9,55,000', '2,74,000',\n",
       "       '9,26,000', '4,65,000', '6,63,000', '8,12,000', '8,12,000',\n",
       "       '8,12,000', '8,12,000', '8,96,000', '9,78,000', '5,41,000',\n",
       "       '11,06,000', '4,64,000', '9,94,000', '8,09,000', '5,44,000',\n",
       "       '5,38,000', '6,07,000', '7,54,000', '6,18,000', '8,14,000',\n",
       "       '4,06,000', '9,97,000', '5,23,000', '4,25,000', '10,26,000',\n",
       "       '3,53,000', '4,90,000', '8,62,000', '4,25,000', '5,48,000',\n",
       "       '4,65,000', '5,05,000', '11,66,000', '10,99,000', '4,59,000',\n",
       "       '5,06,000', '6,18,000', '5,44,000', '3,34,000', '7,64,000',\n",
       "       '2,45,000', '2,90,000', '10,91,000', '4,70,000', '4,30,000',\n",
       "       '4,30,000', '7,49,000', '5,29,000', '7,22,000', '2,79,000',\n",
       "       '6,20,000', '11,30,000', '10,43,000', '4,01,000', '3,35,000',\n",
       "       '9,15,000', '5,28,000', '7,85,000', '7,00,000', '4,39,000',\n",
       "       '3,19,000', '5,20,000', '4,99,000', '6,62,000', '9,36,000',\n",
       "       '7,37,000', '4,39,000', '4,39,000', '4,39,000', '4,39,000',\n",
       "       '5,43,000', '6,89,000', '4,95,000', '6,17,000', '4,69,000',\n",
       "       '6,69,000', '6,69,000', '6,69,000', '6,69,000', '7,52,000',\n",
       "       '11,32,000', '7,60,000', '3,67,000', '5,68,000', '14,48,000',\n",
       "       '5,79,000', '4,75,000', '6,35,000', '6,47,000', '13,14,000',\n",
       "       '3,26,000', '11,27,000', '5,65,000', '5,53,000', '8,31,000',\n",
       "       '7,76,000', '5,33,000', '4,43,000', '5,24,000', '12,99,000',\n",
       "       '4,20,000', '4,50,000', '12,12,000', '7,72,000', '16,99,000',\n",
       "       '6,12,000', '9,11,000', '7,07,000', '10,98,000', '3,35,000',\n",
       "       '5,45,000', '4,75,000', '6,67,000', '1,88,000', '9,07,000',\n",
       "       '6,19,000', '7,48,000', '7,31,000', '3,95,000', '7,58,000',\n",
       "       '4,95,000', '6,99,000', '6,51,000', '6,51,000', '6,51,000',\n",
       "       '6,51,000', '3,32,000', '3,71,000', '7,53,000', '11,17,000',\n",
       "       '3,05,000', '9,45,000', '17,99,000', '6,81,000', '6,94,000',\n",
       "       '3,28,000', '16,85,000', '6,27,000', '9,35,000', '9,10,000',\n",
       "       '8,10,000', '6,50,000', '9,54,000', '7,46,000', '9,63,000',\n",
       "       '7,84,000', '7,27,000', '10,71,000', '8,98,000', '10,40,000',\n",
       "       '11,52,000', '5,96,000', '8,45,000', '8,16,000', '7,90,000',\n",
       "       '10,63,000', '8,38,000', '6,63,000', '5,90,000', '8,38,000',\n",
       "       '8,29,000', '7,99,000', '7,22,000', '9,56,000', '10,27,000',\n",
       "       '7,36,000', '7,49,000', '6,91,000'], dtype=object)"
      ]
     },
     "execution_count": 9,
     "metadata": {},
     "output_type": "execute_result"
    }
   ],
   "source": [
    "df['Price'].values"
   ]
  },
  {
   "cell_type": "markdown",
   "metadata": {},
   "source": [
    "Im going to change the string to interger or float conversion to all of the columns I feel are good candidates to change. I am using the replace method to remove the elements that would cause these values to be a string. Next, I will call on a method 'astype' where I can tell the computer what kind of data type I want the selected values to be."
   ]
  },
  {
   "cell_type": "code",
   "execution_count": 10,
   "metadata": {},
   "outputs": [],
   "source": [
    "df['Price'] = df['Price'].str.replace(\",\",\"\")"
   ]
  },
  {
   "cell_type": "markdown",
   "metadata": {},
   "source": [
    "Removiving 'BS' from the values in Emission columns and converting roman numerals to interger values for\n",
    "the same purpose."
   ]
  },
  {
   "cell_type": "code",
   "execution_count": 11,
   "metadata": {},
   "outputs": [],
   "source": [
    "df['Emission'] = df['Emission'].str.replace(\"BS\",\"\")"
   ]
  },
  {
   "cell_type": "code",
   "execution_count": 12,
   "metadata": {},
   "outputs": [],
   "source": [
    "df['Emission'] = df['Emission'].str.replace(\"IV\", \"4\")"
   ]
  },
  {
   "cell_type": "code",
   "execution_count": 13,
   "metadata": {},
   "outputs": [],
   "source": [
    "df['Emission'] = df['Emission'].str.replace(\"III\", \"3\")"
   ]
  },
  {
   "cell_type": "code",
   "execution_count": 14,
   "metadata": {},
   "outputs": [],
   "source": [
    "df['Emission'] = df['Emission'].str.replace(\"V\", \"5\")"
   ]
  },
  {
   "cell_type": "code",
   "execution_count": 15,
   "metadata": {},
   "outputs": [],
   "source": [
    "df['No_of_Owners'] = df['No_of_Owners'].str.replace(\"1st\", \"0\")"
   ]
  },
  {
   "cell_type": "code",
   "execution_count": 16,
   "metadata": {},
   "outputs": [],
   "source": [
    "df['No_of_Owners'] = df['No_of_Owners'].str.replace(\"2nd\", \"1\")"
   ]
  },
  {
   "cell_type": "code",
   "execution_count": 17,
   "metadata": {},
   "outputs": [],
   "source": [
    "df['No_of_Owners'] = df['No_of_Owners'].str.replace(\"3rd\", \"2\")"
   ]
  },
  {
   "cell_type": "markdown",
   "metadata": {},
   "source": [
    "Telling the computer that the following columns are int or float"
   ]
  },
  {
   "cell_type": "code",
   "execution_count": 18,
   "metadata": {},
   "outputs": [],
   "source": [
    "df['Emission'] = df['Emission'].astype(int)"
   ]
  },
  {
   "cell_type": "code",
   "execution_count": 19,
   "metadata": {},
   "outputs": [],
   "source": [
    "df['Price'] = df['Price'].astype(int)"
   ]
  },
  {
   "cell_type": "code",
   "execution_count": 20,
   "metadata": {
    "scrolled": false
   },
   "outputs": [],
   "source": [
    "df['Mileage(kmpl)'] = df['Mileage(kmpl)'].astype(float)"
   ]
  },
  {
   "cell_type": "code",
   "execution_count": 21,
   "metadata": {},
   "outputs": [],
   "source": [
    "df[\"No_of_Owners\"] = df['No_of_Owners'].astype(int)"
   ]
  },
  {
   "cell_type": "markdown",
   "metadata": {},
   "source": [
    "Now lets take a look at the difference for a sanity check."
   ]
  },
  {
   "cell_type": "code",
   "execution_count": 22,
   "metadata": {},
   "outputs": [
    {
     "name": "stdout",
     "output_type": "stream",
     "text": [
      "<class 'pandas.core.frame.DataFrame'>\n",
      "RangeIndex: 973 entries, 0 to 972\n",
      "Data columns (total 20 columns):\n",
      " #   Column                 Non-Null Count  Dtype  \n",
      "---  ------                 --------------  -----  \n",
      " 0   Car_Name               973 non-null    object \n",
      " 1   Make                   973 non-null    object \n",
      " 2   Model                  973 non-null    object \n",
      " 3   Make_Year              973 non-null    int64  \n",
      " 4   Color                  973 non-null    object \n",
      " 5   Body_Type              973 non-null    object \n",
      " 6   Mileage_Run            973 non-null    int64  \n",
      " 7   No_of_Owners           973 non-null    int64  \n",
      " 8   Seating_Capacity       973 non-null    int64  \n",
      " 9   Fuel_Type              973 non-null    object \n",
      " 10  Fuel_Tank_Capacity(L)  973 non-null    int64  \n",
      " 11  Engine_Type            973 non-null    object \n",
      " 12  CC_Displacement        973 non-null    int64  \n",
      " 13  Transmission           973 non-null    object \n",
      " 14  Transmission_Type      973 non-null    object \n",
      " 15  Power(BHP)             973 non-null    float64\n",
      " 16  Torque(Nm)             973 non-null    float64\n",
      " 17  Mileage(kmpl)          973 non-null    float64\n",
      " 18  Emission               973 non-null    int64  \n",
      " 19  Price                  973 non-null    int64  \n",
      "dtypes: float64(3), int64(8), object(9)\n",
      "memory usage: 152.2+ KB\n"
     ]
    }
   ],
   "source": [
    "df.info()"
   ]
  },
  {
   "cell_type": "markdown",
   "metadata": {},
   "source": [
    "### Dropping Overbearing Columns"
   ]
  },
  {
   "cell_type": "markdown",
   "metadata": {},
   "source": [
    "Okay, so I have eight object columns left. That is too many for my analysis. This is because I will make the identification of the objects a true false statement (Binary) so that the model can compute their relationship to the data. This will create many more columns. "
   ]
  },
  {
   "cell_type": "markdown",
   "metadata": {},
   "source": [
    "Let's take a look at all of the object coluns to analyze their necessity and decide which ones to keep."
   ]
  },
  {
   "cell_type": "code",
   "execution_count": 23,
   "metadata": {},
   "outputs": [
    {
     "data": {
      "text/plain": [
       "MG Motors Hector 2.0 Sharp                    24\n",
       "Toyota Yaris [2018-2021] VX CVT               16\n",
       "Ford Figo [2019-2021] Titanium Diesel         13\n",
       "Hyundai Elite i20 [2014-2018] Sportz 1.2      13\n",
       "Hyundai Creta [2015-2018] 1.6 SX Plus Auto    12\n",
       "Name: Car_Name, dtype: int64"
      ]
     },
     "execution_count": 23,
     "metadata": {},
     "output_type": "execute_result"
    }
   ],
   "source": [
    "df['Car_Name'].value_counts().head()"
   ]
  },
  {
   "cell_type": "code",
   "execution_count": 24,
   "metadata": {},
   "outputs": [
    {
     "data": {
      "text/plain": [
       "Hyundai          305\n",
       "Maruti Suzuki    291\n",
       "Honda             73\n",
       "Renault           68\n",
       "Ford              52\n",
       "Toyota            50\n",
       "MG Motors         35\n",
       "Volkswagen        29\n",
       "Tata              23\n",
       "Mahindra          18\n",
       "Kia                8\n",
       "Chevrolet          6\n",
       "Skoda              4\n",
       "Nissan             4\n",
       "Jeep               4\n",
       "Datsun             3\n",
       "Name: Make, dtype: int64"
      ]
     },
     "execution_count": 24,
     "metadata": {},
     "output_type": "execute_result"
    }
   ],
   "source": [
    "df['Make'].value_counts()"
   ]
  },
  {
   "cell_type": "code",
   "execution_count": 25,
   "metadata": {},
   "outputs": [
    {
     "data": {
      "text/plain": [
       "Elite i20       64\n",
       "Baleno          36\n",
       "i10             36\n",
       "Grand i10       35\n",
       "Hector          34\n",
       "                ..\n",
       "Hector Plus      1\n",
       "Scala            1\n",
       "Wagon R 1.2      1\n",
       "Micra Active     1\n",
       "Nano             1\n",
       "Name: Model, Length: 87, dtype: int64"
      ]
     },
     "execution_count": 25,
     "metadata": {},
     "output_type": "execute_result"
    }
   ],
   "source": [
    "df['Model'].value_counts()"
   ]
  },
  {
   "cell_type": "code",
   "execution_count": 26,
   "metadata": {
    "scrolled": true
   },
   "outputs": [
    {
     "data": {
      "text/plain": [
       "0      silver\n",
       "1         red\n",
       "2       white\n",
       "3      bronze\n",
       "4      orange\n",
       "        ...  \n",
       "968     white\n",
       "969     white\n",
       "970    silver\n",
       "971     white\n",
       "972    silver\n",
       "Name: Color, Length: 973, dtype: object"
      ]
     },
     "execution_count": 26,
     "metadata": {},
     "output_type": "execute_result"
    }
   ],
   "source": [
    "df['Color']"
   ]
  },
  {
   "cell_type": "code",
   "execution_count": 27,
   "metadata": {},
   "outputs": [
    {
     "data": {
      "text/plain": [
       "hatchback    482\n",
       "sedan        226\n",
       "suv          206\n",
       "muv           38\n",
       "crossover     21\n",
       "Name: Body_Type, dtype: int64"
      ]
     },
     "execution_count": 27,
     "metadata": {},
     "output_type": "execute_result"
    }
   ],
   "source": [
    "df['Body_Type'].value_counts()"
   ]
  },
  {
   "cell_type": "code",
   "execution_count": 28,
   "metadata": {
    "scrolled": true
   },
   "outputs": [
    {
     "data": {
      "text/plain": [
       "petrol        783\n",
       "diesel        188\n",
       "petrol+cng      2\n",
       "Name: Fuel_Type, dtype: int64"
      ]
     },
     "execution_count": 28,
     "metadata": {},
     "output_type": "execute_result"
    }
   ],
   "source": [
    "df['Fuel_Type'].value_counts()"
   ]
  },
  {
   "cell_type": "code",
   "execution_count": 29,
   "metadata": {},
   "outputs": [
    {
     "data": {
      "text/plain": [
       "Manual       711\n",
       "Automatic    262\n",
       "Name: Transmission_Type, dtype: int64"
      ]
     },
     "execution_count": 29,
     "metadata": {},
     "output_type": "execute_result"
    }
   ],
   "source": [
    "df['Transmission_Type'].value_counts()"
   ]
  },
  {
   "cell_type": "code",
   "execution_count": 30,
   "metadata": {},
   "outputs": [
    {
     "data": {
      "text/plain": [
       "Kappa VTVT Petrol Engine      77\n",
       "Petrol Engine                 45\n",
       "K10B                          38\n",
       "FWD                           35\n",
       "1.2L VVT Engine               34\n",
       "                              ..\n",
       "1.5L Revotorq Turbocharged     1\n",
       "i-DTEC                         1\n",
       "Revotron 1.2 T                 1\n",
       "1.0 XSDE                       1\n",
       "16V DOHC                       1\n",
       "Name: Engine_Type, Length: 137, dtype: int64"
      ]
     },
     "execution_count": 30,
     "metadata": {},
     "output_type": "execute_result"
    }
   ],
   "source": [
    "df['Engine_Type'].value_counts()"
   ]
  },
  {
   "cell_type": "markdown",
   "metadata": {},
   "source": [
    "Independant Learning from getjerry.com (its a car-financing website) “Color generally doesn't have an impact on the price of buying a new vehicle. However, in-demand colors like white, grey, and silver may be widely available and easier to purchase than those with unique colors. More popular colors will also hold better resale value over time since there is more demand for them.\""
   ]
  },
  {
   "cell_type": "markdown",
   "metadata": {},
   "source": [
    "It is apparant that the column 'Car Name' has descriptions that are in other columns. That leads me to decide that it is unecessary for the model. So I am going to remove that column by calling on the .drop method. I am also going to remove the 'Color' column. This is because of the  independant learning I have completed. I am assuming that the color of the car does not have the kidn of relationship with thetarget value that we need to calculate. I am also going to drop the model, the make, the engine type. This is because they have too many values and would add 200 columns to my data frame and that would disrupt the model. "
   ]
  },
  {
   "cell_type": "code",
   "execution_count": 31,
   "metadata": {},
   "outputs": [],
   "source": [
    "df = df.drop(columns=['Color', 'Car_Name', 'Model', 'Make', 'Engine_Type'], axis=1)"
   ]
  },
  {
   "cell_type": "markdown",
   "metadata": {},
   "source": [
    "Now looking at the data-frame for a sanity check to make sure I dropped the columns"
   ]
  },
  {
   "cell_type": "code",
   "execution_count": 32,
   "metadata": {},
   "outputs": [
    {
     "data": {
      "text/html": [
       "<div>\n",
       "<style scoped>\n",
       "    .dataframe tbody tr th:only-of-type {\n",
       "        vertical-align: middle;\n",
       "    }\n",
       "\n",
       "    .dataframe tbody tr th {\n",
       "        vertical-align: top;\n",
       "    }\n",
       "\n",
       "    .dataframe thead th {\n",
       "        text-align: right;\n",
       "    }\n",
       "</style>\n",
       "<table border=\"1\" class=\"dataframe\">\n",
       "  <thead>\n",
       "    <tr style=\"text-align: right;\">\n",
       "      <th></th>\n",
       "      <th>Make_Year</th>\n",
       "      <th>Body_Type</th>\n",
       "      <th>Mileage_Run</th>\n",
       "      <th>No_of_Owners</th>\n",
       "      <th>Seating_Capacity</th>\n",
       "      <th>Fuel_Type</th>\n",
       "      <th>Fuel_Tank_Capacity(L)</th>\n",
       "      <th>CC_Displacement</th>\n",
       "      <th>Transmission</th>\n",
       "      <th>Transmission_Type</th>\n",
       "      <th>Power(BHP)</th>\n",
       "      <th>Torque(Nm)</th>\n",
       "      <th>Mileage(kmpl)</th>\n",
       "      <th>Emission</th>\n",
       "      <th>Price</th>\n",
       "    </tr>\n",
       "  </thead>\n",
       "  <tbody>\n",
       "    <tr>\n",
       "      <th>0</th>\n",
       "      <td>2017</td>\n",
       "      <td>sedan</td>\n",
       "      <td>44611</td>\n",
       "      <td>0</td>\n",
       "      <td>5</td>\n",
       "      <td>diesel</td>\n",
       "      <td>45</td>\n",
       "      <td>1498</td>\n",
       "      <td>7-Speed</td>\n",
       "      <td>Automatic</td>\n",
       "      <td>109.00</td>\n",
       "      <td>250.00</td>\n",
       "      <td>21.66</td>\n",
       "      <td>4</td>\n",
       "      <td>657000</td>\n",
       "    </tr>\n",
       "    <tr>\n",
       "      <th>1</th>\n",
       "      <td>2016</td>\n",
       "      <td>crossover</td>\n",
       "      <td>20305</td>\n",
       "      <td>0</td>\n",
       "      <td>5</td>\n",
       "      <td>petrol</td>\n",
       "      <td>45</td>\n",
       "      <td>1197</td>\n",
       "      <td>5-Speed</td>\n",
       "      <td>Manual</td>\n",
       "      <td>82.00</td>\n",
       "      <td>115.00</td>\n",
       "      <td>17.19</td>\n",
       "      <td>5</td>\n",
       "      <td>682000</td>\n",
       "    </tr>\n",
       "    <tr>\n",
       "      <th>2</th>\n",
       "      <td>2019</td>\n",
       "      <td>suv</td>\n",
       "      <td>29540</td>\n",
       "      <td>1</td>\n",
       "      <td>5</td>\n",
       "      <td>petrol</td>\n",
       "      <td>40</td>\n",
       "      <td>1199</td>\n",
       "      <td>5-Speed</td>\n",
       "      <td>Manual</td>\n",
       "      <td>88.50</td>\n",
       "      <td>110.00</td>\n",
       "      <td>16.50</td>\n",
       "      <td>4</td>\n",
       "      <td>793000</td>\n",
       "    </tr>\n",
       "    <tr>\n",
       "      <th>3</th>\n",
       "      <td>2017</td>\n",
       "      <td>hatchback</td>\n",
       "      <td>35680</td>\n",
       "      <td>0</td>\n",
       "      <td>5</td>\n",
       "      <td>petrol</td>\n",
       "      <td>28</td>\n",
       "      <td>999</td>\n",
       "      <td>5-Speed</td>\n",
       "      <td>Manual</td>\n",
       "      <td>67.00</td>\n",
       "      <td>91.00</td>\n",
       "      <td>21.70</td>\n",
       "      <td>4</td>\n",
       "      <td>414000</td>\n",
       "    </tr>\n",
       "    <tr>\n",
       "      <th>4</th>\n",
       "      <td>2017</td>\n",
       "      <td>hatchback</td>\n",
       "      <td>25126</td>\n",
       "      <td>0</td>\n",
       "      <td>5</td>\n",
       "      <td>petrol</td>\n",
       "      <td>43</td>\n",
       "      <td>1197</td>\n",
       "      <td>5-Speed</td>\n",
       "      <td>Manual</td>\n",
       "      <td>81.86</td>\n",
       "      <td>113.75</td>\n",
       "      <td>18.90</td>\n",
       "      <td>5</td>\n",
       "      <td>515000</td>\n",
       "    </tr>\n",
       "    <tr>\n",
       "      <th>...</th>\n",
       "      <td>...</td>\n",
       "      <td>...</td>\n",
       "      <td>...</td>\n",
       "      <td>...</td>\n",
       "      <td>...</td>\n",
       "      <td>...</td>\n",
       "      <td>...</td>\n",
       "      <td>...</td>\n",
       "      <td>...</td>\n",
       "      <td>...</td>\n",
       "      <td>...</td>\n",
       "      <td>...</td>\n",
       "      <td>...</td>\n",
       "      <td>...</td>\n",
       "      <td>...</td>\n",
       "    </tr>\n",
       "    <tr>\n",
       "      <th>968</th>\n",
       "      <td>2018</td>\n",
       "      <td>sedan</td>\n",
       "      <td>23869</td>\n",
       "      <td>0</td>\n",
       "      <td>5</td>\n",
       "      <td>petrol</td>\n",
       "      <td>43</td>\n",
       "      <td>1591</td>\n",
       "      <td>6-Speed</td>\n",
       "      <td>Automatic</td>\n",
       "      <td>121.00</td>\n",
       "      <td>158.00</td>\n",
       "      <td>17.40</td>\n",
       "      <td>5</td>\n",
       "      <td>956000</td>\n",
       "    </tr>\n",
       "    <tr>\n",
       "      <th>969</th>\n",
       "      <td>2019</td>\n",
       "      <td>sedan</td>\n",
       "      <td>14831</td>\n",
       "      <td>0</td>\n",
       "      <td>5</td>\n",
       "      <td>petrol</td>\n",
       "      <td>43</td>\n",
       "      <td>1591</td>\n",
       "      <td>6-Speed</td>\n",
       "      <td>Automatic</td>\n",
       "      <td>121.00</td>\n",
       "      <td>158.00</td>\n",
       "      <td>17.40</td>\n",
       "      <td>5</td>\n",
       "      <td>1027000</td>\n",
       "    </tr>\n",
       "    <tr>\n",
       "      <th>970</th>\n",
       "      <td>2014</td>\n",
       "      <td>sedan</td>\n",
       "      <td>52846</td>\n",
       "      <td>0</td>\n",
       "      <td>5</td>\n",
       "      <td>petrol</td>\n",
       "      <td>43</td>\n",
       "      <td>1591</td>\n",
       "      <td>4-Speed</td>\n",
       "      <td>Automatic</td>\n",
       "      <td>121.00</td>\n",
       "      <td>158.00</td>\n",
       "      <td>17.01</td>\n",
       "      <td>3</td>\n",
       "      <td>736000</td>\n",
       "    </tr>\n",
       "    <tr>\n",
       "      <th>971</th>\n",
       "      <td>2020</td>\n",
       "      <td>crossover</td>\n",
       "      <td>28335</td>\n",
       "      <td>1</td>\n",
       "      <td>5</td>\n",
       "      <td>diesel</td>\n",
       "      <td>42</td>\n",
       "      <td>1499</td>\n",
       "      <td>5-Speed</td>\n",
       "      <td>Automatic</td>\n",
       "      <td>98.96</td>\n",
       "      <td>215.00</td>\n",
       "      <td>18.50</td>\n",
       "      <td>5</td>\n",
       "      <td>749000</td>\n",
       "    </tr>\n",
       "    <tr>\n",
       "      <th>972</th>\n",
       "      <td>2018</td>\n",
       "      <td>hatchback</td>\n",
       "      <td>41176</td>\n",
       "      <td>0</td>\n",
       "      <td>5</td>\n",
       "      <td>petrol</td>\n",
       "      <td>32</td>\n",
       "      <td>1197</td>\n",
       "      <td>5-Speed</td>\n",
       "      <td>Automatic</td>\n",
       "      <td>81.80</td>\n",
       "      <td>113.00</td>\n",
       "      <td>20.89</td>\n",
       "      <td>5</td>\n",
       "      <td>691000</td>\n",
       "    </tr>\n",
       "  </tbody>\n",
       "</table>\n",
       "<p>973 rows × 15 columns</p>\n",
       "</div>"
      ],
      "text/plain": [
       "     Make_Year  Body_Type  Mileage_Run  No_of_Owners  Seating_Capacity  \\\n",
       "0         2017      sedan        44611             0                 5   \n",
       "1         2016  crossover        20305             0                 5   \n",
       "2         2019        suv        29540             1                 5   \n",
       "3         2017  hatchback        35680             0                 5   \n",
       "4         2017  hatchback        25126             0                 5   \n",
       "..         ...        ...          ...           ...               ...   \n",
       "968       2018      sedan        23869             0                 5   \n",
       "969       2019      sedan        14831             0                 5   \n",
       "970       2014      sedan        52846             0                 5   \n",
       "971       2020  crossover        28335             1                 5   \n",
       "972       2018  hatchback        41176             0                 5   \n",
       "\n",
       "    Fuel_Type  Fuel_Tank_Capacity(L)  CC_Displacement Transmission  \\\n",
       "0      diesel                     45             1498      7-Speed   \n",
       "1      petrol                     45             1197      5-Speed   \n",
       "2      petrol                     40             1199      5-Speed   \n",
       "3      petrol                     28              999      5-Speed   \n",
       "4      petrol                     43             1197      5-Speed   \n",
       "..        ...                    ...              ...          ...   \n",
       "968    petrol                     43             1591      6-Speed   \n",
       "969    petrol                     43             1591      6-Speed   \n",
       "970    petrol                     43             1591      4-Speed   \n",
       "971    diesel                     42             1499      5-Speed   \n",
       "972    petrol                     32             1197      5-Speed   \n",
       "\n",
       "    Transmission_Type  Power(BHP)  Torque(Nm)  Mileage(kmpl)  Emission  \\\n",
       "0           Automatic      109.00      250.00          21.66         4   \n",
       "1              Manual       82.00      115.00          17.19         5   \n",
       "2              Manual       88.50      110.00          16.50         4   \n",
       "3              Manual       67.00       91.00          21.70         4   \n",
       "4              Manual       81.86      113.75          18.90         5   \n",
       "..                ...         ...         ...            ...       ...   \n",
       "968         Automatic      121.00      158.00          17.40         5   \n",
       "969         Automatic      121.00      158.00          17.40         5   \n",
       "970         Automatic      121.00      158.00          17.01         3   \n",
       "971         Automatic       98.96      215.00          18.50         5   \n",
       "972         Automatic       81.80      113.00          20.89         5   \n",
       "\n",
       "       Price  \n",
       "0     657000  \n",
       "1     682000  \n",
       "2     793000  \n",
       "3     414000  \n",
       "4     515000  \n",
       "..       ...  \n",
       "968   956000  \n",
       "969  1027000  \n",
       "970   736000  \n",
       "971   749000  \n",
       "972   691000  \n",
       "\n",
       "[973 rows x 15 columns]"
      ]
     },
     "execution_count": 32,
     "metadata": {},
     "output_type": "execute_result"
    }
   ],
   "source": [
    "df"
   ]
  },
  {
   "cell_type": "markdown",
   "metadata": {},
   "source": [
    "Now lets see how many features we have left"
   ]
  },
  {
   "cell_type": "code",
   "execution_count": 33,
   "metadata": {
    "scrolled": true
   },
   "outputs": [
    {
     "name": "stdout",
     "output_type": "stream",
     "text": [
      "<class 'pandas.core.frame.DataFrame'>\n",
      "RangeIndex: 973 entries, 0 to 972\n",
      "Data columns (total 15 columns):\n",
      " #   Column                 Non-Null Count  Dtype  \n",
      "---  ------                 --------------  -----  \n",
      " 0   Make_Year              973 non-null    int64  \n",
      " 1   Body_Type              973 non-null    object \n",
      " 2   Mileage_Run            973 non-null    int64  \n",
      " 3   No_of_Owners           973 non-null    int64  \n",
      " 4   Seating_Capacity       973 non-null    int64  \n",
      " 5   Fuel_Type              973 non-null    object \n",
      " 6   Fuel_Tank_Capacity(L)  973 non-null    int64  \n",
      " 7   CC_Displacement        973 non-null    int64  \n",
      " 8   Transmission           973 non-null    object \n",
      " 9   Transmission_Type      973 non-null    object \n",
      " 10  Power(BHP)             973 non-null    float64\n",
      " 11  Torque(Nm)             973 non-null    float64\n",
      " 12  Mileage(kmpl)          973 non-null    float64\n",
      " 13  Emission               973 non-null    int64  \n",
      " 14  Price                  973 non-null    int64  \n",
      "dtypes: float64(3), int64(8), object(4)\n",
      "memory usage: 114.1+ KB\n"
     ]
    }
   ],
   "source": [
    "df.info()"
   ]
  },
  {
   "cell_type": "markdown",
   "metadata": {},
   "source": [
    "### Individual Analysis of each features relationship with the target."
   ]
  },
  {
   "cell_type": "markdown",
   "metadata": {},
   "source": [
    "We have 15 including our target value. Let's look at the relationship between the features and our target value. I am going to do this by making an individual graph of each feature and the target value."
   ]
  },
  {
   "cell_type": "code",
   "execution_count": 34,
   "metadata": {},
   "outputs": [
    {
     "data": {
      "text/plain": [
       "<matplotlib.collections.PathCollection at 0x7f5dbd5c3850>"
      ]
     },
     "execution_count": 34,
     "metadata": {},
     "output_type": "execute_result"
    },
    {
     "data": {
      "image/png": "[encoded data removed]",
      "text/plain": [
       "<Figure size 432x288 with 1 Axes>"
      ]
     },
     "metadata": {
      "needs_background": "light"
     },
     "output_type": "display_data"
    }
   ],
   "source": [
    "x = df['Make_Year']\n",
    "y=df['Price']\n",
    "plt.scatter(x,y)"
   ]
  },
  {
   "cell_type": "code",
   "execution_count": 35,
   "metadata": {},
   "outputs": [
    {
     "data": {
      "text/plain": [
       "<matplotlib.collections.PathCollection at 0x7f5dbd4ffb20>"
      ]
     },
     "execution_count": 35,
     "metadata": {},
     "output_type": "execute_result"
    },
    {
     "data": {
      "image/png": "[encoded data removed]",
      "text/plain": [
       "<Figure size 432x288 with 1 Axes>"
      ]
     },
     "metadata": {
      "needs_background": "light"
     },
     "output_type": "display_data"
    }
   ],
   "source": [
    "x = df['Body_Type']\n",
    "y=df['Price']\n",
    "plt.scatter(x,y)"
   ]
  },
  {
   "cell_type": "code",
   "execution_count": 36,
   "metadata": {},
   "outputs": [
    {
     "data": {
      "text/plain": [
       "<matplotlib.collections.PathCollection at 0x7f5dbd45ac10>"
      ]
     },
     "execution_count": 36,
     "metadata": {},
     "output_type": "execute_result"
    },
    {
     "data": {
      "image/png": "[encoded data removed]",
      "text/plain": [
       "<Figure size 432x288 with 1 Axes>"
      ]
     },
     "metadata": {
      "needs_background": "light"
     },
     "output_type": "display_data"
    }
   ],
   "source": [
    "x = df['No_of_Owners']\n",
    "y=df['Price']\n",
    "plt.scatter(x,y)"
   ]
  },
  {
   "cell_type": "code",
   "execution_count": 37,
   "metadata": {},
   "outputs": [
    {
     "data": {
      "text/plain": [
       "<matplotlib.collections.PathCollection at 0x7f5dbd3c13a0>"
      ]
     },
     "execution_count": 37,
     "metadata": {},
     "output_type": "execute_result"
    },
    {
     "data": {
      "image/png": "[encoded data removed]",
      "text/plain": [
       "<Figure size 432x288 with 1 Axes>"
      ]
     },
     "metadata": {
      "needs_background": "light"
     },
     "output_type": "display_data"
    }
   ],
   "source": [
    "x = df['Seating_Capacity']\n",
    "y=df['Price']\n",
    "plt.scatter(x,y)"
   ]
  },
  {
   "cell_type": "code",
   "execution_count": 38,
   "metadata": {},
   "outputs": [
    {
     "data": {
      "text/plain": [
       "<matplotlib.collections.PathCollection at 0x7f5dbd397ee0>"
      ]
     },
     "execution_count": 38,
     "metadata": {},
     "output_type": "execute_result"
    },
    {
     "data": {
      "image/png": "[encoded data removed]",
      "text/plain": [
       "<Figure size 432x288 with 1 Axes>"
      ]
     },
     "metadata": {
      "needs_background": "light"
     },
     "output_type": "display_data"
    }
   ],
   "source": [
    "x = df['Fuel_Type']\n",
    "y=df['Price']\n",
    "plt.scatter(x,y)"
   ]
  },
  {
   "cell_type": "code",
   "execution_count": 39,
   "metadata": {},
   "outputs": [
    {
     "data": {
      "text/plain": [
       "<matplotlib.collections.PathCollection at 0x7f5dbd36f130>"
      ]
     },
     "execution_count": 39,
     "metadata": {},
     "output_type": "execute_result"
    },
    {
     "data": {
      "image/png": "[encoded data removed]",
      "text/plain": [
       "<Figure size 432x288 with 1 Axes>"
      ]
     },
     "metadata": {
      "needs_background": "light"
     },
     "output_type": "display_data"
    }
   ],
   "source": [
    "x = df['Fuel_Tank_Capacity(L)']\n",
    "y=df['Price']\n",
    "plt.scatter(x,y)"
   ]
  },
  {
   "cell_type": "code",
   "execution_count": 40,
   "metadata": {},
   "outputs": [
    {
     "data": {
      "text/plain": [
       "<matplotlib.collections.PathCollection at 0x7f5dbd33c970>"
      ]
     },
     "execution_count": 40,
     "metadata": {},
     "output_type": "execute_result"
    },
    {
     "data": {
      "image/png": "[encoded data removed]",
      "text/plain": [
       "<Figure size 432x288 with 1 Axes>"
      ]
     },
     "metadata": {
      "needs_background": "light"
     },
     "output_type": "display_data"
    }
   ],
   "source": [
    "x = df['CC_Displacement']\n",
    "y=df['Price']\n",
    "plt.scatter(x,y)"
   ]
  },
  {
   "cell_type": "code",
   "execution_count": 41,
   "metadata": {},
   "outputs": [
    {
     "data": {
      "text/plain": [
       "<matplotlib.collections.PathCollection at 0x7f5dbd2a1550>"
      ]
     },
     "execution_count": 41,
     "metadata": {},
     "output_type": "execute_result"
    },
    {
     "data": {
      "image/png": "[encoded data removed]",
      "text/plain": [
       "<Figure size 432x288 with 1 Axes>"
      ]
     },
     "metadata": {
      "needs_background": "light"
     },
     "output_type": "display_data"
    }
   ],
   "source": [
    "x = df['Transmission']\n",
    "y=df['Price']\n",
    "plt.scatter(x,y)"
   ]
  },
  {
   "cell_type": "code",
   "execution_count": 42,
   "metadata": {},
   "outputs": [
    {
     "data": {
      "text/plain": [
       "<matplotlib.collections.PathCollection at 0x7f5dbd276310>"
      ]
     },
     "execution_count": 42,
     "metadata": {},
     "output_type": "execute_result"
    },
    {
     "data": {
      "image/png": "[encoded data removed]",
      "text/plain": [
       "<Figure size 432x288 with 1 Axes>"
      ]
     },
     "metadata": {
      "needs_background": "light"
     },
     "output_type": "display_data"
    }
   ],
   "source": [
    "x = df['Transmission_Type']\n",
    "y=df['Price']\n",
    "plt.scatter(x,y)"
   ]
  },
  {
   "cell_type": "code",
   "execution_count": 43,
   "metadata": {},
   "outputs": [
    {
     "data": {
      "text/plain": [
       "<matplotlib.collections.PathCollection at 0x7f5dbd234f40>"
      ]
     },
     "execution_count": 43,
     "metadata": {},
     "output_type": "execute_result"
    },
    {
     "data": {
      "image/png": "[encoded data removed]",
      "text/plain": [
       "<Figure size 432x288 with 1 Axes>"
      ]
     },
     "metadata": {
      "needs_background": "light"
     },
     "output_type": "display_data"
    }
   ],
   "source": [
    "x = df['Power(BHP)']\n",
    "y=df['Price']\n",
    "plt.scatter(x,y)"
   ]
  },
  {
   "cell_type": "code",
   "execution_count": 44,
   "metadata": {},
   "outputs": [
    {
     "data": {
      "text/plain": [
       "<matplotlib.collections.PathCollection at 0x7f5dbd199220>"
      ]
     },
     "execution_count": 44,
     "metadata": {},
     "output_type": "execute_result"
    },
    {
     "data": {
      "image/png": "[encoded data removed]",
      "text/plain": [
       "<Figure size 432x288 with 1 Axes>"
      ]
     },
     "metadata": {
      "needs_background": "light"
     },
     "output_type": "display_data"
    }
   ],
   "source": [
    "x = df['Torque(Nm)']\n",
    "y=df['Price']\n",
    "plt.scatter(x,y)"
   ]
  },
  {
   "cell_type": "code",
   "execution_count": 45,
   "metadata": {
    "scrolled": true
   },
   "outputs": [
    {
     "data": {
      "text/plain": [
       "<matplotlib.collections.PathCollection at 0x7f5dbd16ae80>"
      ]
     },
     "execution_count": 45,
     "metadata": {},
     "output_type": "execute_result"
    },
    {
     "data": {
      "image/png": "[encoded data removed]",
      "text/plain": [
       "<Figure size 432x288 with 1 Axes>"
      ]
     },
     "metadata": {
      "needs_background": "light"
     },
     "output_type": "display_data"
    }
   ],
   "source": [
    "x = df['Emission']\n",
    "y=df['Price']\n",
    "plt.scatter(x,y)"
   ]
  },
  {
   "cell_type": "markdown",
   "metadata": {},
   "source": [
    "As you can see, many of the features have a linear relationship with the model. But a few don't. While it would be more simple to drop the features that aren't linear to make a linear regression model, I want my model to be very accurate and incorporate those features. So I am going to mess around and see which kind of modeling scores best."
   ]
  },
  {
   "cell_type": "markdown",
   "metadata": {},
   "source": [
    "# Modeling"
   ]
  },
  {
   "cell_type": "markdown",
   "metadata": {},
   "source": [
    "Now we will split the data using an import from sklearn call 'train, test, split'. This will split the data in way so that we can use the majority of it to select, and train our model. Then, when we have developed our final model, we will use the testing data to see how accurately it can predict the target value which in this case is the price. The first step is to isolate the target variable from the data frame."
   ]
  },
  {
   "cell_type": "code",
   "execution_count": 46,
   "metadata": {},
   "outputs": [],
   "source": [
    "X = df.drop('Price',axis=1)\n",
    "y = df['Price']"
   ]
  },
  {
   "cell_type": "code",
   "execution_count": 47,
   "metadata": {},
   "outputs": [],
   "source": [
    "X_train, X_test, y_train, y_test = train_test_split(\n",
    "                                                X,\n",
    "                                                y,\n",
    "                                                test_size=0.2,\n",
    "                                                random_state=42)"
   ]
  },
  {
   "cell_type": "code",
   "execution_count": 48,
   "metadata": {
    "scrolled": true
   },
   "outputs": [
    {
     "data": {
      "text/html": [
       "<div>\n",
       "<style scoped>\n",
       "    .dataframe tbody tr th:only-of-type {\n",
       "        vertical-align: middle;\n",
       "    }\n",
       "\n",
       "    .dataframe tbody tr th {\n",
       "        vertical-align: top;\n",
       "    }\n",
       "\n",
       "    .dataframe thead th {\n",
       "        text-align: right;\n",
       "    }\n",
       "</style>\n",
       "<table border=\"1\" class=\"dataframe\">\n",
       "  <thead>\n",
       "    <tr style=\"text-align: right;\">\n",
       "      <th></th>\n",
       "      <th>Make_Year</th>\n",
       "      <th>Body_Type</th>\n",
       "      <th>Mileage_Run</th>\n",
       "      <th>No_of_Owners</th>\n",
       "      <th>Seating_Capacity</th>\n",
       "      <th>Fuel_Type</th>\n",
       "      <th>Fuel_Tank_Capacity(L)</th>\n",
       "      <th>CC_Displacement</th>\n",
       "      <th>Transmission</th>\n",
       "      <th>Transmission_Type</th>\n",
       "      <th>Power(BHP)</th>\n",
       "      <th>Torque(Nm)</th>\n",
       "      <th>Mileage(kmpl)</th>\n",
       "      <th>Emission</th>\n",
       "    </tr>\n",
       "  </thead>\n",
       "  <tbody>\n",
       "    <tr>\n",
       "      <th>967</th>\n",
       "      <td>2017</td>\n",
       "      <td>sedan</td>\n",
       "      <td>33258</td>\n",
       "      <td>0</td>\n",
       "      <td>5</td>\n",
       "      <td>petrol</td>\n",
       "      <td>37</td>\n",
       "      <td>1197</td>\n",
       "      <td>5-Speed</td>\n",
       "      <td>Automatic</td>\n",
       "      <td>88.50</td>\n",
       "      <td>113.00</td>\n",
       "      <td>23.26</td>\n",
       "      <td>5</td>\n",
       "    </tr>\n",
       "    <tr>\n",
       "      <th>365</th>\n",
       "      <td>2016</td>\n",
       "      <td>suv</td>\n",
       "      <td>97039</td>\n",
       "      <td>0</td>\n",
       "      <td>5</td>\n",
       "      <td>diesel</td>\n",
       "      <td>60</td>\n",
       "      <td>1582</td>\n",
       "      <td>6-Speed</td>\n",
       "      <td>Manual</td>\n",
       "      <td>126.00</td>\n",
       "      <td>265.00</td>\n",
       "      <td>17.01</td>\n",
       "      <td>4</td>\n",
       "    </tr>\n",
       "    <tr>\n",
       "      <th>559</th>\n",
       "      <td>2020</td>\n",
       "      <td>suv</td>\n",
       "      <td>13185</td>\n",
       "      <td>0</td>\n",
       "      <td>5</td>\n",
       "      <td>diesel</td>\n",
       "      <td>60</td>\n",
       "      <td>1596</td>\n",
       "      <td>5-Speed</td>\n",
       "      <td>Manual</td>\n",
       "      <td>167.68</td>\n",
       "      <td>350.00</td>\n",
       "      <td>17.41</td>\n",
       "      <td>4</td>\n",
       "    </tr>\n",
       "    <tr>\n",
       "      <th>33</th>\n",
       "      <td>2021</td>\n",
       "      <td>hatchback</td>\n",
       "      <td>13389</td>\n",
       "      <td>0</td>\n",
       "      <td>5</td>\n",
       "      <td>petrol</td>\n",
       "      <td>37</td>\n",
       "      <td>998</td>\n",
       "      <td>7-Speed</td>\n",
       "      <td>Automatic</td>\n",
       "      <td>118.00</td>\n",
       "      <td>172.00</td>\n",
       "      <td>20.20</td>\n",
       "      <td>4</td>\n",
       "    </tr>\n",
       "    <tr>\n",
       "      <th>31</th>\n",
       "      <td>2013</td>\n",
       "      <td>sedan</td>\n",
       "      <td>10651</td>\n",
       "      <td>0</td>\n",
       "      <td>5</td>\n",
       "      <td>petrol</td>\n",
       "      <td>35</td>\n",
       "      <td>1198</td>\n",
       "      <td>5-Speed</td>\n",
       "      <td>Manual</td>\n",
       "      <td>86.90</td>\n",
       "      <td>109.00</td>\n",
       "      <td>18.00</td>\n",
       "      <td>4</td>\n",
       "    </tr>\n",
       "    <tr>\n",
       "      <th>...</th>\n",
       "      <td>...</td>\n",
       "      <td>...</td>\n",
       "      <td>...</td>\n",
       "      <td>...</td>\n",
       "      <td>...</td>\n",
       "      <td>...</td>\n",
       "      <td>...</td>\n",
       "      <td>...</td>\n",
       "      <td>...</td>\n",
       "      <td>...</td>\n",
       "      <td>...</td>\n",
       "      <td>...</td>\n",
       "      <td>...</td>\n",
       "      <td>...</td>\n",
       "    </tr>\n",
       "    <tr>\n",
       "      <th>106</th>\n",
       "      <td>2014</td>\n",
       "      <td>sedan</td>\n",
       "      <td>68269</td>\n",
       "      <td>1</td>\n",
       "      <td>5</td>\n",
       "      <td>petrol</td>\n",
       "      <td>55</td>\n",
       "      <td>1598</td>\n",
       "      <td>5-Speed</td>\n",
       "      <td>Manual</td>\n",
       "      <td>103.20</td>\n",
       "      <td>153.00</td>\n",
       "      <td>16.09</td>\n",
       "      <td>3</td>\n",
       "    </tr>\n",
       "    <tr>\n",
       "      <th>270</th>\n",
       "      <td>2021</td>\n",
       "      <td>hatchback</td>\n",
       "      <td>27185</td>\n",
       "      <td>0</td>\n",
       "      <td>5</td>\n",
       "      <td>petrol</td>\n",
       "      <td>37</td>\n",
       "      <td>1197</td>\n",
       "      <td>5-Speed</td>\n",
       "      <td>Manual</td>\n",
       "      <td>81.86</td>\n",
       "      <td>113.75</td>\n",
       "      <td>20.07</td>\n",
       "      <td>4</td>\n",
       "    </tr>\n",
       "    <tr>\n",
       "      <th>860</th>\n",
       "      <td>2019</td>\n",
       "      <td>suv</td>\n",
       "      <td>73732</td>\n",
       "      <td>0</td>\n",
       "      <td>5</td>\n",
       "      <td>diesel</td>\n",
       "      <td>40</td>\n",
       "      <td>1498</td>\n",
       "      <td>6-Speed</td>\n",
       "      <td>Manual</td>\n",
       "      <td>97.89</td>\n",
       "      <td>200.00</td>\n",
       "      <td>23.70</td>\n",
       "      <td>4</td>\n",
       "    </tr>\n",
       "    <tr>\n",
       "      <th>435</th>\n",
       "      <td>2011</td>\n",
       "      <td>hatchback</td>\n",
       "      <td>49985</td>\n",
       "      <td>0</td>\n",
       "      <td>5</td>\n",
       "      <td>petrol</td>\n",
       "      <td>35</td>\n",
       "      <td>1197</td>\n",
       "      <td>5-Speed</td>\n",
       "      <td>Manual</td>\n",
       "      <td>68.00</td>\n",
       "      <td>99.08</td>\n",
       "      <td>19.81</td>\n",
       "      <td>3</td>\n",
       "    </tr>\n",
       "    <tr>\n",
       "      <th>102</th>\n",
       "      <td>2017</td>\n",
       "      <td>sedan</td>\n",
       "      <td>36922</td>\n",
       "      <td>1</td>\n",
       "      <td>5</td>\n",
       "      <td>petrol</td>\n",
       "      <td>37</td>\n",
       "      <td>1197</td>\n",
       "      <td>5-Speed</td>\n",
       "      <td>Manual</td>\n",
       "      <td>88.50</td>\n",
       "      <td>113.00</td>\n",
       "      <td>23.26</td>\n",
       "      <td>5</td>\n",
       "    </tr>\n",
       "  </tbody>\n",
       "</table>\n",
       "<p>778 rows × 14 columns</p>\n",
       "</div>"
      ],
      "text/plain": [
       "     Make_Year  Body_Type  Mileage_Run  No_of_Owners  Seating_Capacity  \\\n",
       "967       2017      sedan        33258             0                 5   \n",
       "365       2016        suv        97039             0                 5   \n",
       "559       2020        suv        13185             0                 5   \n",
       "33        2021  hatchback        13389             0                 5   \n",
       "31        2013      sedan        10651             0                 5   \n",
       "..         ...        ...          ...           ...               ...   \n",
       "106       2014      sedan        68269             1                 5   \n",
       "270       2021  hatchback        27185             0                 5   \n",
       "860       2019        suv        73732             0                 5   \n",
       "435       2011  hatchback        49985             0                 5   \n",
       "102       2017      sedan        36922             1                 5   \n",
       "\n",
       "    Fuel_Type  Fuel_Tank_Capacity(L)  CC_Displacement Transmission  \\\n",
       "967    petrol                     37             1197      5-Speed   \n",
       "365    diesel                     60             1582      6-Speed   \n",
       "559    diesel                     60             1596      5-Speed   \n",
       "33     petrol                     37              998      7-Speed   \n",
       "31     petrol                     35             1198      5-Speed   \n",
       "..        ...                    ...              ...          ...   \n",
       "106    petrol                     55             1598      5-Speed   \n",
       "270    petrol                     37             1197      5-Speed   \n",
       "860    diesel                     40             1498      6-Speed   \n",
       "435    petrol                     35             1197      5-Speed   \n",
       "102    petrol                     37             1197      5-Speed   \n",
       "\n",
       "    Transmission_Type  Power(BHP)  Torque(Nm)  Mileage(kmpl)  Emission  \n",
       "967         Automatic       88.50      113.00          23.26         5  \n",
       "365            Manual      126.00      265.00          17.01         4  \n",
       "559            Manual      167.68      350.00          17.41         4  \n",
       "33          Automatic      118.00      172.00          20.20         4  \n",
       "31             Manual       86.90      109.00          18.00         4  \n",
       "..                ...         ...         ...            ...       ...  \n",
       "106            Manual      103.20      153.00          16.09         3  \n",
       "270            Manual       81.86      113.75          20.07         4  \n",
       "860            Manual       97.89      200.00          23.70         4  \n",
       "435            Manual       68.00       99.08          19.81         3  \n",
       "102            Manual       88.50      113.00          23.26         5  \n",
       "\n",
       "[778 rows x 14 columns]"
      ]
     },
     "execution_count": 48,
     "metadata": {},
     "output_type": "execute_result"
    }
   ],
   "source": [
    "X_train"
   ]
  },
  {
   "cell_type": "markdown",
   "metadata": {},
   "source": [
    "### Dummy Model"
   ]
  },
  {
   "cell_type": "markdown",
   "metadata": {},
   "source": [
    "Now let's apply a dummy regressor to see our baseline. In other words, a sort of 'floor' to compare to see how much were solving for with our modeling. I imported the dummy regressor as DR for an abbreviate."
   ]
  },
  {
   "cell_type": "code",
   "execution_count": 49,
   "metadata": {},
   "outputs": [],
   "source": [
    "dr1 = dr()"
   ]
  },
  {
   "cell_type": "code",
   "execution_count": 50,
   "metadata": {},
   "outputs": [
    {
     "data": {
      "text/plain": [
       "DummyRegressor()"
      ]
     },
     "execution_count": 50,
     "metadata": {},
     "output_type": "execute_result"
    }
   ],
   "source": [
    "dr1.fit(X_train,y_train)"
   ]
  },
  {
   "cell_type": "code",
   "execution_count": 51,
   "metadata": {},
   "outputs": [
    {
     "data": {
      "text/plain": [
       "0.0"
      ]
     },
     "execution_count": 51,
     "metadata": {},
     "output_type": "execute_result"
    }
   ],
   "source": [
    "dr1.score(X_train,y_train)"
   ]
  },
  {
   "cell_type": "markdown",
   "metadata": {},
   "source": [
    "We can see that our dummy model esentially doesn't solve anything because we havent built the right model for the data. It got an R squared score of 0, which means that none of the variance in the target data is a result of the features in this models computation. This is because the dummy model simply predicts the mean as every value."
   ]
  },
  {
   "cell_type": "markdown",
   "metadata": {},
   "source": [
    "### Piping"
   ]
  },
  {
   "cell_type": "markdown",
   "metadata": {},
   "source": [
    "Now I am going to do something called Piping. this is where in wrapp up certain proceadures like StandardScaler and OneHotEncoder. StandardScaler will scale all of my numeric values so that they can be properly compared to eachother to asses their impact on the target value. OneHotEncoder will turn all of my categorical values into binary columns. This will allow them to be scaled with the other values for the computation. It is like scaling for objects."
   ]
  },
  {
   "cell_type": "code",
   "execution_count": 52,
   "metadata": {},
   "outputs": [],
   "source": [
    "pipe = Pipeline(steps=[('ss', StandardScaler())])"
   ]
  },
  {
   "cell_type": "code",
   "execution_count": 53,
   "metadata": {},
   "outputs": [],
   "source": [
    "pipe_2 = Pipeline(steps=[('ohe', OneHotEncoder(sparse=False,handle_unknown='ignore'))])"
   ]
  },
  {
   "cell_type": "markdown",
   "metadata": {},
   "source": [
    "Here when I set up my pipe to work on columns, I assigned the 'pipe' that I want and after that I assigned the columns I want the pipe to transform with an array as the last argument. The array tells the transformer which columnsto transform."
   ]
  },
  {
   "cell_type": "code",
   "execution_count": 54,
   "metadata": {},
   "outputs": [],
   "source": [
    "CT = ColumnTransformer(transformers=[('pipe', pipe,[0,2,3,4,6,7,10,11,12,13]),\n",
    "                                         ('pipe_2',pipe_2,[1,5,8,9])],\n",
    "                           remainder='drop')"
   ]
  },
  {
   "cell_type": "markdown",
   "metadata": {},
   "source": [
    "Now I am going to create one last pipe, which will incorporate my Transformer, and my model into one pipe. Let's start off a linear regression to see how that scores."
   ]
  },
  {
   "cell_type": "code",
   "execution_count": 55,
   "metadata": {},
   "outputs": [],
   "source": [
    "lr_ct_pipe = Pipeline(steps=[('ct', CT),\n",
    "                            ('dtr', LinearRegression())])"
   ]
  },
  {
   "cell_type": "code",
   "execution_count": 56,
   "metadata": {},
   "outputs": [
    {
     "data": {
      "text/plain": [
       "Pipeline(steps=[('ct',\n",
       "                 ColumnTransformer(transformers=[('pipe',\n",
       "                                                  Pipeline(steps=[('ss',\n",
       "                                                                   StandardScaler())]),\n",
       "                                                  [0, 2, 3, 4, 6, 7, 10, 11, 12,\n",
       "                                                   13]),\n",
       "                                                 ('pipe_2',\n",
       "                                                  Pipeline(steps=[('ohe',\n",
       "                                                                   OneHotEncoder(handle_unknown='ignore',\n",
       "                                                                                 sparse=False))]),\n",
       "                                                  [1, 5, 8, 9])])),\n",
       "                ('dtr', LinearRegression())])"
      ]
     },
     "execution_count": 56,
     "metadata": {},
     "output_type": "execute_result"
    }
   ],
   "source": [
    "lr_ct_pipe.fit(X_train, y_train)"
   ]
  },
  {
   "cell_type": "code",
   "execution_count": 57,
   "metadata": {},
   "outputs": [
    {
     "data": {
      "text/plain": [
       "0.8810267274425316"
      ]
     },
     "execution_count": 57,
     "metadata": {},
     "output_type": "execute_result"
    }
   ],
   "source": [
    "lr_ct_pipe.score(X_train,y_train)"
   ]
  },
  {
   "cell_type": "markdown",
   "metadata": {},
   "source": [
    "The R_Squared score is an 82. Not bad, lets try this with a Decision Tree Regressor and see how that one performs."
   ]
  },
  {
   "cell_type": "code",
   "execution_count": 58,
   "metadata": {},
   "outputs": [],
   "source": [
    "dtr_ct_pipe = Pipeline(steps=[('ct', CT),\n",
    "                            ('dtr', DecisionTreeRegressor(random_state=42))])"
   ]
  },
  {
   "cell_type": "code",
   "execution_count": 59,
   "metadata": {},
   "outputs": [
    {
     "data": {
      "text/plain": [
       "Pipeline(steps=[('ct',\n",
       "                 ColumnTransformer(transformers=[('pipe',\n",
       "                                                  Pipeline(steps=[('ss',\n",
       "                                                                   StandardScaler())]),\n",
       "                                                  [0, 2, 3, 4, 6, 7, 10, 11, 12,\n",
       "                                                   13]),\n",
       "                                                 ('pipe_2',\n",
       "                                                  Pipeline(steps=[('ohe',\n",
       "                                                                   OneHotEncoder(handle_unknown='ignore',\n",
       "                                                                                 sparse=False))]),\n",
       "                                                  [1, 5, 8, 9])])),\n",
       "                ('dtr', DecisionTreeRegressor(random_state=42))])"
      ]
     },
     "execution_count": 59,
     "metadata": {},
     "output_type": "execute_result"
    }
   ],
   "source": [
    "dtr_ct_pipe.fit(X_train, y_train)"
   ]
  },
  {
   "cell_type": "code",
   "execution_count": 60,
   "metadata": {
    "scrolled": false
   },
   "outputs": [
    {
     "data": {
      "text/plain": [
       "1.0"
      ]
     },
     "execution_count": 60,
     "metadata": {},
     "output_type": "execute_result"
    }
   ],
   "source": [
    "dtr_ct_pipe.score(X_train, y_train)"
   ]
  },
  {
   "cell_type": "markdown",
   "metadata": {},
   "source": [
    "Now we got an R_Squared score of 100. Clearly much better. Yet, we might be over fit. This is something we will address in our next steps."
   ]
  },
  {
   "cell_type": "markdown",
   "metadata": {},
   "source": [
    "### Grid"
   ]
  },
  {
   "cell_type": "markdown",
   "metadata": {},
   "source": [
    "While our model may be over fit, it certainly is a much better score. Let's run it through a grid to find our best parameters for the decision tree regressor."
   ]
  },
  {
   "cell_type": "markdown",
   "metadata": {},
   "source": [
    "A grid runs the model with all of the parameter options that I create. It will then tell me which combination of parameter options score the best."
   ]
  },
  {
   "cell_type": "markdown",
   "metadata": {},
   "source": [
    "I am going to use the criterion you see below, because there are only four I know of that are commonly used. So why not test them all. The splitter option which decides at which nodes the decision tree should split, is most commonly either best or random so I thought I would make both an option and see which one is better. From my intuition I believe that 5 will be the best amount of minimum samples to split. Thats essentialy how deap the tree goes. But I could be either to high or too low with that estimation. So (no punn intended) I am going to go two up and two down as my other opens and see which one performs the best. "
   ]
  },
  {
   "cell_type": "code",
   "execution_count": 61,
   "metadata": {},
   "outputs": [],
   "source": [
    "grid = {'dtr__criterion' : ['squared_error', 'friedman_mse', 'absolute_error', 'poisson'], 'dtr__splitter' : ['best', 'random'], 'dtr__min_samples_split' : [3,5,7]  }"
   ]
  },
  {
   "cell_type": "code",
   "execution_count": 62,
   "metadata": {},
   "outputs": [],
   "source": [
    "gs= GridSearchCV(dtr_ct_pipe, grid, verbose=3, n_jobs=-2)"
   ]
  },
  {
   "cell_type": "code",
   "execution_count": 63,
   "metadata": {},
   "outputs": [
    {
     "name": "stdout",
     "output_type": "stream",
     "text": [
      "Fitting 5 folds for each of 24 candidates, totalling 120 fits\n"
     ]
    },
    {
     "name": "stderr",
     "output_type": "stream",
     "text": [
      "[Parallel(n_jobs=-2)]: Using backend LokyBackend with 15 concurrent workers.\n",
      "[Parallel(n_jobs=-2)]: Done   2 tasks      | elapsed:    1.5s\n",
      "[Parallel(n_jobs=-2)]: Done 120 out of 120 | elapsed:    2.1s finished\n"
     ]
    },
    {
     "data": {
      "text/plain": [
       "GridSearchCV(estimator=Pipeline(steps=[('ct',\n",
       "                                        ColumnTransformer(transformers=[('pipe',\n",
       "                                                                         Pipeline(steps=[('ss',\n",
       "                                                                                          StandardScaler())]),\n",
       "                                                                         [0, 2,\n",
       "                                                                          3, 4,\n",
       "                                                                          6, 7,\n",
       "                                                                          10,\n",
       "                                                                          11,\n",
       "                                                                          12,\n",
       "                                                                          13]),\n",
       "                                                                        ('pipe_2',\n",
       "                                                                         Pipeline(steps=[('ohe',\n",
       "                                                                                          OneHotEncoder(handle_unknown='ignore',\n",
       "                                                                                                        sparse=False))]),\n",
       "                                                                         [1, 5,\n",
       "                                                                          8,\n",
       "                                                                          9])])),\n",
       "                                       ('dtr',\n",
       "                                        DecisionTreeRegressor(random_state=42))]),\n",
       "             n_jobs=-2,\n",
       "             param_grid={'dtr__criterion': ['squared_error', 'friedman_mse',\n",
       "                                            'absolute_error', 'poisson'],\n",
       "                         'dtr__min_samples_split': [3, 5, 7],\n",
       "                         'dtr__splitter': ['best', 'random']},\n",
       "             verbose=3)"
      ]
     },
     "execution_count": 63,
     "metadata": {},
     "output_type": "execute_result"
    }
   ],
   "source": [
    "gs.fit(X_train,y_train)"
   ]
  },
  {
   "cell_type": "code",
   "execution_count": 64,
   "metadata": {},
   "outputs": [
    {
     "data": {
      "text/plain": [
       "0.9921067021107942"
      ]
     },
     "execution_count": 64,
     "metadata": {},
     "output_type": "execute_result"
    }
   ],
   "source": [
    "gs.score(X_train, y_train)"
   ]
  },
  {
   "cell_type": "markdown",
   "metadata": {},
   "source": [
    "We got a R_squared score of 99. This is really a remarkable score. The tuning probably cleared out someone of the types of interpretations that made it over fit. Let's look at the best parameters for the Decision Tree Regressor."
   ]
  },
  {
   "cell_type": "code",
   "execution_count": 65,
   "metadata": {},
   "outputs": [
    {
     "data": {
      "text/plain": [
       "{'dtr__criterion': 'friedman_mse',\n",
       " 'dtr__min_samples_split': 7,\n",
       " 'dtr__splitter': 'best'}"
      ]
     },
     "execution_count": 65,
     "metadata": {},
     "output_type": "execute_result"
    }
   ],
   "source": [
    "gs.best_params_"
   ]
  },
  {
   "cell_type": "markdown",
   "metadata": {},
   "source": [
    "Intresting. This means that with the specific set of data that we are using, the model runs best on it with these parameters."
   ]
  },
  {
   "cell_type": "markdown",
   "metadata": {},
   "source": [
    "Below you will see the model that uses these parameters."
   ]
  },
  {
   "cell_type": "code",
   "execution_count": 66,
   "metadata": {},
   "outputs": [
    {
     "data": {
      "text/plain": [
       "Pipeline(steps=[('ct',\n",
       "                 ColumnTransformer(transformers=[('pipe',\n",
       "                                                  Pipeline(steps=[('ss',\n",
       "                                                                   StandardScaler())]),\n",
       "                                                  [0, 2, 3, 4, 6, 7, 10, 11, 12,\n",
       "                                                   13]),\n",
       "                                                 ('pipe_2',\n",
       "                                                  Pipeline(steps=[('ohe',\n",
       "                                                                   OneHotEncoder(handle_unknown='ignore',\n",
       "                                                                                 sparse=False))]),\n",
       "                                                  [1, 5, 8, 9])])),\n",
       "                ('dtr',\n",
       "                 DecisionTreeRegressor(criterion='friedman_mse',\n",
       "                                       min_samples_split=7, random_state=42))])"
      ]
     },
     "execution_count": 66,
     "metadata": {},
     "output_type": "execute_result"
    }
   ],
   "source": [
    "gs.best_estimator_"
   ]
  },
  {
   "cell_type": "code",
   "execution_count": 67,
   "metadata": {},
   "outputs": [],
   "source": [
    "best_model = gs.best_estimator_"
   ]
  },
  {
   "cell_type": "markdown",
   "metadata": {},
   "source": [
    "Now let's take a look at the predictions our model makes based on the data from the test set. 'X_test'."
   ]
  },
  {
   "cell_type": "code",
   "execution_count": 68,
   "metadata": {},
   "outputs": [
    {
     "data": {
      "text/plain": [
       "array([ 330000.        ,  467500.        ,  629500.        ,\n",
       "        666000.        , 1900000.        , 1070000.        ,\n",
       "        426500.        ,  699000.        ,  540000.        ,\n",
       "       1576000.        ,  703600.        ,  629500.        ,\n",
       "       1359500.        ,  804400.        ,  636000.        ,\n",
       "        792333.33333333,  680200.        ,  839500.        ,\n",
       "        315000.        ,  312166.66666667, 1085000.        ,\n",
       "        491200.        ,  971000.        ,  502200.        ,\n",
       "        742400.        ,  562000.        , 1104000.        ,\n",
       "        307250.        ,  697000.        ,  431000.        ,\n",
       "        582200.        ,  287500.        ,  437000.        ,\n",
       "        836500.        ,  750333.33333333,  836500.        ,\n",
       "        801000.        ,  429600.        ,  744000.        ,\n",
       "        426500.        ,  666000.        ,  439000.        ,\n",
       "        339800.        , 1055833.33333333, 1047000.        ,\n",
       "        914000.        ,  530200.        ,  578500.        ,\n",
       "       1438000.        , 1184000.        ,  470500.        ,\n",
       "       1739500.        ,  863166.66666667,  783600.        ,\n",
       "        749666.66666667,  330000.        ,  664800.        ,\n",
       "        554000.        ,  578500.        , 1097666.66666667,\n",
       "        330000.        ,  470500.        ,  754000.        ,\n",
       "        657000.        ,  374000.        ,  915600.        ,\n",
       "       1900000.        ,  578500.        , 1057000.        ,\n",
       "        352400.        ,  511166.66666667,  869000.        ,\n",
       "       1046666.66666667,  329500.        ,  697000.        ,\n",
       "       1713250.        , 1085000.        ,  650666.66666667,\n",
       "        554000.        ,  417800.        ,  767500.        ,\n",
       "        374000.        ,  650666.66666667,  836500.        ,\n",
       "        374000.        ,  699000.        ,  378666.66666667,\n",
       "        767500.        , 1028750.        ,  627333.33333333,\n",
       "        613833.33333333,  561333.33333333,  697166.66666667,\n",
       "       1028750.        ,  362000.        , 1028750.        ,\n",
       "        312166.66666667, 1713250.        ,  307250.        ,\n",
       "        629500.        ,  429600.        ,  783600.        ,\n",
       "        751200.        ,  951000.        ,  666000.        ,\n",
       "        378666.66666667,  627333.33333333,  540666.66666667,\n",
       "        307250.        ,  742400.        ,  788500.        ,\n",
       "        485800.        ,  382500.        ,  809000.        ,\n",
       "        622000.        ,  869000.        , 1028750.        ,\n",
       "        928166.66666667,  781000.        ,  411250.        ,\n",
       "        511166.66666667,  703600.        ,  680200.        ,\n",
       "       1112500.        ,  583000.        , 1991666.66666667,\n",
       "        417800.        ,  620000.        ,  657000.        ,\n",
       "        804400.        ,  568000.        ,  467500.        ,\n",
       "        580000.        ,  578500.        ,  575000.        ,\n",
       "        818500.        ,  666000.        , 1129000.        ,\n",
       "        801500.        ,  575000.        ,  989000.        ,\n",
       "        352400.        ,  874750.        ,  429600.        ,\n",
       "        598000.        , 1112500.        ,  627333.33333333,\n",
       "       1112500.        ,  786750.        ,  485800.        ,\n",
       "        611000.        ,  749666.66666667,  407750.        ,\n",
       "        510000.        , 1822000.        ,  578500.        ,\n",
       "        330000.        , 1055833.33333333,  437000.        ,\n",
       "        327000.        ,  792333.33333333,  507666.66666667,\n",
       "        697166.66666667,  437000.        ,  540000.        ,\n",
       "        749666.66666667, 1129000.        ,  636000.        ,\n",
       "        738000.        ,  629500.        , 1055833.33333333,\n",
       "        378666.66666667, 1991666.66666667,  680200.        ,\n",
       "        457400.        , 1028750.        ,  799333.33333333,\n",
       "        966000.        ,  863333.33333333,  749666.66666667,\n",
       "        485800.        ,  582200.        ,  677250.        ,\n",
       "        530200.        ,  260800.        ,  697166.66666667,\n",
       "        664800.        ,  989000.        ,  312166.66666667,\n",
       "        575000.        ,  514000.        ,  554000.        ,\n",
       "        676666.66666667,  459250.        ,  378666.66666667])"
      ]
     },
     "execution_count": 68,
     "metadata": {},
     "output_type": "execute_result"
    }
   ],
   "source": [
    "best_model.predict(X_test)"
   ]
  },
  {
   "cell_type": "markdown",
   "metadata": {},
   "source": [
    "### Evaluation"
   ]
  },
  {
   "cell_type": "markdown",
   "metadata": {},
   "source": [
    "So let's assign this to a variable called y_pred because its the models prediction of y which is supposed to be the target value."
   ]
  },
  {
   "cell_type": "code",
   "execution_count": 69,
   "metadata": {},
   "outputs": [],
   "source": [
    "y_pred = best_model.predict(X_test)"
   ]
  },
  {
   "cell_type": "markdown",
   "metadata": {},
   "source": [
    "Now lets get the mean squared error but let not square it so that its really just the mean error."
   ]
  },
  {
   "cell_type": "code",
   "execution_count": 70,
   "metadata": {},
   "outputs": [],
   "source": [
    "mse = sklearn.metrics.mean_squared_error"
   ]
  },
  {
   "cell_type": "code",
   "execution_count": 71,
   "metadata": {
    "scrolled": false
   },
   "outputs": [
    {
     "data": {
      "text/plain": [
       "94217.82466354487"
      ]
     },
     "execution_count": 71,
     "metadata": {},
     "output_type": "execute_result"
    }
   ],
   "source": [
    "mse(y_test,y_pred, squared=False)"
   ]
  },
  {
   "cell_type": "markdown",
   "metadata": {},
   "source": [
    "Now that we have the mean squared error (94217), lets return the R^2 score!"
   ]
  },
  {
   "cell_type": "code",
   "execution_count": 72,
   "metadata": {},
   "outputs": [
    {
     "data": {
      "text/plain": [
       "0.9252660358478912"
      ]
     },
     "execution_count": 72,
     "metadata": {},
     "output_type": "execute_result"
    }
   ],
   "source": [
    "best_model.score(X_test,y_test)"
   ]
  },
  {
   "cell_type": "markdown",
   "metadata": {},
   "source": [
    "This tells us that 92% of the varience in price is explained by the features in this model. This is a testament to the accuracy of the model."
   ]
  },
  {
   "cell_type": "code",
   "execution_count": 73,
   "metadata": {},
   "outputs": [
    {
     "data": {
      "text/html": [
       "<div>\n",
       "<style scoped>\n",
       "    .dataframe tbody tr th:only-of-type {\n",
       "        vertical-align: middle;\n",
       "    }\n",
       "\n",
       "    .dataframe tbody tr th {\n",
       "        vertical-align: top;\n",
       "    }\n",
       "\n",
       "    .dataframe thead th {\n",
       "        text-align: right;\n",
       "    }\n",
       "</style>\n",
       "<table border=\"1\" class=\"dataframe\">\n",
       "  <thead>\n",
       "    <tr style=\"text-align: right;\">\n",
       "      <th></th>\n",
       "      <th>Real Values</th>\n",
       "      <th>Predicted Values</th>\n",
       "      <th>Percentage Difference</th>\n",
       "    </tr>\n",
       "  </thead>\n",
       "  <tbody>\n",
       "    <tr>\n",
       "      <th>578</th>\n",
       "      <td>485000</td>\n",
       "      <td>514000.00</td>\n",
       "      <td>5.98</td>\n",
       "    </tr>\n",
       "    <tr>\n",
       "      <th>327</th>\n",
       "      <td>498000</td>\n",
       "      <td>554000.00</td>\n",
       "      <td>11.24</td>\n",
       "    </tr>\n",
       "    <tr>\n",
       "      <th>878</th>\n",
       "      <td>617000</td>\n",
       "      <td>676666.67</td>\n",
       "      <td>9.67</td>\n",
       "    </tr>\n",
       "    <tr>\n",
       "      <th>849</th>\n",
       "      <td>430000</td>\n",
       "      <td>459250.00</td>\n",
       "      <td>6.80</td>\n",
       "    </tr>\n",
       "    <tr>\n",
       "      <th>801</th>\n",
       "      <td>454000</td>\n",
       "      <td>378666.67</td>\n",
       "      <td>16.59</td>\n",
       "    </tr>\n",
       "  </tbody>\n",
       "</table>\n",
       "</div>"
      ],
      "text/plain": [
       "     Real Values  Predicted Values  Percentage Difference\n",
       "578       485000         514000.00                   5.98\n",
       "327       498000         554000.00                  11.24\n",
       "878       617000         676666.67                   9.67\n",
       "849       430000         459250.00                   6.80\n",
       "801       454000         378666.67                  16.59"
      ]
     },
     "execution_count": 73,
     "metadata": {},
     "output_type": "execute_result"
    }
   ],
   "source": [
    "Comparison_df = pd.DataFrame({'Real Values':y_test, 'Predicted Values':y_pred, 'Percentage Difference':abs(y_test-y_pred)/y_test * 100})\n",
    "Comparison_df.tail()"
   ]
  },
  {
   "cell_type": "markdown",
   "metadata": {},
   "source": [
    "Average of 8.4% difference amongst the real and predicted values"
   ]
  },
  {
   "cell_type": "code",
   "execution_count": 74,
   "metadata": {
    "scrolled": true
   },
   "outputs": [
    {
     "data": {
      "text/html": [
       "<div>\n",
       "<style scoped>\n",
       "    .dataframe tbody tr th:only-of-type {\n",
       "        vertical-align: middle;\n",
       "    }\n",
       "\n",
       "    .dataframe tbody tr th {\n",
       "        vertical-align: top;\n",
       "    }\n",
       "\n",
       "    .dataframe thead th {\n",
       "        text-align: right;\n",
       "    }\n",
       "</style>\n",
       "<table border=\"1\" class=\"dataframe\">\n",
       "  <thead>\n",
       "    <tr style=\"text-align: right;\">\n",
       "      <th></th>\n",
       "      <th>Real Values</th>\n",
       "      <th>Predicted Values</th>\n",
       "      <th>Difference</th>\n",
       "    </tr>\n",
       "  </thead>\n",
       "  <tbody>\n",
       "    <tr>\n",
       "      <th>578</th>\n",
       "      <td>485000</td>\n",
       "      <td>514000.00</td>\n",
       "      <td>29000.00</td>\n",
       "    </tr>\n",
       "    <tr>\n",
       "      <th>327</th>\n",
       "      <td>498000</td>\n",
       "      <td>554000.00</td>\n",
       "      <td>56000.00</td>\n",
       "    </tr>\n",
       "    <tr>\n",
       "      <th>878</th>\n",
       "      <td>617000</td>\n",
       "      <td>676666.67</td>\n",
       "      <td>59666.67</td>\n",
       "    </tr>\n",
       "    <tr>\n",
       "      <th>849</th>\n",
       "      <td>430000</td>\n",
       "      <td>459250.00</td>\n",
       "      <td>29250.00</td>\n",
       "    </tr>\n",
       "    <tr>\n",
       "      <th>801</th>\n",
       "      <td>454000</td>\n",
       "      <td>378666.67</td>\n",
       "      <td>-75333.33</td>\n",
       "    </tr>\n",
       "  </tbody>\n",
       "</table>\n",
       "</div>"
      ],
      "text/plain": [
       "     Real Values  Predicted Values   Difference\n",
       "578       485000         514000.00     29000.00\n",
       "327       498000         554000.00     56000.00\n",
       "878       617000         676666.67     59666.67\n",
       "849       430000         459250.00     29250.00\n",
       "801       454000         378666.67    -75333.33"
      ]
     },
     "execution_count": 74,
     "metadata": {},
     "output_type": "execute_result"
    }
   ],
   "source": [
    "sub_comps = pd.DataFrame({'Real Values':y_test, 'Predicted Values':y_pred, ' Difference':y_pred-y_test})\n",
    "sub_comps.tail()"
   ]
  },
  {
   "cell_type": "markdown",
   "metadata": {},
   "source": [
    "You can see here that the highly accurate model predicted that the first four cars in this table would sell for significantly more than their current prices. We know its accurate because of its R_squared score. This is an example of how our Echo Park Automotive would monitize on our model. Essentially they would buy the cars for there current price in 'real values' and then flip them for the values that the model predicted. The last car on the table is predicted to sell for less than the real value. This is an example of a car the model is telling you that you should not buy."
   ]
  },
  {
   "cell_type": "code",
   "execution_count": 75,
   "metadata": {},
   "outputs": [
    {
     "data": {
      "text/plain": [
       "8.418413410289268"
      ]
     },
     "execution_count": 75,
     "metadata": {},
     "output_type": "execute_result"
    }
   ],
   "source": [
    "sum(Comparison_df['Percentage Difference'].values)/len(Comparison_df['Percentage Difference'].values)"
   ]
  },
  {
   "cell_type": "markdown",
   "metadata": {},
   "source": [
    "creating a scatter plot where the x axis is the predicted price and the y axis is the actual price data of the testing set.\n",
    "I also added a best line of fit to show the accuracy"
   ]
  },
  {
   "cell_type": "code",
   "execution_count": 76,
   "metadata": {
    "scrolled": true
   },
   "outputs": [
    {
     "data": {
      "image/png": "[encoded data removed]",
      "text/plain": [
       "<Figure size 432x288 with 1 Axes>"
      ]
     },
     "metadata": {
      "needs_background": "light"
     },
     "output_type": "display_data"
    }
   ],
   "source": [
    "x=best_model.predict(X_test) \n",
    "y=y_test\n",
    "a, b = np.polyfit(x, y, 1)\n",
    "plt.scatter(x, y, color = 'red')\n",
    "plt.plot(x, a*x+b)\n",
    "plt.title('Prediction vs Actual')\n",
    "plt.xlabel('Prediction')\n",
    "plt.ylabel('y_test Value')\n",
    "plt.show()"
   ]
  },
  {
   "cell_type": "markdown",
   "metadata": {},
   "source": [
    "## Recommendation "
   ]
  },
  {
   "cell_type": "markdown",
   "metadata": {},
   "source": [
    "We recommend that Echo Park Automotive used our model to predict the price of used cars. We recommend that they buy used cars which are selling for less than their predicted price. After buying the cars, they can then flip them for the predicted price. They will make money because they have sold cars for more than they have bought them. We also recommend that Echo Park Automotive does not buy cars which are selling for more than their predicted price."
   ]
  },
  {
   "cell_type": "markdown",
   "metadata": {},
   "source": [
    "# Conclusion"
   ]
  },
  {
   "cell_type": "markdown",
   "metadata": {},
   "source": [
    "We essentially used a series of web scraped data to make a model that is capable of monetizing accuracy on a market analysis. Not every car sells for the exact price it should based on its featues. This is due to many variables which are yet to be identified. What we have done is created a way for Echo Park Automotive to accuratley predict the selling price of a used car and to capitalize on the wide range of the selling market. We have created a model that has an R_squared score of 92. That is highly accurate and gives Echo Park Automotive the confidence they need to invest based off of our model. We can see that there were many steps taken into buildign the model including data analysis, data prep, figuring out which kind of model best suits our data, piping some of our data prep into our model tuning and engaging in a grid search to create our most accurate model. What has resulted of this is guide for the business model of Echo Park Automotive.  "
   ]
  },
  {
   "cell_type": "markdown",
   "metadata": {},
   "source": [
    "### Next steps"
   ]
  },
  {
   "cell_type": "markdown",
   "metadata": {},
   "source": [
    "First let's acknowledge that the model is a little bit over fit to the data. This is something we would work on down the road. The main goal moving forward is to apply this concept to many other kinds of assets. There is so much more data out there that we can tap into. The last thing is that we would set a stream of data that is constantly webscraping to update our model. Market's change and shift. In todays world, you need to be constantly ready to evolve or you will get overpowered by a competitor."
   ]
  },
  {
   "cell_type": "code",
   "execution_count": null,
   "metadata": {},
   "outputs": [],
   "source": []
  },
  {
   "cell_type": "code",
   "execution_count": null,
   "metadata": {},
   "outputs": [],
   "source": []
  }
 ],
 "metadata": {
  "kernelspec": {
   "display_name": "Python (learn-env)",
   "language": "python",
   "name": "learn-env"
  },
  "language_info": {
   "codemirror_mode": {
    "name": "ipython",
    "version": 3
   },
   "file_extension": ".py",
   "mimetype": "text/x-python",
   "name": "python",
   "nbconvert_exporter": "python",
   "pygments_lexer": "ipython3",
   "version": "3.8.5"
  }
 },
 "nbformat": 4,
 "nbformat_minor": 4
}
